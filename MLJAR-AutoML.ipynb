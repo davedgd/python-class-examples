{
  "cells": [
    {
      "cell_type": "code",
      "execution_count": 1,
      "id": "b6f9d075-b0c8-46b0-a8cf-db1b56cf1a78",
      "metadata": {
        "colab": {
          "base_uri": "https://localhost:8080/"
        },
        "id": "b6f9d075-b0c8-46b0-a8cf-db1b56cf1a78",
        "outputId": "d53f619c-b05a-464a-ce07-ac17db55c20e"
      },
      "outputs": [
        {
          "output_type": "stream",
          "name": "stdout",
          "text": [
            "\u001b[?25l     \u001b[90m━━━━━━━━━━━━━━━━━━━━━━━━━━━━━━━━━━━━━━━━\u001b[0m \u001b[32m0.0/126.8 kB\u001b[0m \u001b[31m?\u001b[0m eta \u001b[36m-:--:--\u001b[0m\r\u001b[2K     \u001b[91m━━━━━━━━━━━━━━━━━━━\u001b[0m\u001b[90m╺\u001b[0m\u001b[90m━━━━━━━━━━━━━━━━━━━━\u001b[0m \u001b[32m61.4/126.8 kB\u001b[0m \u001b[31m1.8 MB/s\u001b[0m eta \u001b[36m0:00:01\u001b[0m\r\u001b[2K     \u001b[90m━━━━━━━━━━━━━━━━━━━━━━━━━━━━━━━━━━━━━━━━\u001b[0m \u001b[32m126.8/126.8 kB\u001b[0m \u001b[31m1.9 MB/s\u001b[0m eta \u001b[36m0:00:00\u001b[0m\n",
            "\u001b[?25h  Preparing metadata (setup.py) ... \u001b[?25l\u001b[?25hdone\n",
            "  Preparing metadata (setup.py) ... \u001b[?25l\u001b[?25hdone\n",
            "\u001b[2K     \u001b[90m━━━━━━━━━━━━━━━━━━━━━━━━━━━━━━━━━━━━━━━━\u001b[0m \u001b[32m13.0/13.0 MB\u001b[0m \u001b[31m17.4 MB/s\u001b[0m eta \u001b[36m0:00:00\u001b[0m\n",
            "\u001b[2K     \u001b[90m━━━━━━━━━━━━━━━━━━━━━━━━━━━━━━━━━━━━━━━━\u001b[0m \u001b[32m98.5/98.5 MB\u001b[0m \u001b[31m4.9 MB/s\u001b[0m eta \u001b[36m0:00:00\u001b[0m\n",
            "\u001b[2K     \u001b[90m━━━━━━━━━━━━━━━━━━━━━━━━━━━━━━━━━━━━━━━━\u001b[0m \u001b[32m91.8/91.8 kB\u001b[0m \u001b[31m4.2 MB/s\u001b[0m eta \u001b[36m0:00:00\u001b[0m\n",
            "\u001b[2K     \u001b[90m━━━━━━━━━━━━━━━━━━━━━━━━━━━━━━━━━━━━━━━━\u001b[0m \u001b[32m538.2/538.2 kB\u001b[0m \u001b[31m7.8 MB/s\u001b[0m eta \u001b[36m0:00:00\u001b[0m\n",
            "\u001b[2K     \u001b[90m━━━━━━━━━━━━━━━━━━━━━━━━━━━━━━━━━━━━━━━━\u001b[0m \u001b[32m81.9/81.9 kB\u001b[0m \u001b[31m4.7 MB/s\u001b[0m eta \u001b[36m0:00:00\u001b[0m\n",
            "\u001b[2K     \u001b[90m━━━━━━━━━━━━━━━━━━━━━━━━━━━━━━━━━━━━━━━━\u001b[0m \u001b[32m379.9/379.9 kB\u001b[0m \u001b[31m13.3 MB/s\u001b[0m eta \u001b[36m0:00:00\u001b[0m\n",
            "\u001b[2K     \u001b[90m━━━━━━━━━━━━━━━━━━━━━━━━━━━━━━━━━━━━━━━━\u001b[0m \u001b[32m345.4/345.4 kB\u001b[0m \u001b[31m7.4 MB/s\u001b[0m eta \u001b[36m0:00:00\u001b[0m\n",
            "\u001b[?25h  Preparing metadata (setup.py) ... \u001b[?25l\u001b[?25hdone\n",
            "\u001b[2K     \u001b[90m━━━━━━━━━━━━━━━━━━━━━━━━━━━━━━━━━━━━━━━━\u001b[0m \u001b[32m271.5/271.5 kB\u001b[0m \u001b[31m6.3 MB/s\u001b[0m eta \u001b[36m0:00:00\u001b[0m\n",
            "\u001b[2K     \u001b[90m━━━━━━━━━━━━━━━━━━━━━━━━━━━━━━━━━━━━━━━━\u001b[0m \u001b[32m41.3/41.3 kB\u001b[0m \u001b[31m1.5 MB/s\u001b[0m eta \u001b[36m0:00:00\u001b[0m\n",
            "\u001b[2K     \u001b[90m━━━━━━━━━━━━━━━━━━━━━━━━━━━━━━━━━━━━━━━━\u001b[0m \u001b[32m1.6/1.6 MB\u001b[0m \u001b[31m17.0 MB/s\u001b[0m eta \u001b[36m0:00:00\u001b[0m\n",
            "\u001b[2K     \u001b[90m━━━━━━━━━━━━━━━━━━━━━━━━━━━━━━━━━━━━━━━━\u001b[0m \u001b[32m233.4/233.4 kB\u001b[0m \u001b[31m6.9 MB/s\u001b[0m eta \u001b[36m0:00:00\u001b[0m\n",
            "\u001b[2K     \u001b[90m━━━━━━━━━━━━━━━━━━━━━━━━━━━━━━━━━━━━━━━━\u001b[0m \u001b[32m2.0/2.0 MB\u001b[0m \u001b[31m43.8 MB/s\u001b[0m eta \u001b[36m0:00:00\u001b[0m\n",
            "\u001b[2K     \u001b[90m━━━━━━━━━━━━━━━━━━━━━━━━━━━━━━━━━━━━━━━━\u001b[0m \u001b[32m78.7/78.7 kB\u001b[0m \u001b[31m5.2 MB/s\u001b[0m eta \u001b[36m0:00:00\u001b[0m\n",
            "\u001b[2K     \u001b[90m━━━━━━━━━━━━━━━━━━━━━━━━━━━━━━━━━━━━━━━━\u001b[0m \u001b[32m848.9/848.9 kB\u001b[0m \u001b[31m30.5 MB/s\u001b[0m eta \u001b[36m0:00:00\u001b[0m\n",
            "\u001b[2K     \u001b[90m━━━━━━━━━━━━━━━━━━━━━━━━━━━━━━━━━━━━━━━━\u001b[0m \u001b[32m3.0/3.0 MB\u001b[0m \u001b[31m40.3 MB/s\u001b[0m eta \u001b[36m0:00:00\u001b[0m\n",
            "\u001b[?25h  Building wheel for mljar-supervised (setup.py) ... \u001b[?25l\u001b[?25hdone\n",
            "  Building wheel for md2pdf (setup.py) ... \u001b[?25l\u001b[?25hdone\n",
            "  Building wheel for docopt (setup.py) ... \u001b[?25l\u001b[?25hdone\n",
            "\u001b[31mERROR: pip's dependency resolver does not currently take into account all the packages that are installed. This behaviour is the source of the following dependency conflicts.\n",
            "bigframes 0.25.0 requires pandas<2.1.4,>=1.5.0, but you have pandas 2.2.1 which is incompatible.\n",
            "google-colab 1.0.0 requires pandas==1.5.3, but you have pandas 2.2.1 which is incompatible.\u001b[0m\u001b[31m\n",
            "\u001b[0m"
          ]
        }
      ],
      "source": [
        "# note: you may need to install lightgbm manually if you run into issues with pip\n",
        "# see https://lightgbm.readthedocs.io/en/latest/Installation-Guide.html\n",
        "\n",
        "!pip install mljar-supervised statsmodels pandas scikit-learn ipywidgets md2pdf --quiet\n",
        "\n",
        "# alternatively, you may try installing via conda/mamba:\n",
        "\n",
        "# !conda install mljar-supervised statsmodels pandas scikit-learn ipywidgets --quiet --y\n",
        "# or\n",
        "# !mamba install mljar-supervised statsmodels pandas scikit-learn ipywidgets --quiet --y"
      ]
    },
    {
      "cell_type": "code",
      "execution_count": 2,
      "id": "ca6e86d8-28ee-4e84-b6a0-e79286f34ac1",
      "metadata": {
        "id": "ca6e86d8-28ee-4e84-b6a0-e79286f34ac1"
      },
      "outputs": [],
      "source": [
        "import statsmodels.api as sm\n",
        "import pandas as pd\n",
        "import numpy as np\n",
        "from sklearn.model_selection import train_test_split\n",
        "from sklearn.metrics import balanced_accuracy_score, roc_auc_score, ConfusionMatrixDisplay\n",
        "from supervised.automl import AutoML\n",
        "import matplotlib.pyplot as plt\n",
        "\n",
        "import warnings\n",
        "warnings.filterwarnings('ignore', 'The figure layout has changed to tight')\n",
        "\n",
        "import logging\n",
        "logging.getLogger('matplotlib.font_manager').disabled = True"
      ]
    },
    {
      "cell_type": "code",
      "execution_count": 3,
      "id": "6c8c8a17-9ce4-4ad9-95f1-378ee8acbf1f",
      "metadata": {
        "id": "6c8c8a17-9ce4-4ad9-95f1-378ee8acbf1f"
      },
      "outputs": [],
      "source": [
        "# adapted from https://github.com/davedgd/python-class-examples/blob/main/TitanicSurvival_DescriptiveLogisticML.ipynb\n",
        "\n",
        "TitanicSurvival = sm.datasets.get_rdataset('TitanicSurvival', 'carData', cache = True).data\n",
        "\n",
        "Train, Test = train_test_split(TitanicSurvival,\n",
        "                               stratify = TitanicSurvival.survived,\n",
        "                               test_size = 0.20,\n",
        "                               random_state = 345)\n",
        "\n",
        "np.random.seed(345) # to create reproducible results\n",
        "\n",
        "maj_class = np.where(Train.survived == 'no')[0]\n",
        "min_class = np.where(Train.survived == 'yes')[0]\n",
        "\n",
        "resample = np.random.choice(maj_class, size = len(min_class), replace = False)\n",
        "\n",
        "TrainDS = pd.concat([Train.iloc[min_class], Train.iloc[resample]])\n",
        "\n",
        "X_train = TrainDS.drop(columns = 'survived')\n",
        "y_train = TrainDS.survived.replace(['no', 'yes'], ['0', '1']).astype('int')\n",
        "X_test = Test.drop(columns = 'survived')\n",
        "y_test = Test.survived.replace(['no', 'yes'], ['0', '1']).astype('int')"
      ]
    },
    {
      "cell_type": "code",
      "execution_count": 4,
      "id": "f69b25e3-a77d-4b79-9c1e-9fc10f5b49d2",
      "metadata": {
        "colab": {
          "base_uri": "https://localhost:8080/"
        },
        "id": "f69b25e3-a77d-4b79-9c1e-9fc10f5b49d2",
        "outputId": "e7cd6a06-a31a-40ea-d4f1-985c65fb4c93"
      },
      "outputs": [
        {
          "output_type": "stream",
          "name": "stdout",
          "text": [
            "AutoML directory: AutoML_1\n",
            "The task is binary_classification with evaluation metric logloss\n",
            "AutoML will use algorithms: ['Baseline', 'Linear', 'Decision Tree', 'Random Forest', 'Xgboost', 'Neural Network']\n",
            "AutoML will ensemble available models\n",
            "AutoML steps: ['simple_algorithms', 'default_algorithms', 'ensemble']\n",
            "* Step simple_algorithms will try to check up to 3 models\n",
            "1_Baseline logloss 0.693147 trained in 0.93 seconds\n",
            "log_loss_eps() got an unexpected keyword argument 'response_method'\n",
            "Problem during computing permutation importance. Skipping ...\n",
            "2_DecisionTree logloss 0.495823 trained in 12.24 seconds\n",
            "log_loss_eps() got an unexpected keyword argument 'response_method'\n",
            "Problem during computing permutation importance. Skipping ...\n",
            "3_Linear logloss 0.456719 trained in 10.57 seconds\n",
            "* Step default_algorithms will try to check up to 3 models\n",
            "log_loss_eps() got an unexpected keyword argument 'response_method'\n",
            "Problem during computing permutation importance. Skipping ...\n",
            "4_Default_Xgboost logloss 0.445369 trained in 3.32 seconds\n",
            "log_loss_eps() got an unexpected keyword argument 'response_method'\n",
            "Problem during computing permutation importance. Skipping ...\n",
            "5_Default_NeuralNetwork logloss 0.427873 trained in 3.16 seconds\n",
            "log_loss_eps() got an unexpected keyword argument 'response_method'\n",
            "Problem during computing permutation importance. Skipping ...\n",
            "6_Default_RandomForest logloss 0.426804 trained in 3.96 seconds\n",
            "* Step ensemble will try to check up to 1 model\n",
            "Ensemble logloss 0.420932 trained in 2.89 seconds\n",
            "AutoML fit time: 57.26 seconds\n",
            "AutoML best model: Ensemble\n"
          ]
        }
      ],
      "source": [
        "# note: see results in file browser\n",
        "automl = AutoML(mode = 'Explain')\n",
        "automl.fit(X_train, y_train)\n",
        "\n",
        "predictions = automl.predict(X_test)\n",
        "probabilities = automl.predict_proba(X_test)[:, 1]"
      ]
    },
    {
      "cell_type": "code",
      "execution_count": 5,
      "id": "1736847c-5bb1-4556-b52a-396a3529ad76",
      "metadata": {
        "colab": {
          "base_uri": "https://localhost:8080/",
          "height": 449
        },
        "id": "1736847c-5bb1-4556-b52a-396a3529ad76",
        "outputId": "a65f22e7-87ac-45d9-8869-797e6f1f5731"
      },
      "outputs": [
        {
          "output_type": "display_data",
          "data": {
            "text/plain": [
              "<Figure size 640x480 with 2 Axes>"
            ],
            "image/png": "[encoded data removed]"
          },
          "metadata": {}
        }
      ],
      "source": [
        "%matplotlib inline\n",
        "\n",
        "ConfusionMatrixDisplay.from_predictions(y_true = y_test,\n",
        "                                        y_pred = predictions,\n",
        "                                        cmap = plt.cm.Blues);"
      ]
    },
    {
      "cell_type": "code",
      "execution_count": 6,
      "id": "aa407d8f-b71f-4819-aeca-440d0640f900",
      "metadata": {
        "colab": {
          "base_uri": "https://localhost:8080/"
        },
        "id": "aa407d8f-b71f-4819-aeca-440d0640f900",
        "outputId": "37400031-4201-4d36-9a1a-fd600d81c32d"
      },
      "outputs": [
        {
          "output_type": "execute_result",
          "data": {
            "text/plain": [
              "0.748"
            ]
          },
          "metadata": {},
          "execution_count": 6
        }
      ],
      "source": [
        "balanced_accuracy_score(y_test, predictions).round(3)"
      ]
    },
    {
      "cell_type": "code",
      "execution_count": 7,
      "id": "c2afcf25-405b-449e-8ef1-6f28e2de64e7",
      "metadata": {
        "colab": {
          "base_uri": "https://localhost:8080/"
        },
        "id": "c2afcf25-405b-449e-8ef1-6f28e2de64e7",
        "outputId": "7886d1ba-736b-4a34-aee4-8641d43feb0c"
      },
      "outputs": [
        {
          "output_type": "execute_result",
          "data": {
            "text/plain": [
              "0.834"
            ]
          },
          "metadata": {},
          "execution_count": 7
        }
      ],
      "source": [
        "roc_auc_score(y_test, probabilities).round(3)"
      ]
    },
    {
      "cell_type": "code",
      "execution_count": 8,
      "id": "0b4e78a1-2993-4f0a-8ff1-90d49f7fb222",
      "metadata": {
        "id": "0b4e78a1-2993-4f0a-8ff1-90d49f7fb222"
      },
      "outputs": [],
      "source": [
        "# markdown to pdf report conversion (optional)\n",
        "# note: you may need to refresh the file browser to see the output\n",
        "\n",
        "result_folder = 'AutoML_1'\n",
        "\n",
        "if 'google.colab' in str(get_ipython()):\n",
        "    from md2pdf.core import md2pdf\n",
        "\n",
        "    css = '''\n",
        "    @media print{\n",
        "      img {\n",
        "        width: 100%;\n",
        "        height: 100%;\n",
        "      }\n",
        "\n",
        "      body {\n",
        "        font-size: 80%;\n",
        "      }\n",
        "    }\n",
        "    '''\n",
        "\n",
        "    with open(\"md2pdf.css\", 'w') as f:\n",
        "        f.write(css)\n",
        "\n",
        "    md2pdf(pdf_file_path = './' + result_folder + '_Results.pdf',\n",
        "           md_content = None,\n",
        "           md_file_path = './' + result_folder + '/README.md',\n",
        "           css_file_path = './md2pdf.css',\n",
        "           base_url = './' + result_folder)"
      ]
    },
    {
      "cell_type": "code",
      "execution_count": 8,
      "id": "67d96b3f-0844-4dec-a6af-1d43d1db3910",
      "metadata": {
        "id": "67d96b3f-0844-4dec-a6af-1d43d1db3910"
      },
      "outputs": [],
      "source": []
    }
  ],
  "metadata": {
    "kernelspec": {
      "display_name": "Python 3 (ipykernel)",
      "language": "python",
      "name": "python3"
    },
    "language_info": {
      "codemirror_mode": {
        "name": "ipython",
        "version": 3
      },
      "file_extension": ".py",
      "mimetype": "text/x-python",
      "name": "python",
      "nbconvert_exporter": "python",
      "pygments_lexer": "ipython3",
      "version": "3.10.12"
    },
    "colab": {
      "provenance": []
    }
  },
  "nbformat": 4,
  "nbformat_minor": 5
}
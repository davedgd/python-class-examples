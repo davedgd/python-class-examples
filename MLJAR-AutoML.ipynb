{
 "cells": [
  {
   "cell_type": "code",
   "execution_count": 1,
   "id": "b6f9d075-b0c8-46b0-a8cf-db1b56cf1a78",
   "metadata": {},
   "outputs": [],
   "source": [
    "# note: you may need to install lightgbm manually if you run into issues with pip\n",
    "# see https://lightgbm.readthedocs.io/en/latest/Installation-Guide.html\n",
    "\n",
    "!pip install mljar-supervised statsmodels pandas scikit-learn ipywidgets md2pdf --quiet\n",
    "!pip install scikit-learn==1.2.2 --quiet # needed to avoid warnings until mljar-supervised is updated for scikit-learn 1.3.0+\n",
    "\n",
    "# alternatively, you may try installing via conda/mamba:\n",
    "\n",
    "# !conda install mljar-supervised statsmodels pandas scikit-learn --quiet\n",
    "# or\n",
    "# !mamba install mljar-supervised statsmodels pandas scikit-learn --quiet"
   ]
  },
  {
   "cell_type": "code",
   "execution_count": 2,
   "id": "ca6e86d8-28ee-4e84-b6a0-e79286f34ac1",
   "metadata": {},
   "outputs": [
    {
     "name": "stderr",
     "output_type": "stream",
     "text": [
      "Using `tqdm.autonotebook.tqdm` in notebook mode. Use `tqdm.tqdm` instead to force console mode (e.g. in jupyter console)\n"
     ]
    }
   ],
   "source": [
    "import statsmodels.api as sm\n",
    "import pandas as pd\n",
    "import numpy as np\n",
    "from sklearn.model_selection import train_test_split\n",
    "from sklearn.metrics import balanced_accuracy_score, ConfusionMatrixDisplay\n",
    "from supervised.automl import AutoML\n",
    "import matplotlib.pyplot as plt\n",
    "\n",
    "import warnings\n",
    "warnings.filterwarnings('ignore', 'The figure layout has changed to tight')"
   ]
  },
  {
   "cell_type": "code",
   "execution_count": 3,
   "id": "6c8c8a17-9ce4-4ad9-95f1-378ee8acbf1f",
   "metadata": {},
   "outputs": [],
   "source": [
    "# adapted from https://github.com/davedgd/python-class-examples/blob/main/TitanicSurvival_DescriptiveLogisticML.ipynb \n",
    "\n",
    "TitanicSurvival = sm.datasets.get_rdataset('TitanicSurvival', 'carData', cache = True).data\n",
    "\n",
    "Train, Test = train_test_split(TitanicSurvival, \n",
    "                               stratify = TitanicSurvival.survived,\n",
    "                               test_size = 0.20, \n",
    "                               random_state = 345)\n",
    "\n",
    "np.random.seed(345) # to create reproducible results\n",
    "\n",
    "maj_class = np.where(Train.survived == 'no')[0]\n",
    "min_class = np.where(Train.survived == 'yes')[0]\n",
    "\n",
    "resample = np.random.choice(maj_class, size = len(min_class), replace = False)\n",
    "\n",
    "TrainDS = pd.concat([Train.iloc[min_class], Train.iloc[resample]])\n",
    "\n",
    "X_train = TrainDS.drop(columns = 'survived')\n",
    "y_train = TrainDS.survived.replace(['no', 'yes'], [0, 1])\n",
    "X_test = Test.drop(columns = 'survived')\n",
    "y_test = Test.survived.replace(['no', 'yes'], [0, 1])"
   ]
  },
  {
   "cell_type": "code",
   "execution_count": 4,
   "id": "f69b25e3-a77d-4b79-9c1e-9fc10f5b49d2",
   "metadata": {},
   "outputs": [
    {
     "name": "stdout",
     "output_type": "stream",
     "text": [
      "AutoML directory: AutoML_1\n",
      "The task is binary_classification with evaluation metric logloss\n",
      "AutoML will use algorithms: ['Baseline', 'Linear', 'Decision Tree', 'Random Forest', 'Xgboost', 'Neural Network']\n",
      "AutoML will ensemble available models\n",
      "AutoML steps: ['simple_algorithms', 'default_algorithms', 'ensemble']\n",
      "* Step simple_algorithms will try to check up to 3 models\n",
      "1_Baseline logloss 0.693147 trained in 0.2 seconds\n",
      "2_DecisionTree logloss 0.485189 trained in 3.04 seconds\n",
      "3_Linear logloss 0.456719 trained in 2.53 seconds\n",
      "* Step default_algorithms will try to check up to 3 models\n",
      "4_Default_Xgboost logloss 0.445369 trained in 2.4 seconds\n",
      "5_Default_NeuralNetwork logloss 0.427873 trained in 2.45 seconds\n",
      "6_Default_RandomForest logloss 0.426804 trained in 3.27 seconds\n",
      "* Step ensemble will try to check up to 1 model\n",
      "Ensemble logloss 0.420932 trained in 0.78 seconds\n",
      "AutoML fit time: 18.29 seconds\n",
      "AutoML best model: Ensemble\n"
     ]
    }
   ],
   "source": [
    "# note: see results in file browser\n",
    "automl = AutoML(mode = 'Explain')\n",
    "automl.fit(X_train, y_train)\n",
    "\n",
    "predictions = automl.predict(X_test)"
   ]
  },
  {
   "cell_type": "code",
   "execution_count": 5,
   "id": "1736847c-5bb1-4556-b52a-396a3529ad76",
   "metadata": {},
   "outputs": [
    {
     "data": {
      "text/plain": [
       "<sklearn.metrics._plot.confusion_matrix.ConfusionMatrixDisplay at 0x7f3366b52860>"
      ]
     },
     "execution_count": 5,
     "metadata": {},
     "output_type": "execute_result"
    },
    {
     "data": {
      "image/png": "[encoded data removed]",
      "text/plain": [
       "<Figure size 640x480 with 2 Axes>"
      ]
     },
     "metadata": {},
     "output_type": "display_data"
    }
   ],
   "source": [
    "ConfusionMatrixDisplay.from_predictions(y_true = y_test, \n",
    "                                        y_pred = predictions, \n",
    "                                        cmap = plt.cm.Blues)"
   ]
  },
  {
   "cell_type": "code",
   "execution_count": 6,
   "id": "aa407d8f-b71f-4819-aeca-440d0640f900",
   "metadata": {},
   "outputs": [
    {
     "data": {
      "text/plain": [
       "0.748"
      ]
     },
     "execution_count": 6,
     "metadata": {},
     "output_type": "execute_result"
    }
   ],
   "source": [
    "balanced_accuracy_score(y_test, predictions).round(3)"
   ]
  },
  {
   "cell_type": "code",
   "execution_count": 7,
   "id": "0b4e78a1-2993-4f0a-8ff1-90d49f7fb222",
   "metadata": {},
   "outputs": [],
   "source": [
    "# markdown to pdf report conversion (optional)\n",
    "# note: you may need to refresh the file browser to see the output\n",
    "\n",
    "result_folder = 'AutoML_1'\n",
    "\n",
    "if 'google.colab' in str(get_ipython()):\n",
    "    from md2pdf.core import md2pdf\n",
    "    \n",
    "    css = '''\n",
    "    @media print{\n",
    "      img {\n",
    "        width: 100%;\n",
    "        height: 100%;\n",
    "      }\n",
    "    \n",
    "      body {\n",
    "        font-size: 80%;\n",
    "      }\n",
    "    }\n",
    "    '''\n",
    "    \n",
    "    with open(\"md2pdf.css\", 'w') as f:\n",
    "        f.write(css)\n",
    "    \n",
    "    md2pdf(pdf_file_path = './' + result_folder + '_Results.pdf',\n",
    "           md_content = None,\n",
    "           md_file_path = './' + result_folder + '/README.md',\n",
    "           css_file_path = './md2pdf.css',\n",
    "           base_url = './' + result_folder)"
   ]
  },
  {
   "cell_type": "code",
   "execution_count": null,
   "id": "67d96b3f-0844-4dec-a6af-1d43d1db3910",
   "metadata": {},
   "outputs": [],
   "source": []
  }
 ],
 "metadata": {
  "kernelspec": {
   "display_name": "Python 3 (ipykernel)",
   "language": "python",
   "name": "python3"
  },
  "language_info": {
   "codemirror_mode": {
    "name": "ipython",
    "version": 3
   },
   "file_extension": ".py",
   "mimetype": "text/x-python",
   "name": "python",
   "nbconvert_exporter": "python",
   "pygments_lexer": "ipython3",
   "version": "3.10.12"
  }
 },
 "nbformat": 4,
 "nbformat_minor": 5
}

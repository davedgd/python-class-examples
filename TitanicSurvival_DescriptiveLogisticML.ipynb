{
 "cells": [
  {
   "cell_type": "markdown",
   "metadata": {},
   "source": [
    "## **TitanicSurvival: Descriptive Analysis, Logistic Regression, and Machine Learning**\n",
    "---\n",
    "**Author:** David Dobolyi\n",
    "\n",
    "**Key Concepts**\n",
    "- [Introduction](#Introduction)\n",
    "- [Package Imports](#Package-Imports)\n",
    "- [Load Data](#Load-Data)\n",
    "- [Descriptive Analysis](#Descriptive-Analysis)\n",
    "- [Logistic Regression](#Logistic-Regression)\n",
    "- [Supervised Machine Learning](#Supervised-Machine-Learning)\n",
    "- [Comparing Methods](#Comparing-Methods)"
   ]
  },
  {
   "cell_type": "markdown",
   "metadata": {},
   "source": [
    "---\n",
    "### Introduction\n",
    "\n",
    "This script provides an example of how to analyze the TitanicSurvival data set (available in the [carData](https://cran.r-project.org/web/packages/carData/index.html) R package) in three different ways:\n",
    "\n",
    "1. Descriptive Analysis\n",
    "2. Logistic Regression\n",
    "3. Machine Learning (Supervised)\n",
    "\n",
    "The descriptive analysis section was inspired by an older version (~2013) of the Harvard IQSS Introduction to R graphics with ggplot2 by Ista Zahn (see [GitHub](https://github.com/IQSS/dss-workshops) for current versions). The subsequent sections are novel and build on that visual analysis demonstration.\n",
    "\n",
    "The overall purpose of this script is to help understand how different types of analytical techniques can be combined (or used independently) to find interesting insights that should converge in terms of findings."
   ]
  },
  {
   "cell_type": "code",
   "execution_count": 1,
   "metadata": {},
   "outputs": [],
   "source": [
    "# !conda install statsmodels seaborn scikit-learn graphviz python-graphviz -y\n",
    "# or\n",
    "# !pip install statsmodels seaborn scikit-learn graphviz --quiet"
   ]
  },
  {
   "cell_type": "code",
   "execution_count": 2,
   "metadata": {},
   "outputs": [],
   "source": [
    "import statsmodels.api as sm\n",
    "import statsmodels.formula.api as smf\n",
    "\n",
    "import seaborn as sns\n",
    "\n",
    "import matplotlib.pyplot as plt\n",
    "\n",
    "import pandas as pd\n",
    "import numpy as np\n",
    "import math\n",
    "\n",
    "from matplotlib import pyplot\n",
    "from matplotlib.colors import LinearSegmentedColormap\n",
    "import matplotlib.cm as cm\n",
    "\n",
    "from sklearn.model_selection import train_test_split, GridSearchCV, StratifiedKFold\n",
    "from sklearn.feature_selection import VarianceThreshold\n",
    "from sklearn.preprocessing import OneHotEncoder\n",
    "from sklearn.impute import SimpleImputer\n",
    "from sklearn.tree import DecisionTreeClassifier\n",
    "from sklearn.ensemble import RandomForestClassifier, AdaBoostClassifier\n",
    "from sklearn.svm import SVC\n",
    "from sklearn.metrics import balanced_accuracy_score, roc_auc_score, roc_curve, RocCurveDisplay, confusion_matrix, ConfusionMatrixDisplay, classification_report, recall_score, f1_score, accuracy_score\n",
    "from sklearn import tree\n",
    "\n",
    "from IPython.display import Image"
   ]
  },
  {
   "cell_type": "markdown",
   "metadata": {},
   "source": [
    "### Load Data\n",
    "\n",
    "To fetch the data, we'll use the statsmodels package to import from [Rdatasets](https://vincentarelbundock.github.io/Rdatasets/):"
   ]
  },
  {
   "cell_type": "code",
   "execution_count": 3,
   "metadata": {},
   "outputs": [
    {
     "name": "stdout",
     "output_type": "stream",
     "text": [
      "=============== ===============\n",
      "TitanicSurvival R Documentation\n",
      "=============== ===============\n",
      "\n",
      "Survival of Passengers on the Titanic\n",
      "-------------------------------------\n",
      "\n",
      "Description\n",
      "~~~~~~~~~~~\n",
      "\n",
      "Information on the survival status, sex, age, and passenger class of\n",
      "1309 passengers in the Titanic disaster of 1912.\n",
      "\n",
      "Usage\n",
      "~~~~~\n",
      "\n",
      "::\n",
      "\n",
      "   TitanicSurvival\n",
      "\n",
      "Format\n",
      "~~~~~~\n",
      "\n",
      "A data frame with 1309 observations on the following 4 variables.\n",
      "\n",
      "``survived``\n",
      "   ``no`` or ``yes``.\n",
      "\n",
      "``sex``\n",
      "   ``female`` or ``male``\n",
      "\n",
      "``age``\n",
      "   in years (and for some children, fractions of a year); age is missing\n",
      "   for 263 of the passengers.\n",
      "\n",
      "``passengerClass``\n",
      "   ``1st``, ``2nd``, or ``3rd`` class.\n",
      "\n",
      "Details\n",
      "~~~~~~~\n",
      "\n",
      "This is part of a larger data set compiled by Thomas Cason. Many\n",
      "additional details are given in the sources cited below.\n",
      "\n",
      "Source\n",
      "~~~~~~\n",
      "\n",
      "Data set ``titanic3`` from\n",
      "http://biostat.mc.vanderbilt.edu/twiki/bin/view/Main/DataSets.\n",
      "\n",
      "References\n",
      "~~~~~~~~~~\n",
      "\n",
      "http://www.encyclopedia-titanica.org/\n",
      "\n",
      "F. E. Harrell, Jr. (2001) *Regression Modeling Strategies* New York:\n",
      "Springer.\n",
      "\n",
      "Examples\n",
      "~~~~~~~~\n",
      "\n",
      "::\n",
      "\n",
      "   summary(TitanicSurvival)\n",
      "\n"
     ]
    }
   ],
   "source": [
    "ImportTitanicSurvival = sm.datasets.get_rdataset('TitanicSurvival', 'carData', cache = True)\n",
    "\n",
    "print(ImportTitanicSurvival.__doc__) # pull up the documentation"
   ]
  },
  {
   "cell_type": "code",
   "execution_count": 4,
   "metadata": {},
   "outputs": [
    {
     "data": {
      "text/plain": [
       "pandas.core.frame.DataFrame"
      ]
     },
     "execution_count": 4,
     "metadata": {},
     "output_type": "execute_result"
    }
   ],
   "source": [
    "TitanicSurvival = ImportTitanicSurvival.data # place the data in bespoke variable\n",
    "\n",
    "type(TitanicSurvival)"
   ]
  },
  {
   "cell_type": "code",
   "execution_count": 5,
   "metadata": {},
   "outputs": [
    {
     "data": {
      "text/plain": [
       "survived           object\n",
       "sex                object\n",
       "age               float64\n",
       "passengerClass     object\n",
       "dtype: object"
      ]
     },
     "execution_count": 5,
     "metadata": {},
     "output_type": "execute_result"
    }
   ],
   "source": [
    "TitanicSurvival.dtypes"
   ]
  },
  {
   "cell_type": "code",
   "execution_count": 6,
   "metadata": {},
   "outputs": [
    {
     "data": {
      "text/html": [
       "<div>\n",
       "<style scoped>\n",
       "    .dataframe tbody tr th:only-of-type {\n",
       "        vertical-align: middle;\n",
       "    }\n",
       "\n",
       "    .dataframe tbody tr th {\n",
       "        vertical-align: top;\n",
       "    }\n",
       "\n",
       "    .dataframe thead th {\n",
       "        text-align: right;\n",
       "    }\n",
       "</style>\n",
       "<table border=\"1\" class=\"dataframe\">\n",
       "  <thead>\n",
       "    <tr style=\"text-align: right;\">\n",
       "      <th></th>\n",
       "      <th>survived</th>\n",
       "      <th>sex</th>\n",
       "      <th>age</th>\n",
       "      <th>passengerClass</th>\n",
       "    </tr>\n",
       "  </thead>\n",
       "  <tbody>\n",
       "    <tr>\n",
       "      <th>Allen, Miss. Elisabeth Walton</th>\n",
       "      <td>yes</td>\n",
       "      <td>female</td>\n",
       "      <td>29.0000</td>\n",
       "      <td>1st</td>\n",
       "    </tr>\n",
       "    <tr>\n",
       "      <th>Allison, Master. Hudson Trevor</th>\n",
       "      <td>yes</td>\n",
       "      <td>male</td>\n",
       "      <td>0.9167</td>\n",
       "      <td>1st</td>\n",
       "    </tr>\n",
       "    <tr>\n",
       "      <th>Allison, Miss. Helen Loraine</th>\n",
       "      <td>no</td>\n",
       "      <td>female</td>\n",
       "      <td>2.0000</td>\n",
       "      <td>1st</td>\n",
       "    </tr>\n",
       "    <tr>\n",
       "      <th>Allison, Mr. Hudson Joshua Crei</th>\n",
       "      <td>no</td>\n",
       "      <td>male</td>\n",
       "      <td>30.0000</td>\n",
       "      <td>1st</td>\n",
       "    </tr>\n",
       "    <tr>\n",
       "      <th>Allison, Mrs. Hudson J C (Bessi</th>\n",
       "      <td>no</td>\n",
       "      <td>female</td>\n",
       "      <td>25.0000</td>\n",
       "      <td>1st</td>\n",
       "    </tr>\n",
       "  </tbody>\n",
       "</table>\n",
       "</div>"
      ],
      "text/plain": [
       "                                survived     sex      age passengerClass\n",
       "Allen, Miss. Elisabeth Walton        yes  female  29.0000            1st\n",
       "Allison, Master. Hudson Trevor       yes    male   0.9167            1st\n",
       "Allison, Miss. Helen Loraine          no  female   2.0000            1st\n",
       "Allison, Mr. Hudson Joshua Crei       no    male  30.0000            1st\n",
       "Allison, Mrs. Hudson J C (Bessi       no  female  25.0000            1st"
      ]
     },
     "execution_count": 6,
     "metadata": {},
     "output_type": "execute_result"
    }
   ],
   "source": [
    "TitanicSurvival.head()"
   ]
  },
  {
   "cell_type": "markdown",
   "metadata": {},
   "source": [
    "### Descriptive Analysis\n",
    "\n",
    "Now that we have fetched the data, let's conduct a visual analysis.\n",
    "\n",
    "First, let's create a new variable roundedAge and compute the proportion of surviving passengers split up by various groups:"
   ]
  },
  {
   "cell_type": "code",
   "execution_count": 7,
   "metadata": {},
   "outputs": [],
   "source": [
    "plotDat = (TitanicSurvival.\n",
    "           assign(roundedAge = TitanicSurvival.age.round(-1)).\n",
    "           groupby(['passengerClass', 'roundedAge', 'sex']).\n",
    "           apply(lambda x: len(x.survived[x.survived == 'yes'])/len(x.survived)).\n",
    "           reset_index().\n",
    "           rename(columns = {0: 'proportionSurvived'}))"
   ]
  },
  {
   "cell_type": "code",
   "execution_count": 8,
   "metadata": {},
   "outputs": [
    {
     "data": {
      "text/html": [
       "<div>\n",
       "<style scoped>\n",
       "    .dataframe tbody tr th:only-of-type {\n",
       "        vertical-align: middle;\n",
       "    }\n",
       "\n",
       "    .dataframe tbody tr th {\n",
       "        vertical-align: top;\n",
       "    }\n",
       "\n",
       "    .dataframe thead th {\n",
       "        text-align: right;\n",
       "    }\n",
       "</style>\n",
       "<table border=\"1\" class=\"dataframe\">\n",
       "  <thead>\n",
       "    <tr style=\"text-align: right;\">\n",
       "      <th></th>\n",
       "      <th>passengerClass</th>\n",
       "      <th>roundedAge</th>\n",
       "      <th>sex</th>\n",
       "      <th>proportionSurvived</th>\n",
       "    </tr>\n",
       "  </thead>\n",
       "  <tbody>\n",
       "    <tr>\n",
       "      <th>8</th>\n",
       "      <td>1st</td>\n",
       "      <td>40.0</td>\n",
       "      <td>female</td>\n",
       "      <td>0.972222</td>\n",
       "    </tr>\n",
       "    <tr>\n",
       "      <th>10</th>\n",
       "      <td>1st</td>\n",
       "      <td>50.0</td>\n",
       "      <td>female</td>\n",
       "      <td>0.952381</td>\n",
       "    </tr>\n",
       "    <tr>\n",
       "      <th>46</th>\n",
       "      <td>3rd</td>\n",
       "      <td>70.0</td>\n",
       "      <td>male</td>\n",
       "      <td>0.000000</td>\n",
       "    </tr>\n",
       "    <tr>\n",
       "      <th>19</th>\n",
       "      <td>2nd</td>\n",
       "      <td>10.0</td>\n",
       "      <td>female</td>\n",
       "      <td>1.000000</td>\n",
       "    </tr>\n",
       "    <tr>\n",
       "      <th>29</th>\n",
       "      <td>2nd</td>\n",
       "      <td>60.0</td>\n",
       "      <td>female</td>\n",
       "      <td>0.333333</td>\n",
       "    </tr>\n",
       "  </tbody>\n",
       "</table>\n",
       "</div>"
      ],
      "text/plain": [
       "   passengerClass  roundedAge     sex  proportionSurvived\n",
       "8             1st        40.0  female            0.972222\n",
       "10            1st        50.0  female            0.952381\n",
       "46            3rd        70.0    male            0.000000\n",
       "19            2nd        10.0  female            1.000000\n",
       "29            2nd        60.0  female            0.333333"
      ]
     },
     "execution_count": 8,
     "metadata": {},
     "output_type": "execute_result"
    }
   ],
   "source": [
    "plotDat.sample(5)"
   ]
  },
  {
   "cell_type": "markdown",
   "metadata": {},
   "source": [
    "Let's use this to plot proportionSurvived relative to roundedAge as a point plot:"
   ]
  },
  {
   "cell_type": "code",
   "execution_count": 9,
   "metadata": {},
   "outputs": [
    {
     "data": {
      "text/plain": [
       "<AxesSubplot:xlabel='roundedAge', ylabel='proportionSurvived'>"
      ]
     },
     "execution_count": 9,
     "metadata": {},
     "output_type": "execute_result"
    },
    {
     "data": {
      "image/png": "[encoded data removed]",
      "text/plain": [
       "<Figure size 504x432 with 1 Axes>"
      ]
     },
     "metadata": {},
     "output_type": "display_data"
    }
   ],
   "source": [
    "sns.set(rc = {'figure.figsize': (7, 6)},\n",
    "        font_scale = 1.25) # increase text size on plots (e.g., axis labels)\n",
    "sns.set_style('whitegrid')\n",
    "\n",
    "sns.scatterplot(\n",
    "    x = 'roundedAge',\n",
    "    y = 'proportionSurvived',\n",
    "    s = 150, # adjust point size\n",
    "    data = plotDat)"
   ]
  },
  {
   "cell_type": "markdown",
   "metadata": {},
   "source": [
    "What do you see?\n",
    "\n",
    "Now let's re-plot but shape the points relative to passenger sex and color the points relative to passengerClass:"
   ]
  },
  {
   "cell_type": "code",
   "execution_count": 10,
   "metadata": {},
   "outputs": [
    {
     "data": {
      "text/plain": [
       "<matplotlib.legend.Legend at 0x10aea6310>"
      ]
     },
     "execution_count": 10,
     "metadata": {},
     "output_type": "execute_result"
    },
    {
     "data": {
      "image/png": "[encoded data removed]",
      "text/plain": [
       "<Figure size 504x432 with 1 Axes>"
      ]
     },
     "metadata": {},
     "output_type": "display_data"
    }
   ],
   "source": [
    "p = sns.scatterplot(\n",
    "    x = 'roundedAge',\n",
    "    y = 'proportionSurvived',\n",
    "    s = 150,\n",
    "    style = 'sex',\n",
    "    hue = 'passengerClass',\n",
    "    data = plotDat)\n",
    "\n",
    "p.legend(loc = 'center right', bbox_to_anchor = (1.5, 0.5), ncol = 1) # move legend outside of plot"
   ]
  },
  {
   "cell_type": "markdown",
   "metadata": {},
   "source": [
    "Now what do you see?\n",
    "\n",
    "Let's re-plot yet again, but this time add faceting by passengerClass rather than using it for color but instead color by sex as well:"
   ]
  },
  {
   "cell_type": "code",
   "execution_count": 11,
   "metadata": {},
   "outputs": [
    {
     "data": {
      "text/plain": [
       "<seaborn.axisgrid.FacetGrid at 0x126c9ddf0>"
      ]
     },
     "execution_count": 11,
     "metadata": {},
     "output_type": "execute_result"
    },
    {
     "data": {
      "image/png": "[encoded data removed]",
      "text/plain": [
       "<Figure size 1171x360 with 3 Axes>"
      ]
     },
     "metadata": {},
     "output_type": "display_data"
    }
   ],
   "source": [
    "sns.relplot(\n",
    "    x = 'roundedAge',\n",
    "    y = 'proportionSurvived',\n",
    "    s = 150,\n",
    "    style = 'sex',\n",
    "    hue = 'sex',\n",
    "    col = 'passengerClass',\n",
    "    kind = 'scatter',\n",
    "    data = plotDat)"
   ]
  },
  {
   "cell_type": "markdown",
   "metadata": {},
   "source": [
    "Finally, let's re-plot one final time, but this time facet by sex relative to passengerClass:"
   ]
  },
  {
   "cell_type": "code",
   "execution_count": 12,
   "metadata": {},
   "outputs": [
    {
     "data": {
      "text/plain": [
       "<seaborn.axisgrid.FacetGrid at 0x10aea6c10>"
      ]
     },
     "execution_count": 12,
     "metadata": {},
     "output_type": "execute_result"
    },
    {
     "data": {
      "image/png": "[encoded data removed]",
      "text/plain": [
       "<Figure size 1171x720 with 6 Axes>"
      ]
     },
     "metadata": {},
     "output_type": "display_data"
    }
   ],
   "source": [
    "sns.relplot(\n",
    "    x = 'roundedAge',\n",
    "    y = 'proportionSurvived',\n",
    "    s = 150,\n",
    "    style = 'sex',\n",
    "    hue = 'sex',\n",
    "    col = 'passengerClass',\n",
    "    row = 'sex',\n",
    "    kind = 'scatter',\n",
    "    data = plotDat)"
   ]
  },
  {
   "cell_type": "markdown",
   "metadata": {},
   "source": [
    "What would be your takeaway from the final figure?"
   ]
  },
  {
   "cell_type": "markdown",
   "metadata": {},
   "source": [
    "## Logistic Regression\n",
    "\n",
    "To run a logistic regression analysis, we should first consider and handle missing observations:"
   ]
  },
  {
   "cell_type": "code",
   "execution_count": 13,
   "metadata": {},
   "outputs": [
    {
     "data": {
      "text/plain": [
       "1309"
      ]
     },
     "execution_count": 13,
     "metadata": {},
     "output_type": "execute_result"
    }
   ],
   "source": [
    "len(TitanicSurvival)"
   ]
  },
  {
   "cell_type": "code",
   "execution_count": 14,
   "metadata": {},
   "outputs": [
    {
     "data": {
      "text/plain": [
       "1046"
      ]
     },
     "execution_count": 14,
     "metadata": {},
     "output_type": "execute_result"
    }
   ],
   "source": [
    "len(TitanicSurvival.dropna())"
   ]
  },
  {
   "cell_type": "code",
   "execution_count": 15,
   "metadata": {},
   "outputs": [
    {
     "data": {
      "text/plain": [
       "0.201"
      ]
     },
     "execution_count": 15,
     "metadata": {},
     "output_type": "execute_result"
    }
   ],
   "source": [
    "round(1 - len(TitanicSurvival.dropna())/len(TitanicSurvival), 3)"
   ]
  },
  {
   "cell_type": "code",
   "execution_count": 16,
   "metadata": {},
   "outputs": [
    {
     "data": {
      "text/plain": [
       "survived          0.000\n",
       "sex               0.000\n",
       "age               0.201\n",
       "passengerClass    0.000\n",
       "dtype: float64"
      ]
     },
     "execution_count": 16,
     "metadata": {},
     "output_type": "execute_result"
    }
   ],
   "source": [
    "round(TitanicSurvival.isna().sum()/len(TitanicSurvival), 3)"
   ]
  },
  {
   "cell_type": "markdown",
   "metadata": {},
   "source": [
    "Approximately 20.1% of the rows have missing data in the age column. While this is a relatively high amount, we still have over 1,000 rows if we perform *listwise deletion* of missing data, so for this example, we'll do so rather than looking into other methods such as imputation:"
   ]
  },
  {
   "cell_type": "code",
   "execution_count": 17,
   "metadata": {},
   "outputs": [],
   "source": [
    "TitanicSurvivalNoNaNs = TitanicSurvival.dropna()"
   ]
  },
  {
   "cell_type": "markdown",
   "metadata": {},
   "source": [
    "Now let's look at our dependent variable (DV), survived, and confirm it is actually binomial:"
   ]
  },
  {
   "cell_type": "code",
   "execution_count": 18,
   "metadata": {},
   "outputs": [
    {
     "data": {
      "text/plain": [
       "survived\n",
       "no     619\n",
       "yes    427\n",
       "dtype: int64"
      ]
     },
     "execution_count": 18,
     "metadata": {},
     "output_type": "execute_result"
    }
   ],
   "source": [
    "TitanicSurvivalNoNaNs.groupby('survived').size()"
   ]
  },
  {
   "cell_type": "markdown",
   "metadata": {},
   "source": [
    "Looks good! Let's also explicitly set the reference level for the DV to make sure our subsequent interpretation is correct:"
   ]
  },
  {
   "cell_type": "code",
   "execution_count": 19,
   "metadata": {},
   "outputs": [],
   "source": [
    "TitanicSurvivalNoNaNs = (TitanicSurvivalNoNaNs.\n",
    "                         assign(survived = pd.Categorical(TitanicSurvivalNoNaNs.survived, \n",
    "                                                          categories = ['yes', 'no']))) # the resulting coding will be: yes = 1; no = 0"
   ]
  },
  {
   "cell_type": "markdown",
   "metadata": {},
   "source": [
    "We are now ready to fit some models. We'll be looking at three models based on our predictors passengerClass, sex, and age:\n",
    "\n",
    "1. all main effects\n",
    "2. all two-way interactions\n",
    "3. the full three-way interaction\n",
    "\n",
    "For this example, we'll use statsmodels' generalized linear models with the formula approach (e.g., see the [documentation](https://www.statsmodels.org/stable/examples/notebooks/generated/glm_formula.html)):"
   ]
  },
  {
   "cell_type": "code",
   "execution_count": 20,
   "metadata": {},
   "outputs": [],
   "source": [
    "# three main effects\n",
    "mod1 = smf.glm(formula = 'survived ~ passengerClass + sex + age', data = TitanicSurvivalNoNaNs, family = sm.families.Binomial()).fit()\n",
    "\n",
    "# all two-way interactions of these three main effects\n",
    "mod2 = smf.glm(formula = 'survived ~ (passengerClass + sex + age) ** 2', data = TitanicSurvivalNoNaNs, family = sm.families.Binomial()).fit()\n",
    "\n",
    "# full three-way interaction\n",
    "mod3 = smf.glm(formula = 'survived ~ passengerClass * sex * age', data = TitanicSurvivalNoNaNs, family = sm.families.Binomial()).fit()"
   ]
  },
  {
   "cell_type": "markdown",
   "metadata": {},
   "source": [
    "Note that we had options on how to specify the model formulae; for example, in mod2, we use the notation `(passengerClass + sex + age) ** 2`, which expands to all main effects and all two-way interactions for the terms inside the parentheses (i.e., equivalent to: `passengerClass + sex + age + passengerClass:sex + passengerClass:age + sex:age`). For the three-way interaction, we could have also used `(passengerClass + sex + age) ** 3` as an equivalent formula.\n",
    "\n",
    "Now let's compare these three models:"
   ]
  },
  {
   "cell_type": "code",
   "execution_count": 21,
   "metadata": {},
   "outputs": [
    {
     "data": {
      "text/html": [
       "<div>\n",
       "<style scoped>\n",
       "    .dataframe tbody tr th:only-of-type {\n",
       "        vertical-align: middle;\n",
       "    }\n",
       "\n",
       "    .dataframe tbody tr th {\n",
       "        vertical-align: top;\n",
       "    }\n",
       "\n",
       "    .dataframe thead th {\n",
       "        text-align: right;\n",
       "    }\n",
       "</style>\n",
       "<table border=\"1\" class=\"dataframe\">\n",
       "  <thead>\n",
       "    <tr style=\"text-align: right;\">\n",
       "      <th></th>\n",
       "      <th>models</th>\n",
       "      <th>df</th>\n",
       "      <th>AIC</th>\n",
       "      <th>deltaAIC</th>\n",
       "    </tr>\n",
       "  </thead>\n",
       "  <tbody>\n",
       "    <tr>\n",
       "      <th>1</th>\n",
       "      <td>mod2</td>\n",
       "      <td>9</td>\n",
       "      <td>937.843246</td>\n",
       "      <td>0.000000</td>\n",
       "    </tr>\n",
       "    <tr>\n",
       "      <th>2</th>\n",
       "      <td>mod3</td>\n",
       "      <td>11</td>\n",
       "      <td>939.977104</td>\n",
       "      <td>2.133857</td>\n",
       "    </tr>\n",
       "    <tr>\n",
       "      <th>0</th>\n",
       "      <td>mod1</td>\n",
       "      <td>4</td>\n",
       "      <td>992.453105</td>\n",
       "      <td>54.609859</td>\n",
       "    </tr>\n",
       "  </tbody>\n",
       "</table>\n",
       "</div>"
      ],
      "text/plain": [
       "  models  df         AIC   deltaAIC\n",
       "1   mod2   9  937.843246   0.000000\n",
       "2   mod3  11  939.977104   2.133857\n",
       "0   mod1   4  992.453105  54.609859"
      ]
     },
     "execution_count": 21,
     "metadata": {},
     "output_type": "execute_result"
    }
   ],
   "source": [
    "models = pd.DataFrame({\n",
    "    'models': ['mod1', 'mod2', 'mod3'],\n",
    "    'df': [mod1.df_model, mod2.df_model, mod3.df_model],\n",
    "    'AIC': [mod1.aic, mod2.aic, mod3.aic]})\n",
    "\n",
    "models['deltaAIC'] = models.AIC - min(models.AIC)\n",
    "\n",
    "models.sort_values('AIC')"
   ]
  },
  {
   "cell_type": "markdown",
   "metadata": {},
   "source": [
    "Among these three, mod2 looks the best based on AIC. Let's look at term-level significance using a Wald test:"
   ]
  },
  {
   "cell_type": "code",
   "execution_count": 22,
   "metadata": {},
   "outputs": [
    {
     "name": "stderr",
     "output_type": "stream",
     "text": [
      "/usr/local/Caskroom/miniconda/base/lib/python3.9/site-packages/statsmodels/base/model.py:1889: FutureWarning: The behavior of wald_test will change after 0.14 to returning scalar test statistic values. To get the future behavior now, set scalar to True. To silence this message while retaining the legacy behavior, set scalar to False.\n",
      "  warnings.warn(\n"
     ]
    },
    {
     "data": {
      "text/plain": [
       "<class 'statsmodels.stats.contrast.WaldTestResults'>\n",
       "                                       chi2                  P>chi2  df constraint\n",
       "Intercept            [[17.717926203977363]]  2.5620082410772063e-05              1\n",
       "passengerClass        [[39.01873095455019]]  3.3665899899969574e-09              2\n",
       "sex                   [[11.82860287939998]]   0.0005832774292733633              1\n",
       "passengerClass:sex   [[31.379301905551465]]  1.5348684824496397e-07              2\n",
       "age                 [[0.05050867877592583]]      0.8221804871296541              1\n",
       "passengerClass:age     [[9.11987418537228]]    0.010462717104153722              2\n",
       "sex:age                [[4.30751869749079]]    0.037944268430489814              1"
      ]
     },
     "execution_count": 22,
     "metadata": {},
     "output_type": "execute_result"
    }
   ],
   "source": [
    "mod2.wald_test_terms() # equivalent to car::Anova(mod2, type = 3, test = \"Wald\")"
   ]
  },
  {
   "cell_type": "markdown",
   "metadata": {},
   "source": [
    "To make this slightly more presentable, let's pull out the table as a pandas DataFrame and add a bit of code to round it:"
   ]
  },
  {
   "cell_type": "code",
   "execution_count": 23,
   "metadata": {},
   "outputs": [
    {
     "name": "stderr",
     "output_type": "stream",
     "text": [
      "/usr/local/Caskroom/miniconda/base/lib/python3.9/site-packages/statsmodels/base/model.py:1889: FutureWarning: The behavior of wald_test will change after 0.14 to returning scalar test statistic values. To get the future behavior now, set scalar to True. To silence this message while retaining the legacy behavior, set scalar to False.\n",
      "  warnings.warn(\n"
     ]
    },
    {
     "data": {
      "text/html": [
       "<div>\n",
       "<style scoped>\n",
       "    .dataframe tbody tr th:only-of-type {\n",
       "        vertical-align: middle;\n",
       "    }\n",
       "\n",
       "    .dataframe tbody tr th {\n",
       "        vertical-align: top;\n",
       "    }\n",
       "\n",
       "    .dataframe thead th {\n",
       "        text-align: right;\n",
       "    }\n",
       "</style>\n",
       "<table border=\"1\" class=\"dataframe\">\n",
       "  <thead>\n",
       "    <tr style=\"text-align: right;\">\n",
       "      <th></th>\n",
       "      <th>statistic</th>\n",
       "      <th>pvalue</th>\n",
       "      <th>df_constraint</th>\n",
       "    </tr>\n",
       "  </thead>\n",
       "  <tbody>\n",
       "    <tr>\n",
       "      <th>Intercept</th>\n",
       "      <td>17.718</td>\n",
       "      <td>0.000</td>\n",
       "      <td>1</td>\n",
       "    </tr>\n",
       "    <tr>\n",
       "      <th>passengerClass</th>\n",
       "      <td>39.019</td>\n",
       "      <td>0.000</td>\n",
       "      <td>2</td>\n",
       "    </tr>\n",
       "    <tr>\n",
       "      <th>sex</th>\n",
       "      <td>11.829</td>\n",
       "      <td>0.001</td>\n",
       "      <td>1</td>\n",
       "    </tr>\n",
       "    <tr>\n",
       "      <th>passengerClass:sex</th>\n",
       "      <td>31.379</td>\n",
       "      <td>0.000</td>\n",
       "      <td>2</td>\n",
       "    </tr>\n",
       "    <tr>\n",
       "      <th>age</th>\n",
       "      <td>0.051</td>\n",
       "      <td>0.822</td>\n",
       "      <td>1</td>\n",
       "    </tr>\n",
       "    <tr>\n",
       "      <th>passengerClass:age</th>\n",
       "      <td>9.120</td>\n",
       "      <td>0.010</td>\n",
       "      <td>2</td>\n",
       "    </tr>\n",
       "    <tr>\n",
       "      <th>sex:age</th>\n",
       "      <td>4.308</td>\n",
       "      <td>0.038</td>\n",
       "      <td>1</td>\n",
       "    </tr>\n",
       "  </tbody>\n",
       "</table>\n",
       "</div>"
      ],
      "text/plain": [
       "                    statistic  pvalue  df_constraint\n",
       "Intercept              17.718   0.000              1\n",
       "passengerClass         39.019   0.000              2\n",
       "sex                    11.829   0.001              1\n",
       "passengerClass:sex     31.379   0.000              2\n",
       "age                     0.051   0.822              1\n",
       "passengerClass:age      9.120   0.010              2\n",
       "sex:age                 4.308   0.038              1"
      ]
     },
     "execution_count": 23,
     "metadata": {},
     "output_type": "execute_result"
    }
   ],
   "source": [
    "mod2.wald_test_terms().table.astype({'statistic': 'float', 'pvalue': 'float'}).round(3)"
   ]
  },
  {
   "cell_type": "markdown",
   "metadata": {},
   "source": [
    "Most of the of the terms are significant, but we'll be focusing on interactions to respect the *principle of marginality*. Let's look at the model summary:"
   ]
  },
  {
   "cell_type": "code",
   "execution_count": 24,
   "metadata": {},
   "outputs": [
    {
     "data": {
      "text/html": [
       "<table class=\"simpletable\">\n",
       "<caption>Generalized Linear Model Regression Results</caption>\n",
       "<tr>\n",
       "  <th>Dep. Variable:</th>   <td>['survived[yes]', 'survived[no]']</td> <th>  No. Observations:  </th>  <td>  1046</td> \n",
       "</tr>\n",
       "<tr>\n",
       "  <th>Model:</th>                          <td>GLM</td>                <th>  Df Residuals:      </th>  <td>  1036</td> \n",
       "</tr>\n",
       "<tr>\n",
       "  <th>Model Family:</th>                <td>Binomial</td>              <th>  Df Model:          </th>  <td>     9</td> \n",
       "</tr>\n",
       "<tr>\n",
       "  <th>Link Function:</th>                 <td>Logit</td>               <th>  Scale:             </th> <td>  1.0000</td>\n",
       "</tr>\n",
       "<tr>\n",
       "  <th>Method:</th>                        <td>IRLS</td>                <th>  Log-Likelihood:    </th> <td> -458.92</td>\n",
       "</tr>\n",
       "<tr>\n",
       "  <th>Date:</th>                    <td>Tue, 14 Dec 2021</td>          <th>  Deviance:          </th> <td>  917.84</td>\n",
       "</tr>\n",
       "<tr>\n",
       "  <th>Time:</th>                        <td>22:23:10</td>              <th>  Pearson chi2:      </th> <td>1.22e+03</td>\n",
       "</tr>\n",
       "<tr>\n",
       "  <th>No. Iterations:</th>                  <td>6</td>                 <th>  Pseudo R-squ. (CS):</th>  <td>0.3781</td> \n",
       "</tr>\n",
       "<tr>\n",
       "  <th>Covariance Type:</th>             <td>nonrobust</td>             <th>                     </th>     <td> </td>   \n",
       "</tr>\n",
       "</table>\n",
       "<table class=\"simpletable\">\n",
       "<tr>\n",
       "                  <td></td>                     <th>coef</th>     <th>std err</th>      <th>z</th>      <th>P>|z|</th>  <th>[0.025</th>    <th>0.975]</th>  \n",
       "</tr>\n",
       "<tr>\n",
       "  <th>Intercept</th>                         <td>    3.3904</td> <td>    0.805</td> <td>    4.209</td> <td> 0.000</td> <td>    1.812</td> <td>    4.969</td>\n",
       "</tr>\n",
       "<tr>\n",
       "  <th>passengerClass[T.2nd]</th>             <td>    0.7647</td> <td>    0.960</td> <td>    0.797</td> <td> 0.426</td> <td>   -1.117</td> <td>    2.646</td>\n",
       "</tr>\n",
       "<tr>\n",
       "  <th>passengerClass[T.3rd]</th>             <td>   -3.2700</td> <td>    0.765</td> <td>   -4.275</td> <td> 0.000</td> <td>   -4.769</td> <td>   -1.771</td>\n",
       "</tr>\n",
       "<tr>\n",
       "  <th>sex[T.male]</th>                       <td>   -2.5922</td> <td>    0.754</td> <td>   -3.439</td> <td> 0.001</td> <td>   -4.069</td> <td>   -1.115</td>\n",
       "</tr>\n",
       "<tr>\n",
       "  <th>passengerClass[T.2nd]:sex[T.male]</th> <td>   -0.8788</td> <td>    0.690</td> <td>   -1.274</td> <td> 0.203</td> <td>   -2.231</td> <td>    0.474</td>\n",
       "</tr>\n",
       "<tr>\n",
       "  <th>passengerClass[T.3rd]:sex[T.male]</th> <td>    1.8857</td> <td>    0.585</td> <td>    3.225</td> <td> 0.001</td> <td>    0.740</td> <td>    3.032</td>\n",
       "</tr>\n",
       "<tr>\n",
       "  <th>age</th>                               <td>   -0.0040</td> <td>    0.018</td> <td>   -0.225</td> <td> 0.822</td> <td>   -0.038</td> <td>    0.030</td>\n",
       "</tr>\n",
       "<tr>\n",
       "  <th>passengerClass[T.2nd]:age</th>         <td>   -0.0605</td> <td>    0.021</td> <td>   -2.826</td> <td> 0.005</td> <td>   -0.103</td> <td>   -0.019</td>\n",
       "</tr>\n",
       "<tr>\n",
       "  <th>passengerClass[T.3rd]:age</th>         <td>   -0.0062</td> <td>    0.016</td> <td>   -0.386</td> <td> 0.700</td> <td>   -0.038</td> <td>    0.025</td>\n",
       "</tr>\n",
       "<tr>\n",
       "  <th>sex[T.male]:age</th>                   <td>   -0.0314</td> <td>    0.015</td> <td>   -2.075</td> <td> 0.038</td> <td>   -0.061</td> <td>   -0.002</td>\n",
       "</tr>\n",
       "</table>"
      ],
      "text/plain": [
       "<class 'statsmodels.iolib.summary.Summary'>\n",
       "\"\"\"\n",
       "                         Generalized Linear Model Regression Results                         \n",
       "=============================================================================================\n",
       "Dep. Variable:     ['survived[yes]', 'survived[no]']   No. Observations:                 1046\n",
       "Model:                                           GLM   Df Residuals:                     1036\n",
       "Model Family:                               Binomial   Df Model:                            9\n",
       "Link Function:                                 Logit   Scale:                          1.0000\n",
       "Method:                                         IRLS   Log-Likelihood:                -458.92\n",
       "Date:                               Tue, 14 Dec 2021   Deviance:                       917.84\n",
       "Time:                                       22:23:10   Pearson chi2:                 1.22e+03\n",
       "No. Iterations:                                    6   Pseudo R-squ. (CS):             0.3781\n",
       "Covariance Type:                           nonrobust                                         \n",
       "=====================================================================================================\n",
       "                                        coef    std err          z      P>|z|      [0.025      0.975]\n",
       "-----------------------------------------------------------------------------------------------------\n",
       "Intercept                             3.3904      0.805      4.209      0.000       1.812       4.969\n",
       "passengerClass[T.2nd]                 0.7647      0.960      0.797      0.426      -1.117       2.646\n",
       "passengerClass[T.3rd]                -3.2700      0.765     -4.275      0.000      -4.769      -1.771\n",
       "sex[T.male]                          -2.5922      0.754     -3.439      0.001      -4.069      -1.115\n",
       "passengerClass[T.2nd]:sex[T.male]    -0.8788      0.690     -1.274      0.203      -2.231       0.474\n",
       "passengerClass[T.3rd]:sex[T.male]     1.8857      0.585      3.225      0.001       0.740       3.032\n",
       "age                                  -0.0040      0.018     -0.225      0.822      -0.038       0.030\n",
       "passengerClass[T.2nd]:age            -0.0605      0.021     -2.826      0.005      -0.103      -0.019\n",
       "passengerClass[T.3rd]:age            -0.0062      0.016     -0.386      0.700      -0.038       0.025\n",
       "sex[T.male]:age                      -0.0314      0.015     -2.075      0.038      -0.061      -0.002\n",
       "=====================================================================================================\n",
       "\"\"\""
      ]
     },
     "execution_count": 24,
     "metadata": {},
     "output_type": "execute_result"
    }
   ],
   "source": [
    "mod2.summary()"
   ]
  },
  {
   "cell_type": "markdown",
   "metadata": {},
   "source": [
    "When looking at a summary that includes interaction terms, interpretation can be confusing. For plotting the actual effects, R is preferable. For example, we can re-do this analysis use R via rpy2:"
   ]
  },
  {
   "cell_type": "code",
   "execution_count": 25,
   "metadata": {},
   "outputs": [
    {
     "data": {
      "text/plain": [
       "array([ 3.39035549,  0.76466654, -3.27000204, -2.59223274, -0.00395004,\n",
       "       -0.87884096,  1.88569523, -0.06053026, -0.00624392, -0.03137809])"
      ]
     },
     "execution_count": 25,
     "metadata": {},
     "output_type": "execute_result"
    }
   ],
   "source": [
    "# to install, try: pip install rpy2\n",
    "\n",
    "# on Windows, you may run into some issues; see the official documentation for help:\n",
    "# https://rpy2.github.io/doc/latest/html/overview.html#installation \n",
    "\n",
    "# on Anaconda, see this support document:\n",
    "# https://anaconda.zendesk.com/hc/en-us/articles/360023857134-Setting-up-rpy2-on-Windows\n",
    "\n",
    "from rpy2.robjects.packages import importr\n",
    "from rpy2 import robjects\n",
    "from rpy2.robjects import pandas2ri\n",
    "\n",
    "base = importr('base')\n",
    "stats = importr('stats')\n",
    "effects = importr('effects')\n",
    "\n",
    "df = robjects.r('data.frame')\n",
    "coef = robjects.r('coef')\n",
    "\n",
    "pandas2ri.activate() # let's use our existing Python data instead of loading the carData package in R data\n",
    "robjects.globalenv['TitanicSurvival'] = TitanicSurvival\n",
    "\n",
    "robjects.r('TitanicSurvival$survived <- factor(TitanicSurvival$survived, levels = c(\"no\", \"yes\"))')\n",
    "robjects.r('TitanicSurvival$sex <- factor(TitanicSurvival$sex)')\n",
    "robjects.r('TitanicSurvival$passengerClass <- factor(TitanicSurvival$passengerClass)')\n",
    "\n",
    "mod2R = stats.glm('survived ~ (passengerClass + sex + age) ^ 2', data = robjects.globalenv['TitanicSurvival'], family = 'binomial')\n",
    "\n",
    "coef(mod2R) # compare to the summary results above"
   ]
  },
  {
   "cell_type": "markdown",
   "metadata": {},
   "source": [
    "Now we can build our effect plots in Python for each term:"
   ]
  },
  {
   "cell_type": "code",
   "execution_count": 26,
   "metadata": {},
   "outputs": [
    {
     "data": {
      "text/html": [
       "<div>\n",
       "<style scoped>\n",
       "    .dataframe tbody tr th:only-of-type {\n",
       "        vertical-align: middle;\n",
       "    }\n",
       "\n",
       "    .dataframe tbody tr th {\n",
       "        vertical-align: top;\n",
       "    }\n",
       "\n",
       "    .dataframe thead th {\n",
       "        text-align: right;\n",
       "    }\n",
       "</style>\n",
       "<table border=\"1\" class=\"dataframe\">\n",
       "  <thead>\n",
       "    <tr style=\"text-align: right;\">\n",
       "      <th></th>\n",
       "      <th>passengerClass</th>\n",
       "      <th>sex</th>\n",
       "      <th>fit</th>\n",
       "      <th>se</th>\n",
       "      <th>lower</th>\n",
       "      <th>upper</th>\n",
       "    </tr>\n",
       "  </thead>\n",
       "  <tbody>\n",
       "    <tr>\n",
       "      <th>1</th>\n",
       "      <td>1st</td>\n",
       "      <td>female</td>\n",
       "      <td>0.963467</td>\n",
       "      <td>0.016768</td>\n",
       "      <td>0.912027</td>\n",
       "      <td>0.985313</td>\n",
       "    </tr>\n",
       "    <tr>\n",
       "      <th>2</th>\n",
       "      <td>2nd</td>\n",
       "      <td>female</td>\n",
       "      <td>0.902760</td>\n",
       "      <td>0.030394</td>\n",
       "      <td>0.824864</td>\n",
       "      <td>0.948186</td>\n",
       "    </tr>\n",
       "    <tr>\n",
       "      <th>3</th>\n",
       "      <td>3rd</td>\n",
       "      <td>female</td>\n",
       "      <td>0.454066</td>\n",
       "      <td>0.046643</td>\n",
       "      <td>0.365160</td>\n",
       "      <td>0.546002</td>\n",
       "    </tr>\n",
       "    <tr>\n",
       "      <th>4</th>\n",
       "      <td>1st</td>\n",
       "      <td>male</td>\n",
       "      <td>0.435973</td>\n",
       "      <td>0.050854</td>\n",
       "      <td>0.340098</td>\n",
       "      <td>0.536886</td>\n",
       "    </tr>\n",
       "    <tr>\n",
       "      <th>5</th>\n",
       "      <td>2nd</td>\n",
       "      <td>male</td>\n",
       "      <td>0.101524</td>\n",
       "      <td>0.026110</td>\n",
       "      <td>0.060573</td>\n",
       "      <td>0.165288</td>\n",
       "    </tr>\n",
       "  </tbody>\n",
       "</table>\n",
       "</div>"
      ],
      "text/plain": [
       "  passengerClass     sex       fit        se     lower     upper\n",
       "1            1st  female  0.963467  0.016768  0.912027  0.985313\n",
       "2            2nd  female  0.902760  0.030394  0.824864  0.948186\n",
       "3            3rd  female  0.454066  0.046643  0.365160  0.546002\n",
       "4            1st    male  0.435973  0.050854  0.340098  0.536886\n",
       "5            2nd    male  0.101524  0.026110  0.060573  0.165288"
      ]
     },
     "metadata": {},
     "output_type": "display_data"
    },
    {
     "data": {
      "image/png": "[encoded data removed]",
      "text/plain": [
       "<Figure size 504x432 with 1 Axes>"
      ]
     },
     "metadata": {},
     "output_type": "display_data"
    }
   ],
   "source": [
    "# passengerClass:sex\n",
    "\n",
    "plotEffect = df(effects.effect('passengerClass:sex', mod2R))\n",
    "plotEffect[plotEffect.select_dtypes('category').columns] = plotEffect.select_dtypes('category').astype('object').astype('category') # fixes rpy2 issue with NA_character_\n",
    "\n",
    "display(plotEffect.head())\n",
    "\n",
    "# define colors\n",
    "cust_colors = np.array(['red', 'blue'])\n",
    "sns.set_palette(cust_colors)\n",
    "\n",
    "# define variables\n",
    "xVar = 'passengerClass'\n",
    "groupingVar = 'sex'\n",
    "\n",
    "plotEffect[xVar] = plotEffect[xVar].astype('str')\n",
    "plotEffect[groupingVar] = plotEffect[groupingVar].astype('str')\n",
    "\n",
    "fig = sns.pointplot(x = xVar, \n",
    "                    y = 'fit', \n",
    "                    hue = groupingVar, \n",
    "                    linestyles = '--', \n",
    "                    palette = sns.color_palette(), \n",
    "                    data = plotEffect)\n",
    "\n",
    "plt.vlines(x = xVar, \n",
    "           ymin = 'lower', \n",
    "           ymax = 'upper', \n",
    "           color = cust_colors[plotEffect[groupingVar].factorize()[0]], \n",
    "           linewidth = 2.5, \n",
    "           data = plotEffect)\n",
    "\n",
    "fig.set(ylabel = 'survival probability', \n",
    "        ylim = (0, 1))\n",
    "\n",
    "fig;"
   ]
  },
  {
   "cell_type": "code",
   "execution_count": 27,
   "metadata": {},
   "outputs": [
    {
     "data": {
      "text/html": [
       "<div>\n",
       "<style scoped>\n",
       "    .dataframe tbody tr th:only-of-type {\n",
       "        vertical-align: middle;\n",
       "    }\n",
       "\n",
       "    .dataframe tbody tr th {\n",
       "        vertical-align: top;\n",
       "    }\n",
       "\n",
       "    .dataframe thead th {\n",
       "        text-align: right;\n",
       "    }\n",
       "</style>\n",
       "<table border=\"1\" class=\"dataframe\">\n",
       "  <thead>\n",
       "    <tr style=\"text-align: right;\">\n",
       "      <th></th>\n",
       "      <th>passengerClass</th>\n",
       "      <th>age</th>\n",
       "      <th>fit</th>\n",
       "      <th>se</th>\n",
       "      <th>lower</th>\n",
       "      <th>upper</th>\n",
       "    </tr>\n",
       "  </thead>\n",
       "  <tbody>\n",
       "    <tr>\n",
       "      <th>1</th>\n",
       "      <td>1st</td>\n",
       "      <td>0.17</td>\n",
       "      <td>0.852664</td>\n",
       "      <td>0.064320</td>\n",
       "      <td>0.679654</td>\n",
       "      <td>0.940426</td>\n",
       "    </tr>\n",
       "    <tr>\n",
       "      <th>2</th>\n",
       "      <td>2nd</td>\n",
       "      <td>0.17</td>\n",
       "      <td>0.876227</td>\n",
       "      <td>0.054961</td>\n",
       "      <td>0.723907</td>\n",
       "      <td>0.950284</td>\n",
       "    </tr>\n",
       "    <tr>\n",
       "      <th>3</th>\n",
       "      <td>3rd</td>\n",
       "      <td>0.17</td>\n",
       "      <td>0.418437</td>\n",
       "      <td>0.059517</td>\n",
       "      <td>0.308199</td>\n",
       "      <td>0.537472</td>\n",
       "    </tr>\n",
       "    <tr>\n",
       "      <th>4</th>\n",
       "      <td>1st</td>\n",
       "      <td>1.90</td>\n",
       "      <td>0.847441</td>\n",
       "      <td>0.063677</td>\n",
       "      <td>0.679032</td>\n",
       "      <td>0.935837</td>\n",
       "    </tr>\n",
       "    <tr>\n",
       "      <th>5</th>\n",
       "      <td>2nd</td>\n",
       "      <td>1.90</td>\n",
       "      <td>0.859541</td>\n",
       "      <td>0.057876</td>\n",
       "      <td>0.705142</td>\n",
       "      <td>0.939973</td>\n",
       "    </tr>\n",
       "  </tbody>\n",
       "</table>\n",
       "</div>"
      ],
      "text/plain": [
       "  passengerClass   age       fit        se     lower     upper\n",
       "1            1st  0.17  0.852664  0.064320  0.679654  0.940426\n",
       "2            2nd  0.17  0.876227  0.054961  0.723907  0.950284\n",
       "3            3rd  0.17  0.418437  0.059517  0.308199  0.537472\n",
       "4            1st  1.90  0.847441  0.063677  0.679032  0.935837\n",
       "5            2nd  1.90  0.859541  0.057876  0.705142  0.939973"
      ]
     },
     "metadata": {},
     "output_type": "display_data"
    },
    {
     "data": {
      "image/png": "[encoded data removed]",
      "text/plain": [
       "<Figure size 504x432 with 1 Axes>"
      ]
     },
     "metadata": {},
     "output_type": "display_data"
    }
   ],
   "source": [
    "# passengerClass:age\n",
    "\n",
    "plotEffect = df(effects.effect('passengerClass:age', mod2R, xlevels = 48))\n",
    "plotEffect[plotEffect.select_dtypes('category').columns] = plotEffect.select_dtypes('category').astype('object').astype('category') # fixes rpy2 issue with NA_character_\n",
    "\n",
    "display(plotEffect.head())\n",
    "\n",
    "# define colors\n",
    "cust_colors = ['red', 'green', 'blue']\n",
    "sns.set_palette(cust_colors)\n",
    "\n",
    "# define variables\n",
    "xVar = 'age'\n",
    "groupingVar = 'passengerClass'\n",
    "\n",
    "fig = sns.lineplot(x = xVar, \n",
    "                   y = 'fit', \n",
    "                   hue = groupingVar, \n",
    "                   data = plotEffect)\n",
    "\n",
    "for i, eachLevel in enumerate(pd.unique(plotEffect[groupingVar])):\n",
    "    \n",
    "    # filter shading ribbon by level\n",
    "    ribbon = plotEffect[plotEffect[groupingVar] == eachLevel]\n",
    "    \n",
    "    # plot ribbon for level\n",
    "    plt.fill_between(x = xVar, \n",
    "                     y1 = 'lower', \n",
    "                     y2 = 'upper', \n",
    "                     color = cust_colors[i], \n",
    "                     alpha = 0.15, \n",
    "                     data = ribbon)\n",
    "    \n",
    "fig.set(ylabel = 'survival probability', \n",
    "        ylim = (0, 1));"
   ]
  },
  {
   "cell_type": "code",
   "execution_count": 28,
   "metadata": {},
   "outputs": [
    {
     "data": {
      "text/html": [
       "<div>\n",
       "<style scoped>\n",
       "    .dataframe tbody tr th:only-of-type {\n",
       "        vertical-align: middle;\n",
       "    }\n",
       "\n",
       "    .dataframe tbody tr th {\n",
       "        vertical-align: top;\n",
       "    }\n",
       "\n",
       "    .dataframe thead th {\n",
       "        text-align: right;\n",
       "    }\n",
       "</style>\n",
       "<table border=\"1\" class=\"dataframe\">\n",
       "  <thead>\n",
       "    <tr style=\"text-align: right;\">\n",
       "      <th></th>\n",
       "      <th>sex</th>\n",
       "      <th>age</th>\n",
       "      <th>fit</th>\n",
       "      <th>se</th>\n",
       "      <th>lower</th>\n",
       "      <th>upper</th>\n",
       "    </tr>\n",
       "  </thead>\n",
       "  <tbody>\n",
       "    <tr>\n",
       "      <th>1</th>\n",
       "      <td>female</td>\n",
       "      <td>0.17</td>\n",
       "      <td>0.881966</td>\n",
       "      <td>0.041402</td>\n",
       "      <td>0.774114</td>\n",
       "      <td>0.942170</td>\n",
       "    </tr>\n",
       "    <tr>\n",
       "      <th>2</th>\n",
       "      <td>male</td>\n",
       "      <td>0.17</td>\n",
       "      <td>0.524359</td>\n",
       "      <td>0.063857</td>\n",
       "      <td>0.400278</td>\n",
       "      <td>0.645504</td>\n",
       "    </tr>\n",
       "    <tr>\n",
       "      <th>3</th>\n",
       "      <td>female</td>\n",
       "      <td>1.90</td>\n",
       "      <td>0.877938</td>\n",
       "      <td>0.040689</td>\n",
       "      <td>0.773619</td>\n",
       "      <td>0.938036</td>\n",
       "    </tr>\n",
       "    <tr>\n",
       "      <th>4</th>\n",
       "      <td>male</td>\n",
       "      <td>1.90</td>\n",
       "      <td>0.501273</td>\n",
       "      <td>0.060489</td>\n",
       "      <td>0.384821</td>\n",
       "      <td>0.617587</td>\n",
       "    </tr>\n",
       "    <tr>\n",
       "      <th>5</th>\n",
       "      <td>female</td>\n",
       "      <td>3.60</td>\n",
       "      <td>0.873865</td>\n",
       "      <td>0.039925</td>\n",
       "      <td>0.773056</td>\n",
       "      <td>0.933733</td>\n",
       "    </tr>\n",
       "  </tbody>\n",
       "</table>\n",
       "</div>"
      ],
      "text/plain": [
       "      sex   age       fit        se     lower     upper\n",
       "1  female  0.17  0.881966  0.041402  0.774114  0.942170\n",
       "2    male  0.17  0.524359  0.063857  0.400278  0.645504\n",
       "3  female  1.90  0.877938  0.040689  0.773619  0.938036\n",
       "4    male  1.90  0.501273  0.060489  0.384821  0.617587\n",
       "5  female  3.60  0.873865  0.039925  0.773056  0.933733"
      ]
     },
     "metadata": {},
     "output_type": "display_data"
    },
    {
     "data": {
      "image/png": "[encoded data removed]",
      "text/plain": [
       "<Figure size 504x432 with 1 Axes>"
      ]
     },
     "metadata": {},
     "output_type": "display_data"
    }
   ],
   "source": [
    "# sex:age\n",
    "\n",
    "plotEffect = df(effects.effect('sex:age', mod2R, xlevels = 48))\n",
    "plotEffect[plotEffect.select_dtypes('category').columns] = plotEffect.select_dtypes('category').astype('object').astype('category') # fixes rpy2 issue with NA_character_\n",
    "\n",
    "display(plotEffect.head())\n",
    "\n",
    "# define colors\n",
    "cust_colors = ['red', 'blue']\n",
    "sns.set_palette(cust_colors)\n",
    "\n",
    "# define variables\n",
    "xVar = 'age'\n",
    "groupingVar = 'sex'\n",
    "\n",
    "fig = sns.lineplot(x = xVar, \n",
    "                   y = 'fit', \n",
    "                   hue = groupingVar, \n",
    "                   data = plotEffect)\n",
    "\n",
    "for i, eachLevel in enumerate(pd.unique(plotEffect[groupingVar])):\n",
    "    \n",
    "    # filter shading ribbon by level\n",
    "    ribbon = plotEffect[plotEffect[groupingVar] == eachLevel]\n",
    "    \n",
    "    # plot ribbon for level\n",
    "    plt.fill_between(x = xVar, \n",
    "                     y1 = 'lower', \n",
    "                     y2 = 'upper', \n",
    "                     color = cust_colors[i], \n",
    "                     alpha = 0.15, \n",
    "                     data = ribbon)\n",
    "    \n",
    "fig.set(ylabel = 'survival probability', \n",
    "        ylim = (0, 1));"
   ]
  },
  {
   "cell_type": "markdown",
   "metadata": {},
   "source": [
    "What are your takeaways from the model, particularly in terms of the effect plots?"
   ]
  },
  {
   "cell_type": "markdown",
   "metadata": {},
   "source": [
    "## Supervised Machine Learning\n",
    "\n",
    "In the previous section, we fit a series of logistic regression models by hand in an effort to find the best possible model for passenger survival. In this section, we will try to use machine learning to find the best possible model in a more automated fashion. Specifically, we will train multiple models using as many meaningful predictors as are available in an effort to find the optimal predictive model. Note that in this simple example, the number of available predictors is limited (i.e., passengerClass, sex, age); in real-world scenarios, we may have a large number of variables at our disposal, and machine learning can be useful to help find the most useful variables across this larger set. In general, more predictor variables (i.e., features) should be preferred to fewer predictors as long as the predictors are uniquely meaningful and relevant (e.g., not highly correlated with one another).\n",
    "\n",
    "We will use the scikit-learn ([sklearn](https://scikit-learn.org/stable/index.html)) package to conduct our machine learning analysis.\n",
    "\n",
    "Before we get started, let's reset our data to make sure its pristine:"
   ]
  },
  {
   "cell_type": "code",
   "execution_count": 29,
   "metadata": {},
   "outputs": [
    {
     "data": {
      "text/html": [
       "<div>\n",
       "<style scoped>\n",
       "    .dataframe tbody tr th:only-of-type {\n",
       "        vertical-align: middle;\n",
       "    }\n",
       "\n",
       "    .dataframe tbody tr th {\n",
       "        vertical-align: top;\n",
       "    }\n",
       "\n",
       "    .dataframe thead th {\n",
       "        text-align: right;\n",
       "    }\n",
       "</style>\n",
       "<table border=\"1\" class=\"dataframe\">\n",
       "  <thead>\n",
       "    <tr style=\"text-align: right;\">\n",
       "      <th></th>\n",
       "      <th>survived</th>\n",
       "      <th>sex</th>\n",
       "      <th>age</th>\n",
       "      <th>passengerClass</th>\n",
       "    </tr>\n",
       "  </thead>\n",
       "  <tbody>\n",
       "    <tr>\n",
       "      <th>Allen, Miss. Elisabeth Walton</th>\n",
       "      <td>yes</td>\n",
       "      <td>female</td>\n",
       "      <td>29.0000</td>\n",
       "      <td>1st</td>\n",
       "    </tr>\n",
       "    <tr>\n",
       "      <th>Allison, Master. Hudson Trevor</th>\n",
       "      <td>yes</td>\n",
       "      <td>male</td>\n",
       "      <td>0.9167</td>\n",
       "      <td>1st</td>\n",
       "    </tr>\n",
       "    <tr>\n",
       "      <th>Allison, Miss. Helen Loraine</th>\n",
       "      <td>no</td>\n",
       "      <td>female</td>\n",
       "      <td>2.0000</td>\n",
       "      <td>1st</td>\n",
       "    </tr>\n",
       "    <tr>\n",
       "      <th>Allison, Mr. Hudson Joshua Crei</th>\n",
       "      <td>no</td>\n",
       "      <td>male</td>\n",
       "      <td>30.0000</td>\n",
       "      <td>1st</td>\n",
       "    </tr>\n",
       "    <tr>\n",
       "      <th>Allison, Mrs. Hudson J C (Bessi</th>\n",
       "      <td>no</td>\n",
       "      <td>female</td>\n",
       "      <td>25.0000</td>\n",
       "      <td>1st</td>\n",
       "    </tr>\n",
       "  </tbody>\n",
       "</table>\n",
       "</div>"
      ],
      "text/plain": [
       "                                survived     sex      age passengerClass\n",
       "Allen, Miss. Elisabeth Walton        yes  female  29.0000            1st\n",
       "Allison, Master. Hudson Trevor       yes    male   0.9167            1st\n",
       "Allison, Miss. Helen Loraine          no  female   2.0000            1st\n",
       "Allison, Mr. Hudson Joshua Crei       no    male  30.0000            1st\n",
       "Allison, Mrs. Hudson J C (Bessi       no  female  25.0000            1st"
      ]
     },
     "metadata": {},
     "output_type": "display_data"
    },
    {
     "data": {
      "text/plain": [
       "(1309, 4)"
      ]
     },
     "metadata": {},
     "output_type": "display_data"
    }
   ],
   "source": [
    "sns.set(rc = {'figure.figsize': (7, 6)},\n",
    "        font_scale = 1.25) # increase text size on plots (e.g., axis labels)\n",
    "sns.set_style('whitegrid')\n",
    "\n",
    "ImportTitanicSurvival = sm.datasets.get_rdataset('TitanicSurvival', 'carData', cache = True)\n",
    "\n",
    "TitanicSurvival = ImportTitanicSurvival.data\n",
    "\n",
    "display(TitanicSurvival.head(), TitanicSurvival.shape)"
   ]
  },
  {
   "cell_type": "markdown",
   "metadata": {},
   "source": [
    "First, we should check class balance for the outcome variable (i.e., survived):"
   ]
  },
  {
   "cell_type": "code",
   "execution_count": 30,
   "metadata": {},
   "outputs": [
    {
     "data": {
      "text/plain": [
       "survived\n",
       "no     809\n",
       "yes    500\n",
       "dtype: int64"
      ]
     },
     "execution_count": 30,
     "metadata": {},
     "output_type": "execute_result"
    }
   ],
   "source": [
    "TitanicSurvival.groupby('survived').size()"
   ]
  },
  {
   "cell_type": "code",
   "execution_count": 31,
   "metadata": {},
   "outputs": [
    {
     "data": {
      "text/plain": [
       "survived\n",
       "no     0.618\n",
       "yes    0.382\n",
       "dtype: float64"
      ]
     },
     "execution_count": 31,
     "metadata": {},
     "output_type": "execute_result"
    }
   ],
   "source": [
    "round(TitanicSurvival.groupby('survived').size()/len(TitanicSurvival), 3)"
   ]
  },
  {
   "cell_type": "markdown",
   "metadata": {},
   "source": [
    "Looks like about 38.2% of the passengers survived.\n",
    "\n",
    "Let's create a training and holdout testing set (80%/20% of our data, respectively). We will use the training data to fit and evaluate model performance, while also reserving the holdout testing set for additional model performance comparisons:"
   ]
  },
  {
   "cell_type": "code",
   "execution_count": 32,
   "metadata": {},
   "outputs": [],
   "source": [
    "Train, Test = train_test_split(TitanicSurvival, \n",
    "                               stratify = TitanicSurvival.survived,\n",
    "                               test_size = 0.20, \n",
    "                               random_state = 345)"
   ]
  },
  {
   "cell_type": "markdown",
   "metadata": {},
   "source": [
    "Let's double check we split correctly:"
   ]
  },
  {
   "cell_type": "code",
   "execution_count": 33,
   "metadata": {},
   "outputs": [
    {
     "data": {
      "text/plain": [
       "1047"
      ]
     },
     "metadata": {},
     "output_type": "display_data"
    },
    {
     "data": {
      "text/plain": [
       "262"
      ]
     },
     "metadata": {},
     "output_type": "display_data"
    }
   ],
   "source": [
    "display(len(Train),\n",
    "        len(Test))"
   ]
  },
  {
   "cell_type": "code",
   "execution_count": 34,
   "metadata": {},
   "outputs": [
    {
     "data": {
      "text/plain": [
       "0.8"
      ]
     },
     "metadata": {},
     "output_type": "display_data"
    },
    {
     "data": {
      "text/plain": [
       "0.2"
      ]
     },
     "metadata": {},
     "output_type": "display_data"
    }
   ],
   "source": [
    "display(round(len(Train)/len(TitanicSurvival), 3), \n",
    "        round(len(Test)/len(TitanicSurvival), 3))"
   ]
  },
  {
   "cell_type": "markdown",
   "metadata": {},
   "source": [
    "Now let's check class balance in our training and testing sets (the proportions should be approximately identical because we used the *stratify* argument in **train_test_split** above -- they should also match the overarching proportion we saw in the complete data set earlier):"
   ]
  },
  {
   "cell_type": "code",
   "execution_count": 35,
   "metadata": {},
   "outputs": [
    {
     "data": {
      "text/plain": [
       "survived\n",
       "no     647\n",
       "yes    400\n",
       "dtype: int64"
      ]
     },
     "metadata": {},
     "output_type": "display_data"
    },
    {
     "data": {
      "text/plain": [
       "survived\n",
       "no     0.618\n",
       "yes    0.382\n",
       "dtype: float64"
      ]
     },
     "execution_count": 35,
     "metadata": {},
     "output_type": "execute_result"
    }
   ],
   "source": [
    "display(Train.groupby('survived').size())\n",
    "round(Train.groupby('survived').size()/len(Train), 3)"
   ]
  },
  {
   "cell_type": "code",
   "execution_count": 36,
   "metadata": {},
   "outputs": [
    {
     "data": {
      "text/plain": [
       "survived\n",
       "no     162\n",
       "yes    100\n",
       "dtype: int64"
      ]
     },
     "metadata": {},
     "output_type": "display_data"
    },
    {
     "data": {
      "text/plain": [
       "survived\n",
       "no     0.618\n",
       "yes    0.382\n",
       "dtype: float64"
      ]
     },
     "execution_count": 36,
     "metadata": {},
     "output_type": "execute_result"
    }
   ],
   "source": [
    "display(Test.groupby('survived').size())\n",
    "round(Test.groupby('survived').size()/len(Test), 3)"
   ]
  },
  {
   "cell_type": "markdown",
   "metadata": {},
   "source": [
    "Several machine learning models perform better when training models when classes are balanced. There are many ways to accomplish this (e.g., SMOTE), but as long as there is a sufficient amount of data, the easiest is to simply down sample the training data to balance based on the minority class (i.e., the class with fewer observations):"
   ]
  },
  {
   "cell_type": "code",
   "execution_count": 37,
   "metadata": {},
   "outputs": [
    {
     "data": {
      "text/plain": [
       "(800, 4)"
      ]
     },
     "execution_count": 37,
     "metadata": {},
     "output_type": "execute_result"
    }
   ],
   "source": [
    "np.random.seed(345) # to create reproducible results\n",
    "\n",
    "maj_class = np.where(Train.survived == 'no')[0]\n",
    "min_class = np.where(Train.survived == 'yes')[0]\n",
    "\n",
    "resample = np.random.choice(maj_class, size = len(min_class), replace = False)\n",
    "\n",
    "TrainDS = pd.concat([Train.iloc[min_class], Train.iloc[resample]])\n",
    "\n",
    "TrainDS.shape"
   ]
  },
  {
   "cell_type": "markdown",
   "metadata": {},
   "source": [
    "Let's double check the result:"
   ]
  },
  {
   "cell_type": "code",
   "execution_count": 38,
   "metadata": {},
   "outputs": [
    {
     "data": {
      "text/plain": [
       "survived\n",
       "no     400\n",
       "yes    400\n",
       "dtype: int64"
      ]
     },
     "metadata": {},
     "output_type": "display_data"
    },
    {
     "data": {
      "text/plain": [
       "survived\n",
       "no     0.5\n",
       "yes    0.5\n",
       "dtype: float64"
      ]
     },
     "execution_count": 38,
     "metadata": {},
     "output_type": "execute_result"
    }
   ],
   "source": [
    "display(TrainDS.groupby('survived').size())\n",
    "round(TrainDS.groupby('survived').size()/len(TrainDS), 3)"
   ]
  },
  {
   "cell_type": "code",
   "execution_count": 39,
   "metadata": {},
   "outputs": [
    {
     "data": {
      "text/html": [
       "<img src=\"https://i.kym-cdn.com/entries/icons/original/000/027/257/perfectly-balanced-as-all-things-should-be.jpg\"/>"
      ],
      "text/plain": [
       "<IPython.core.display.Image object>"
      ]
     },
     "execution_count": 39,
     "metadata": {},
     "output_type": "execute_result"
    }
   ],
   "source": [
    "Image(url = 'https://i.kym-cdn.com/entries/icons/original/000/027/257/perfectly-balanced-as-all-things-should-be.jpg') # from https://knowyourmeme.com/memes/perfectly-balanced"
   ]
  },
  {
   "cell_type": "markdown",
   "metadata": {},
   "source": [
    "Now let's check for missing values in data, which some models cannot handle:"
   ]
  },
  {
   "cell_type": "code",
   "execution_count": 40,
   "metadata": {},
   "outputs": [
    {
     "data": {
      "text/plain": [
       "0.194"
      ]
     },
     "execution_count": 40,
     "metadata": {},
     "output_type": "execute_result"
    }
   ],
   "source": [
    "round(1 - len(TrainDS.dropna())/len(TrainDS), 3)"
   ]
  },
  {
   "cell_type": "markdown",
   "metadata": {},
   "source": [
    "Approximately 19.4% missing in the training data at large. Let's also look at this by column:"
   ]
  },
  {
   "cell_type": "code",
   "execution_count": 41,
   "metadata": {},
   "outputs": [
    {
     "data": {
      "text/plain": [
       "survived          0.000\n",
       "sex               0.000\n",
       "age               0.194\n",
       "passengerClass    0.000\n",
       "dtype: float64"
      ]
     },
     "execution_count": 41,
     "metadata": {},
     "output_type": "execute_result"
    }
   ],
   "source": [
    "round(TrainDS.isna().sum()/len(TrainDS), 3)"
   ]
  },
  {
   "cell_type": "markdown",
   "metadata": {},
   "source": [
    "Clearly we do have a fair amount of missing data, albeit limited to one column in this case. As noted above, some models such as decision trees can handle missing data just fine. Others such as support vector machines (SVM) cannot. For this example, let's go ahead and do some preprocessing of the data to:\n",
    "\n",
    "1. impute missing numeric data using column medians\n",
    "2. impute missing categorical data using a constant\n",
    "3. *one hot encode* the categorical data to make them binary\n",
    "4. remove any predictors that happen to have zero variance\n",
    "\n",
    "Regarding the first point, it's worth noting that there are many other ways to handle missing data besides median imputation, which is a very simplistic approach. For more on this topic, see the relevant sklearn [documentation](https://scikit-learn.org/stable/modules/impute.html).\n",
    "\n",
    "Let's start with median imputation for the numeric data (i.e., age):"
   ]
  },
  {
   "cell_type": "code",
   "execution_count": 42,
   "metadata": {},
   "outputs": [
    {
     "data": {
      "text/html": [
       "<div>\n",
       "<style scoped>\n",
       "    .dataframe tbody tr th:only-of-type {\n",
       "        vertical-align: middle;\n",
       "    }\n",
       "\n",
       "    .dataframe tbody tr th {\n",
       "        vertical-align: top;\n",
       "    }\n",
       "\n",
       "    .dataframe thead th {\n",
       "        text-align: right;\n",
       "    }\n",
       "</style>\n",
       "<table border=\"1\" class=\"dataframe\">\n",
       "  <thead>\n",
       "    <tr style=\"text-align: right;\">\n",
       "      <th></th>\n",
       "      <th>survived</th>\n",
       "      <th>sex</th>\n",
       "      <th>age</th>\n",
       "      <th>passengerClass</th>\n",
       "    </tr>\n",
       "  </thead>\n",
       "  <tbody>\n",
       "    <tr>\n",
       "      <th>Pickard, Mr. Berk (Berk Trembis</th>\n",
       "      <td>yes</td>\n",
       "      <td>male</td>\n",
       "      <td>32.0</td>\n",
       "      <td>3rd</td>\n",
       "    </tr>\n",
       "    <tr>\n",
       "      <th>Mamee, Mr. Hanna</th>\n",
       "      <td>yes</td>\n",
       "      <td>male</td>\n",
       "      <td>NaN</td>\n",
       "      <td>3rd</td>\n",
       "    </tr>\n",
       "    <tr>\n",
       "      <th>Hakkarainen, Mrs. Pekka Pietari</th>\n",
       "      <td>yes</td>\n",
       "      <td>female</td>\n",
       "      <td>24.0</td>\n",
       "      <td>3rd</td>\n",
       "    </tr>\n",
       "    <tr>\n",
       "      <th>Harper, Mrs. Henry Sleeper (Myn</th>\n",
       "      <td>yes</td>\n",
       "      <td>female</td>\n",
       "      <td>49.0</td>\n",
       "      <td>1st</td>\n",
       "    </tr>\n",
       "    <tr>\n",
       "      <th>Kimball, Mr. Edwin Nelson Jr</th>\n",
       "      <td>yes</td>\n",
       "      <td>male</td>\n",
       "      <td>42.0</td>\n",
       "      <td>1st</td>\n",
       "    </tr>\n",
       "  </tbody>\n",
       "</table>\n",
       "</div>"
      ],
      "text/plain": [
       "                                survived     sex   age passengerClass\n",
       "Pickard, Mr. Berk (Berk Trembis      yes    male  32.0            3rd\n",
       "Mamee, Mr. Hanna                     yes    male   NaN            3rd\n",
       "Hakkarainen, Mrs. Pekka Pietari      yes  female  24.0            3rd\n",
       "Harper, Mrs. Henry Sleeper (Myn      yes  female  49.0            1st\n",
       "Kimball, Mr. Edwin Nelson Jr         yes    male  42.0            1st"
      ]
     },
     "metadata": {},
     "output_type": "display_data"
    },
    {
     "data": {
      "text/plain": [
       "survived           object\n",
       "sex                object\n",
       "age               float64\n",
       "passengerClass     object\n",
       "dtype: object"
      ]
     },
     "metadata": {},
     "output_type": "display_data"
    }
   ],
   "source": [
    "display(TrainDS.head(), TrainDS.dtypes)"
   ]
  },
  {
   "cell_type": "code",
   "execution_count": 43,
   "metadata": {},
   "outputs": [
    {
     "data": {
      "text/html": [
       "<div>\n",
       "<style scoped>\n",
       "    .dataframe tbody tr th:only-of-type {\n",
       "        vertical-align: middle;\n",
       "    }\n",
       "\n",
       "    .dataframe tbody tr th {\n",
       "        vertical-align: top;\n",
       "    }\n",
       "\n",
       "    .dataframe thead th {\n",
       "        text-align: right;\n",
       "    }\n",
       "</style>\n",
       "<table border=\"1\" class=\"dataframe\">\n",
       "  <thead>\n",
       "    <tr style=\"text-align: right;\">\n",
       "      <th></th>\n",
       "      <th>survived</th>\n",
       "      <th>sex</th>\n",
       "      <th>passengerClass</th>\n",
       "      <th>age</th>\n",
       "    </tr>\n",
       "  </thead>\n",
       "  <tbody>\n",
       "    <tr>\n",
       "      <th>Pickard, Mr. Berk (Berk Trembis</th>\n",
       "      <td>yes</td>\n",
       "      <td>male</td>\n",
       "      <td>3rd</td>\n",
       "      <td>32.0</td>\n",
       "    </tr>\n",
       "    <tr>\n",
       "      <th>Mamee, Mr. Hanna</th>\n",
       "      <td>yes</td>\n",
       "      <td>male</td>\n",
       "      <td>3rd</td>\n",
       "      <td>28.0</td>\n",
       "    </tr>\n",
       "    <tr>\n",
       "      <th>Hakkarainen, Mrs. Pekka Pietari</th>\n",
       "      <td>yes</td>\n",
       "      <td>female</td>\n",
       "      <td>3rd</td>\n",
       "      <td>24.0</td>\n",
       "    </tr>\n",
       "    <tr>\n",
       "      <th>Harper, Mrs. Henry Sleeper (Myn</th>\n",
       "      <td>yes</td>\n",
       "      <td>female</td>\n",
       "      <td>1st</td>\n",
       "      <td>49.0</td>\n",
       "    </tr>\n",
       "    <tr>\n",
       "      <th>Kimball, Mr. Edwin Nelson Jr</th>\n",
       "      <td>yes</td>\n",
       "      <td>male</td>\n",
       "      <td>1st</td>\n",
       "      <td>42.0</td>\n",
       "    </tr>\n",
       "  </tbody>\n",
       "</table>\n",
       "</div>"
      ],
      "text/plain": [
       "                                survived     sex passengerClass   age\n",
       "Pickard, Mr. Berk (Berk Trembis      yes    male            3rd  32.0\n",
       "Mamee, Mr. Hanna                     yes    male            3rd  28.0\n",
       "Hakkarainen, Mrs. Pekka Pietari      yes  female            3rd  24.0\n",
       "Harper, Mrs. Henry Sleeper (Myn      yes  female            1st  49.0\n",
       "Kimball, Mr. Edwin Nelson Jr         yes    male            1st  42.0"
      ]
     },
     "execution_count": 43,
     "metadata": {},
     "output_type": "execute_result"
    }
   ],
   "source": [
    "imp_median = SimpleImputer(missing_values = np.nan, \n",
    "                           strategy = 'median')\n",
    "\n",
    "# note: explicitly ignore the target column (i.e., survived) and object/category columns\n",
    "imp_raw_data_train = TrainDS.drop(columns = 'survived').select_dtypes(exclude = ['object', 'category'])\n",
    "\n",
    "imp_median = imp_median.fit(imp_raw_data_train)\n",
    "\n",
    "imputed_data_train = pd.DataFrame(imp_median.transform(imp_raw_data_train))\n",
    "\n",
    "imputed_data_train.columns = imp_raw_data_train.columns\n",
    "imputed_data_train.index = imp_raw_data_train.index\n",
    "\n",
    "TrainDS_Imp = pd.concat([TrainDS.drop(imp_raw_data_train.columns, axis = 1), imputed_data_train], axis = 1)\n",
    "\n",
    "TrainDS_Imp.head()"
   ]
  },
  {
   "cell_type": "markdown",
   "metadata": {},
   "source": [
    "Notice the missing case of age has now been replaced with the median, leaving us with no missing data:"
   ]
  },
  {
   "cell_type": "code",
   "execution_count": 44,
   "metadata": {},
   "outputs": [
    {
     "data": {
      "text/plain": [
       "0.0"
      ]
     },
     "execution_count": 44,
     "metadata": {},
     "output_type": "execute_result"
    }
   ],
   "source": [
    "round(1 - len(TrainDS_Imp.dropna())/len(TrainDS_Imp), 3)"
   ]
  },
  {
   "cell_type": "markdown",
   "metadata": {},
   "source": [
    "Based on the second row, the imputed value for age based on the training data is `28.0`, which we can verify by hand as well:"
   ]
  },
  {
   "cell_type": "code",
   "execution_count": 45,
   "metadata": {},
   "outputs": [
    {
     "data": {
      "text/plain": [
       "28.0"
      ]
     },
     "execution_count": 45,
     "metadata": {},
     "output_type": "execute_result"
    }
   ],
   "source": [
    "np.nanmedian(TrainDS.age)"
   ]
  },
  {
   "cell_type": "markdown",
   "metadata": {},
   "source": [
    "Because sex was the only column with missing data as we saw earlier, we're technically done with imputation at this point.\n",
    "\n",
    "However, assuming we needed to resolve missing data involving categorical columns, we could also use [***SimpleImputer***](https://scikit-learn.org/stable/modules/generated/sklearn.impute.SimpleImputer.html) by incorporating a different *strategy* such as `'most_frequent'` or `'constant'` replacement as outlined [here](https://scikit-learn.org/stable/modules/impute.html#univariate-feature-imputation). In this case, we will use the latter, although for these data, it ultimately won't change anything since none of the categorical data are missing. Nevertheless, the following code may serve as a useful example:"
   ]
  },
  {
   "cell_type": "code",
   "execution_count": 46,
   "metadata": {},
   "outputs": [
    {
     "data": {
      "text/html": [
       "<div>\n",
       "<style scoped>\n",
       "    .dataframe tbody tr th:only-of-type {\n",
       "        vertical-align: middle;\n",
       "    }\n",
       "\n",
       "    .dataframe tbody tr th {\n",
       "        vertical-align: top;\n",
       "    }\n",
       "\n",
       "    .dataframe thead th {\n",
       "        text-align: right;\n",
       "    }\n",
       "</style>\n",
       "<table border=\"1\" class=\"dataframe\">\n",
       "  <thead>\n",
       "    <tr style=\"text-align: right;\">\n",
       "      <th></th>\n",
       "      <th>survived</th>\n",
       "      <th>age</th>\n",
       "      <th>sex</th>\n",
       "      <th>passengerClass</th>\n",
       "    </tr>\n",
       "  </thead>\n",
       "  <tbody>\n",
       "    <tr>\n",
       "      <th>Pickard, Mr. Berk (Berk Trembis</th>\n",
       "      <td>yes</td>\n",
       "      <td>32.0</td>\n",
       "      <td>male</td>\n",
       "      <td>3rd</td>\n",
       "    </tr>\n",
       "    <tr>\n",
       "      <th>Mamee, Mr. Hanna</th>\n",
       "      <td>yes</td>\n",
       "      <td>28.0</td>\n",
       "      <td>male</td>\n",
       "      <td>3rd</td>\n",
       "    </tr>\n",
       "    <tr>\n",
       "      <th>Hakkarainen, Mrs. Pekka Pietari</th>\n",
       "      <td>yes</td>\n",
       "      <td>24.0</td>\n",
       "      <td>female</td>\n",
       "      <td>3rd</td>\n",
       "    </tr>\n",
       "    <tr>\n",
       "      <th>Harper, Mrs. Henry Sleeper (Myn</th>\n",
       "      <td>yes</td>\n",
       "      <td>49.0</td>\n",
       "      <td>female</td>\n",
       "      <td>1st</td>\n",
       "    </tr>\n",
       "    <tr>\n",
       "      <th>Kimball, Mr. Edwin Nelson Jr</th>\n",
       "      <td>yes</td>\n",
       "      <td>42.0</td>\n",
       "      <td>male</td>\n",
       "      <td>1st</td>\n",
       "    </tr>\n",
       "  </tbody>\n",
       "</table>\n",
       "</div>"
      ],
      "text/plain": [
       "                                survived   age     sex passengerClass\n",
       "Pickard, Mr. Berk (Berk Trembis      yes  32.0    male            3rd\n",
       "Mamee, Mr. Hanna                     yes  28.0    male            3rd\n",
       "Hakkarainen, Mrs. Pekka Pietari      yes  24.0  female            3rd\n",
       "Harper, Mrs. Henry Sleeper (Myn      yes  49.0  female            1st\n",
       "Kimball, Mr. Edwin Nelson Jr         yes  42.0    male            1st"
      ]
     },
     "execution_count": 46,
     "metadata": {},
     "output_type": "execute_result"
    }
   ],
   "source": [
    "imp_constant = SimpleImputer(missing_values = np.nan, \n",
    "                             strategy = 'constant')\n",
    "\n",
    "# note: explicitly ignore the target column (i.e., survived) and include only object/category columns\n",
    "imp_raw_data_train = TrainDS_Imp.drop(columns = 'survived').select_dtypes(include = ['object', 'category'])\n",
    "\n",
    "imp_constant = imp_constant.fit(imp_raw_data_train)\n",
    "\n",
    "imputed_data_train = pd.DataFrame(imp_constant.transform(imp_raw_data_train))\n",
    "\n",
    "imputed_data_train.columns = imp_raw_data_train.columns\n",
    "imputed_data_train.index = imp_raw_data_train.index\n",
    "\n",
    "TrainDS_ImpConst = pd.concat([TrainDS_Imp.drop(imp_raw_data_train.columns, axis = 1), imputed_data_train], axis = 1)\n",
    "\n",
    "TrainDS_ImpConst.head()"
   ]
  },
  {
   "cell_type": "markdown",
   "metadata": {},
   "source": [
    "Next let's take care of dummy encoding (i.e., one hot encoding) the categorical data:"
   ]
  },
  {
   "cell_type": "code",
   "execution_count": 47,
   "metadata": {},
   "outputs": [
    {
     "data": {
      "text/html": [
       "<div>\n",
       "<style scoped>\n",
       "    .dataframe tbody tr th:only-of-type {\n",
       "        vertical-align: middle;\n",
       "    }\n",
       "\n",
       "    .dataframe tbody tr th {\n",
       "        vertical-align: top;\n",
       "    }\n",
       "\n",
       "    .dataframe thead th {\n",
       "        text-align: right;\n",
       "    }\n",
       "</style>\n",
       "<table border=\"1\" class=\"dataframe\">\n",
       "  <thead>\n",
       "    <tr style=\"text-align: right;\">\n",
       "      <th></th>\n",
       "      <th>survived</th>\n",
       "      <th>age</th>\n",
       "      <th>sex_female</th>\n",
       "      <th>sex_male</th>\n",
       "      <th>passengerClass_1st</th>\n",
       "      <th>passengerClass_2nd</th>\n",
       "      <th>passengerClass_3rd</th>\n",
       "    </tr>\n",
       "  </thead>\n",
       "  <tbody>\n",
       "    <tr>\n",
       "      <th>Pickard, Mr. Berk (Berk Trembis</th>\n",
       "      <td>yes</td>\n",
       "      <td>32.0</td>\n",
       "      <td>0.0</td>\n",
       "      <td>1.0</td>\n",
       "      <td>0.0</td>\n",
       "      <td>0.0</td>\n",
       "      <td>1.0</td>\n",
       "    </tr>\n",
       "    <tr>\n",
       "      <th>Mamee, Mr. Hanna</th>\n",
       "      <td>yes</td>\n",
       "      <td>28.0</td>\n",
       "      <td>0.0</td>\n",
       "      <td>1.0</td>\n",
       "      <td>0.0</td>\n",
       "      <td>0.0</td>\n",
       "      <td>1.0</td>\n",
       "    </tr>\n",
       "    <tr>\n",
       "      <th>Hakkarainen, Mrs. Pekka Pietari</th>\n",
       "      <td>yes</td>\n",
       "      <td>24.0</td>\n",
       "      <td>1.0</td>\n",
       "      <td>0.0</td>\n",
       "      <td>0.0</td>\n",
       "      <td>0.0</td>\n",
       "      <td>1.0</td>\n",
       "    </tr>\n",
       "    <tr>\n",
       "      <th>Harper, Mrs. Henry Sleeper (Myn</th>\n",
       "      <td>yes</td>\n",
       "      <td>49.0</td>\n",
       "      <td>1.0</td>\n",
       "      <td>0.0</td>\n",
       "      <td>1.0</td>\n",
       "      <td>0.0</td>\n",
       "      <td>0.0</td>\n",
       "    </tr>\n",
       "    <tr>\n",
       "      <th>Kimball, Mr. Edwin Nelson Jr</th>\n",
       "      <td>yes</td>\n",
       "      <td>42.0</td>\n",
       "      <td>0.0</td>\n",
       "      <td>1.0</td>\n",
       "      <td>1.0</td>\n",
       "      <td>0.0</td>\n",
       "      <td>0.0</td>\n",
       "    </tr>\n",
       "  </tbody>\n",
       "</table>\n",
       "</div>"
      ],
      "text/plain": [
       "                                survived   age  sex_female  sex_male  \\\n",
       "Pickard, Mr. Berk (Berk Trembis      yes  32.0         0.0       1.0   \n",
       "Mamee, Mr. Hanna                     yes  28.0         0.0       1.0   \n",
       "Hakkarainen, Mrs. Pekka Pietari      yes  24.0         1.0       0.0   \n",
       "Harper, Mrs. Henry Sleeper (Myn      yes  49.0         1.0       0.0   \n",
       "Kimball, Mr. Edwin Nelson Jr         yes  42.0         0.0       1.0   \n",
       "\n",
       "                                 passengerClass_1st  passengerClass_2nd  \\\n",
       "Pickard, Mr. Berk (Berk Trembis                 0.0                 0.0   \n",
       "Mamee, Mr. Hanna                                0.0                 0.0   \n",
       "Hakkarainen, Mrs. Pekka Pietari                 0.0                 0.0   \n",
       "Harper, Mrs. Henry Sleeper (Myn                 1.0                 0.0   \n",
       "Kimball, Mr. Edwin Nelson Jr                    1.0                 0.0   \n",
       "\n",
       "                                 passengerClass_3rd  \n",
       "Pickard, Mr. Berk (Berk Trembis                 1.0  \n",
       "Mamee, Mr. Hanna                                1.0  \n",
       "Hakkarainen, Mrs. Pekka Pietari                 1.0  \n",
       "Harper, Mrs. Henry Sleeper (Myn                 0.0  \n",
       "Kimball, Mr. Edwin Nelson Jr                    0.0  "
      ]
     },
     "execution_count": 47,
     "metadata": {},
     "output_type": "execute_result"
    }
   ],
   "source": [
    "enc = OneHotEncoder(handle_unknown = 'ignore', \n",
    "                    sparse = False)\n",
    "\n",
    "enc_raw_data_train = TrainDS_ImpConst.drop(columns = 'survived').select_dtypes(include = ['object', 'category'])\n",
    "\n",
    "enc = enc.fit(enc_raw_data_train)\n",
    "\n",
    "encoded_data_train = pd.DataFrame(enc.transform(enc_raw_data_train))\n",
    "\n",
    "encoded_data_train.columns = enc.get_feature_names_out(enc_raw_data_train.columns)\n",
    "encoded_data_train.index = enc_raw_data_train.index\n",
    "\n",
    "TrainDS_ImpConstEnc = pd.concat([TrainDS_ImpConst.drop(enc_raw_data_train.columns, axis = 1), encoded_data_train], axis = 1)\n",
    "\n",
    "TrainDS_ImpConstEnc.head()"
   ]
  },
  {
   "cell_type": "markdown",
   "metadata": {},
   "source": [
    "Finally, just in case we have columns with no variance, we can remove them using a variance threshold approach:"
   ]
  },
  {
   "cell_type": "code",
   "execution_count": 48,
   "metadata": {},
   "outputs": [
    {
     "data": {
      "text/html": [
       "<div>\n",
       "<style scoped>\n",
       "    .dataframe tbody tr th:only-of-type {\n",
       "        vertical-align: middle;\n",
       "    }\n",
       "\n",
       "    .dataframe tbody tr th {\n",
       "        vertical-align: top;\n",
       "    }\n",
       "\n",
       "    .dataframe thead th {\n",
       "        text-align: right;\n",
       "    }\n",
       "</style>\n",
       "<table border=\"1\" class=\"dataframe\">\n",
       "  <thead>\n",
       "    <tr style=\"text-align: right;\">\n",
       "      <th></th>\n",
       "      <th>survived</th>\n",
       "      <th>age</th>\n",
       "      <th>sex_female</th>\n",
       "      <th>sex_male</th>\n",
       "      <th>passengerClass_1st</th>\n",
       "      <th>passengerClass_2nd</th>\n",
       "      <th>passengerClass_3rd</th>\n",
       "    </tr>\n",
       "  </thead>\n",
       "  <tbody>\n",
       "    <tr>\n",
       "      <th>Pickard, Mr. Berk (Berk Trembis</th>\n",
       "      <td>yes</td>\n",
       "      <td>32.0</td>\n",
       "      <td>0.0</td>\n",
       "      <td>1.0</td>\n",
       "      <td>0.0</td>\n",
       "      <td>0.0</td>\n",
       "      <td>1.0</td>\n",
       "    </tr>\n",
       "    <tr>\n",
       "      <th>Mamee, Mr. Hanna</th>\n",
       "      <td>yes</td>\n",
       "      <td>28.0</td>\n",
       "      <td>0.0</td>\n",
       "      <td>1.0</td>\n",
       "      <td>0.0</td>\n",
       "      <td>0.0</td>\n",
       "      <td>1.0</td>\n",
       "    </tr>\n",
       "    <tr>\n",
       "      <th>Hakkarainen, Mrs. Pekka Pietari</th>\n",
       "      <td>yes</td>\n",
       "      <td>24.0</td>\n",
       "      <td>1.0</td>\n",
       "      <td>0.0</td>\n",
       "      <td>0.0</td>\n",
       "      <td>0.0</td>\n",
       "      <td>1.0</td>\n",
       "    </tr>\n",
       "    <tr>\n",
       "      <th>Harper, Mrs. Henry Sleeper (Myn</th>\n",
       "      <td>yes</td>\n",
       "      <td>49.0</td>\n",
       "      <td>1.0</td>\n",
       "      <td>0.0</td>\n",
       "      <td>1.0</td>\n",
       "      <td>0.0</td>\n",
       "      <td>0.0</td>\n",
       "    </tr>\n",
       "    <tr>\n",
       "      <th>Kimball, Mr. Edwin Nelson Jr</th>\n",
       "      <td>yes</td>\n",
       "      <td>42.0</td>\n",
       "      <td>0.0</td>\n",
       "      <td>1.0</td>\n",
       "      <td>1.0</td>\n",
       "      <td>0.0</td>\n",
       "      <td>0.0</td>\n",
       "    </tr>\n",
       "  </tbody>\n",
       "</table>\n",
       "</div>"
      ],
      "text/plain": [
       "                                survived   age  sex_female  sex_male  \\\n",
       "Pickard, Mr. Berk (Berk Trembis      yes  32.0         0.0       1.0   \n",
       "Mamee, Mr. Hanna                     yes  28.0         0.0       1.0   \n",
       "Hakkarainen, Mrs. Pekka Pietari      yes  24.0         1.0       0.0   \n",
       "Harper, Mrs. Henry Sleeper (Myn      yes  49.0         1.0       0.0   \n",
       "Kimball, Mr. Edwin Nelson Jr         yes  42.0         0.0       1.0   \n",
       "\n",
       "                                 passengerClass_1st  passengerClass_2nd  \\\n",
       "Pickard, Mr. Berk (Berk Trembis                 0.0                 0.0   \n",
       "Mamee, Mr. Hanna                                0.0                 0.0   \n",
       "Hakkarainen, Mrs. Pekka Pietari                 0.0                 0.0   \n",
       "Harper, Mrs. Henry Sleeper (Myn                 1.0                 0.0   \n",
       "Kimball, Mr. Edwin Nelson Jr                    1.0                 0.0   \n",
       "\n",
       "                                 passengerClass_3rd  \n",
       "Pickard, Mr. Berk (Berk Trembis                 1.0  \n",
       "Mamee, Mr. Hanna                                1.0  \n",
       "Hakkarainen, Mrs. Pekka Pietari                 1.0  \n",
       "Harper, Mrs. Henry Sleeper (Myn                 0.0  \n",
       "Kimball, Mr. Edwin Nelson Jr                    0.0  "
      ]
     },
     "execution_count": 48,
     "metadata": {},
     "output_type": "execute_result"
    }
   ],
   "source": [
    "selector = VarianceThreshold()\n",
    "\n",
    "sel_raw_data_train = TrainDS_ImpConstEnc.drop(columns = 'survived')\n",
    "\n",
    "selector = selector.fit(sel_raw_data_train)\n",
    "\n",
    "selected_data_train = sel_raw_data_train.iloc[:, selector.get_support(indices = True)]\n",
    "\n",
    "TrainDS_ImpConstEncSel = pd.concat([TrainDS_ImpConstEnc.drop(sel_raw_data_train.columns, axis = 1), selected_data_train], axis = 1)\n",
    "\n",
    "TrainDS_ImpConstEncSel.head()"
   ]
  },
  {
   "cell_type": "markdown",
   "metadata": {},
   "source": [
    "That takes care of the three preprocessing steps we discussed above. However, it's important to note there are other considerations for preprocessing that may influence model performance, such as centering/scaling, which are easy to perform in sklearn as described [here](https://scikit-learn.org/stable/modules/preprocessing.html). However, note that while some models often/typically benefit from centering/scaling (e.g., k-means clustering, SVM), other models such as tree models do not require it (and performing centering/scaling makes interpretation potentially more complicated for these types of models). Moreover, if all the predictor data were already on the same scale (e.g., a series of Likert scale items), then centering/scaling may actually be counterproductive in terms of model performance, and occasionally centering/scaling may lead to worse model performance with a given set of predictors. In other words, there is no one-size-fits-all solution when it comes to machine learning such as \"always center/scale\": always consider the data/models when making preprocessing decisions, and when in doubt, try fitting models with and without various preprocessing steps performed to compare the impact on the results.\n",
    "\n",
    "Now, before we move on, we need to apply all of the preprocessing we performed earlier using the training data to the testing data as well so that we can evaluate our models later in the script. It's important to recognize the test data is being preprocessed using values from the training data to avoid *data leakage*. Moreover, unlike the training data, the test data was ***not*** downsampled!"
   ]
  },
  {
   "cell_type": "code",
   "execution_count": 49,
   "metadata": {},
   "outputs": [
    {
     "data": {
      "text/html": [
       "<div>\n",
       "<style scoped>\n",
       "    .dataframe tbody tr th:only-of-type {\n",
       "        vertical-align: middle;\n",
       "    }\n",
       "\n",
       "    .dataframe tbody tr th {\n",
       "        vertical-align: top;\n",
       "    }\n",
       "\n",
       "    .dataframe thead th {\n",
       "        text-align: right;\n",
       "    }\n",
       "</style>\n",
       "<table border=\"1\" class=\"dataframe\">\n",
       "  <thead>\n",
       "    <tr style=\"text-align: right;\">\n",
       "      <th></th>\n",
       "      <th>survived</th>\n",
       "      <th>sex</th>\n",
       "      <th>age</th>\n",
       "      <th>passengerClass</th>\n",
       "    </tr>\n",
       "  </thead>\n",
       "  <tbody>\n",
       "    <tr>\n",
       "      <th>Risien, Mrs. Samuel (Emma)</th>\n",
       "      <td>no</td>\n",
       "      <td>female</td>\n",
       "      <td>NaN</td>\n",
       "      <td>3rd</td>\n",
       "    </tr>\n",
       "    <tr>\n",
       "      <th>Sadlier, Mr. Matthew</th>\n",
       "      <td>no</td>\n",
       "      <td>male</td>\n",
       "      <td>NaN</td>\n",
       "      <td>3rd</td>\n",
       "    </tr>\n",
       "    <tr>\n",
       "      <th>Widener, Mr. George Dunton</th>\n",
       "      <td>no</td>\n",
       "      <td>male</td>\n",
       "      <td>50.0</td>\n",
       "      <td>1st</td>\n",
       "    </tr>\n",
       "    <tr>\n",
       "      <th>Daly, Miss. Margaret Marcella</th>\n",
       "      <td>yes</td>\n",
       "      <td>female</td>\n",
       "      <td>30.0</td>\n",
       "      <td>3rd</td>\n",
       "    </tr>\n",
       "    <tr>\n",
       "      <th>Bryhl, Mr. Kurt Arnold Gottfrid</th>\n",
       "      <td>no</td>\n",
       "      <td>male</td>\n",
       "      <td>25.0</td>\n",
       "      <td>2nd</td>\n",
       "    </tr>\n",
       "  </tbody>\n",
       "</table>\n",
       "</div>"
      ],
      "text/plain": [
       "                                survived     sex   age passengerClass\n",
       "Risien, Mrs. Samuel (Emma)            no  female   NaN            3rd\n",
       "Sadlier, Mr. Matthew                  no    male   NaN            3rd\n",
       "Widener, Mr. George Dunton            no    male  50.0            1st\n",
       "Daly, Miss. Margaret Marcella        yes  female  30.0            3rd\n",
       "Bryhl, Mr. Kurt Arnold Gottfrid       no    male  25.0            2nd"
      ]
     },
     "execution_count": 49,
     "metadata": {},
     "output_type": "execute_result"
    }
   ],
   "source": [
    "Test.head()"
   ]
  },
  {
   "cell_type": "code",
   "execution_count": 50,
   "metadata": {},
   "outputs": [
    {
     "data": {
      "text/html": [
       "<div>\n",
       "<style scoped>\n",
       "    .dataframe tbody tr th:only-of-type {\n",
       "        vertical-align: middle;\n",
       "    }\n",
       "\n",
       "    .dataframe tbody tr th {\n",
       "        vertical-align: top;\n",
       "    }\n",
       "\n",
       "    .dataframe thead th {\n",
       "        text-align: right;\n",
       "    }\n",
       "</style>\n",
       "<table border=\"1\" class=\"dataframe\">\n",
       "  <thead>\n",
       "    <tr style=\"text-align: right;\">\n",
       "      <th></th>\n",
       "      <th>survived</th>\n",
       "      <th>age</th>\n",
       "      <th>sex_female</th>\n",
       "      <th>sex_male</th>\n",
       "      <th>passengerClass_1st</th>\n",
       "      <th>passengerClass_2nd</th>\n",
       "      <th>passengerClass_3rd</th>\n",
       "    </tr>\n",
       "  </thead>\n",
       "  <tbody>\n",
       "    <tr>\n",
       "      <th>Risien, Mrs. Samuel (Emma)</th>\n",
       "      <td>no</td>\n",
       "      <td>28.0</td>\n",
       "      <td>1.0</td>\n",
       "      <td>0.0</td>\n",
       "      <td>0.0</td>\n",
       "      <td>0.0</td>\n",
       "      <td>1.0</td>\n",
       "    </tr>\n",
       "    <tr>\n",
       "      <th>Sadlier, Mr. Matthew</th>\n",
       "      <td>no</td>\n",
       "      <td>28.0</td>\n",
       "      <td>0.0</td>\n",
       "      <td>1.0</td>\n",
       "      <td>0.0</td>\n",
       "      <td>0.0</td>\n",
       "      <td>1.0</td>\n",
       "    </tr>\n",
       "    <tr>\n",
       "      <th>Widener, Mr. George Dunton</th>\n",
       "      <td>no</td>\n",
       "      <td>50.0</td>\n",
       "      <td>0.0</td>\n",
       "      <td>1.0</td>\n",
       "      <td>1.0</td>\n",
       "      <td>0.0</td>\n",
       "      <td>0.0</td>\n",
       "    </tr>\n",
       "    <tr>\n",
       "      <th>Daly, Miss. Margaret Marcella</th>\n",
       "      <td>yes</td>\n",
       "      <td>30.0</td>\n",
       "      <td>1.0</td>\n",
       "      <td>0.0</td>\n",
       "      <td>0.0</td>\n",
       "      <td>0.0</td>\n",
       "      <td>1.0</td>\n",
       "    </tr>\n",
       "    <tr>\n",
       "      <th>Bryhl, Mr. Kurt Arnold Gottfrid</th>\n",
       "      <td>no</td>\n",
       "      <td>25.0</td>\n",
       "      <td>0.0</td>\n",
       "      <td>1.0</td>\n",
       "      <td>0.0</td>\n",
       "      <td>1.0</td>\n",
       "      <td>0.0</td>\n",
       "    </tr>\n",
       "  </tbody>\n",
       "</table>\n",
       "</div>"
      ],
      "text/plain": [
       "                                survived   age  sex_female  sex_male  \\\n",
       "Risien, Mrs. Samuel (Emma)            no  28.0         1.0       0.0   \n",
       "Sadlier, Mr. Matthew                  no  28.0         0.0       1.0   \n",
       "Widener, Mr. George Dunton            no  50.0         0.0       1.0   \n",
       "Daly, Miss. Margaret Marcella        yes  30.0         1.0       0.0   \n",
       "Bryhl, Mr. Kurt Arnold Gottfrid       no  25.0         0.0       1.0   \n",
       "\n",
       "                                 passengerClass_1st  passengerClass_2nd  \\\n",
       "Risien, Mrs. Samuel (Emma)                      0.0                 0.0   \n",
       "Sadlier, Mr. Matthew                            0.0                 0.0   \n",
       "Widener, Mr. George Dunton                      1.0                 0.0   \n",
       "Daly, Miss. Margaret Marcella                   0.0                 0.0   \n",
       "Bryhl, Mr. Kurt Arnold Gottfrid                 0.0                 1.0   \n",
       "\n",
       "                                 passengerClass_3rd  \n",
       "Risien, Mrs. Samuel (Emma)                      1.0  \n",
       "Sadlier, Mr. Matthew                            1.0  \n",
       "Widener, Mr. George Dunton                      0.0  \n",
       "Daly, Miss. Margaret Marcella                   1.0  \n",
       "Bryhl, Mr. Kurt Arnold Gottfrid                 0.0  "
      ]
     },
     "execution_count": 50,
     "metadata": {},
     "output_type": "execute_result"
    }
   ],
   "source": [
    "# median imputation (for numeric data)\n",
    "\n",
    "imp_raw_data_test = Test.drop(columns = 'survived').select_dtypes(exclude = ['object', 'category'])\n",
    "\n",
    "imputed_data_test = pd.DataFrame(imp_median.transform(imp_raw_data_test))\n",
    "\n",
    "imputed_data_test.columns = imp_raw_data_test.columns\n",
    "imputed_data_test.index = imp_raw_data_test.index\n",
    "\n",
    "Test_Imp = pd.concat([Test.drop(imp_raw_data_test.columns, axis = 1), imputed_data_test], axis = 1)\n",
    "\n",
    "# constant imputation (for categorical data)\n",
    "\n",
    "imp_raw_data_test = Test_Imp.drop(columns = 'survived').select_dtypes(include = ['object', 'category'])\n",
    "\n",
    "imputed_data_test = pd.DataFrame(imp_constant.transform(imp_raw_data_test))\n",
    "\n",
    "imputed_data_test.columns = imp_raw_data_test.columns\n",
    "imputed_data_test.index = imp_raw_data_test.index\n",
    "\n",
    "Test_ImpConst = pd.concat([Test_Imp.drop(imp_raw_data_test.columns, axis = 1), imputed_data_test], axis = 1)\n",
    "\n",
    "# one hot encoding (for categorical data)\n",
    "\n",
    "enc_raw_data_test = Test_ImpConst.drop(columns = 'survived').select_dtypes(include = ['object', 'category'])\n",
    "\n",
    "encoded_data_test = pd.DataFrame(enc.transform(enc_raw_data_test))\n",
    "\n",
    "encoded_data_test.columns = enc.get_feature_names_out(enc_raw_data_test.columns)\n",
    "encoded_data_test.index = enc_raw_data_test.index\n",
    "\n",
    "Test_ImpConstEnc = pd.concat([Test_ImpConst.drop(enc_raw_data_test.columns, axis = 1), encoded_data_test], axis = 1)\n",
    "\n",
    "# final result\n",
    "\n",
    "Test_ImpConstEnc.head()"
   ]
  },
  {
   "cell_type": "markdown",
   "metadata": {},
   "source": [
    "That takes care of applying the various data cleaning methods generated using the training data to the test date (note that it's not necessary to perform zero variance removal for the test data since the additional columns are irrelevant when it comes to generating test predictions).\n",
    "\n",
    "Now let's fit several tree-based machine learning models including:\n",
    "\n",
    "1. [Decision Tree](https://scikit-learn.org/stable/modules/generated/sklearn.tree.DecisionTreeClassifier.html)\n",
    "2. [AdaBoost](https://scikit-learn.org/stable/modules/generated/sklearn.ensemble.AdaBoostClassifier.html)\n",
    "3. [Random Forest](https://scikit-learn.org/stable/modules/generated/sklearn.ensemble.RandomForestClassifier.html)\n",
    "\n",
    "Before we get started, let's discuss the issue of *hyperparameter tuning*, which are model-specific settings that can influence prediction results (e.g., accuracy). To see what parameters a model supports, use the ***get_params*** method; for example, for a [*decision tree*](https://scikit-learn.org/stable/modules/tree.html) classifer, we can use:"
   ]
  },
  {
   "cell_type": "code",
   "execution_count": 51,
   "metadata": {},
   "outputs": [
    {
     "data": {
      "text/plain": [
       "{'ccp_alpha': 0.0,\n",
       " 'class_weight': None,\n",
       " 'criterion': 'gini',\n",
       " 'max_depth': None,\n",
       " 'max_features': None,\n",
       " 'max_leaf_nodes': None,\n",
       " 'min_impurity_decrease': 0.0,\n",
       " 'min_samples_leaf': 1,\n",
       " 'min_samples_split': 2,\n",
       " 'min_weight_fraction_leaf': 0.0,\n",
       " 'random_state': None,\n",
       " 'splitter': 'best'}"
      ]
     },
     "execution_count": 51,
     "metadata": {},
     "output_type": "execute_result"
    }
   ],
   "source": [
    "DecisionTreeClassifier().get_params()"
   ]
  },
  {
   "cell_type": "markdown",
   "metadata": {},
   "source": [
    "Additional information regarding these model-specific parameters can be found via ***help*** (e.g., `help(DecisionTreeClassifier)`) or via a Google search.\n",
    "\n",
    "A common question that often comes up when training and tuning models is what settings to use to yield the best performance. The answer to this question is two-fold:\n",
    "\n",
    "1. in terms of default/starting settings, there are often rule-of-thumb defaults that often come out of the literature on machine learning; for example, for random forest models, the recommended number of trees for classification problems is $\\sqrt{p}$, where $p$ is the number of parameters in the data (e.g., see [The Elements of\n",
    "Statistical Learning](https://web.stanford.edu/~hastie/ElemStatLearn/))\n",
    "2. realistically, the best settings depend upon the data, so you'll need to try various combinations of settings to see what works best\n",
    "\n",
    "Conveniently, sklearn provides a variety of functions to streamline the model tuning process as documented [here](https://scikit-learn.org/stable/modules/grid_search.html). For this tutorial, we'll focus on the *grid search* approach, which involves sequentally evaluating setting combinations to find the optima. Specifically, we'll be using the [***GridSearchCV***](https://scikit-learn.org/stable/modules/generated/sklearn.model_selection.GridSearchCV.html#sklearn.model_selection.GridSearchCV) function, which uses [*cross-validation*](https://scikit-learn.org/stable/modules/cross_validation.html#cross-validation) (a resampling procedure) to exhaustively evaluate different settings from a set of predefined options. After testing all of the parameter combinations, it will ultimately find and utilize the setting with the best predictive performance based on a selected [*evaluation metric*](https://scikit-learn.org/stable/modules/model_evaluation.html#scoring-parameter) such as *balanced accuracy* or *receiver operater charactertistic (ROC) area under the curve (AUC)* -- for details on these, see the following section of the sklearn [guide](https://scikit-learn.org/stable/modules/model_evaluation.html).\n",
    "\n",
    "Let's see this using our data:"
   ]
  },
  {
   "cell_type": "code",
   "execution_count": 52,
   "metadata": {},
   "outputs": [
    {
     "name": "stdout",
     "output_type": "stream",
     "text": [
      "Now working on model 1 of 3: Decision Tree\n",
      "Now working on model 2 of 3: AdaBoost\n",
      "Now working on model 3 of 3: Random Forest\n",
      "Finished!\n"
     ]
    }
   ],
   "source": [
    "# set up data\n",
    "X_train = TrainDS_ImpConstEncSel.drop(columns = 'survived')\n",
    "y_train = TrainDS_ImpConstEncSel.survived\n",
    "\n",
    "X_test = Test_ImpConstEnc.drop(columns = 'survived')\n",
    "y_test = Test_ImpConstEnc.survived\n",
    "\n",
    "# set up outcome labels\n",
    "labels = {'no': 0,\n",
    "          'yes': 1}\n",
    "\n",
    "# set up scoring metric\n",
    "scoring_metric = 'balanced_accuracy'\n",
    "\n",
    "# set up classifiers and tuning parameters\n",
    "names = ['Decision Tree', 'AdaBoost', 'Random Forest']\n",
    "classifiers = [DecisionTreeClassifier(random_state = 345), \n",
    "               AdaBoostClassifier(random_state = 345), \n",
    "               RandomForestClassifier(random_state = 345)]\n",
    "param_grids = [{'max_depth': [2, 3, 4], 'criterion': ['gini', 'entropy']}, \n",
    "               {'n_estimators': [25, 50, 100, 150, 300]}, \n",
    "               {'max_depth': [2, 3, 4], 'max_features': [None, 'sqrt', 'log2'], 'n_estimators': [50, 100, 150]}]\n",
    "\n",
    "# create empty lists for storing outcomes\n",
    "models = []\n",
    "preds = []\n",
    "probs = []\n",
    "BAs = []\n",
    "AUCs = []\n",
    "FPRs = []\n",
    "TPRs = []\n",
    "timings = []\n",
    "\n",
    "# relabel outcome variable with integers for compatibility (e.g., for xgboost)\n",
    "y_train = y_train.replace(labels)\n",
    "y_test = y_test.replace(labels)\n",
    "\n",
    "# train classifiers and generate test predictions/probabilities\n",
    "for i, eachClassifier in enumerate(classifiers):\n",
    "    \n",
    "    print('Now working on model ', i + 1, ' of ', len(classifiers), ': ', names[i], sep = '')\n",
    "    \n",
    "    # define cross-validation/parameter tuning settings\n",
    "    search = GridSearchCV(eachClassifier, \n",
    "                          param_grids[i], \n",
    "                          cv = 5, # using (Stratified)KFold by default (with 5 folds)\n",
    "                          scoring = scoring_metric,\n",
    "                          n_jobs = -1) # use parallel processing\n",
    "    \n",
    "    model = search.fit(X_train, y_train)\n",
    "    pred = search.predict(X_test)\n",
    "    prob = search.predict_proba(X_test)[:, 1]\n",
    "    \n",
    "    models.append(model)\n",
    "    preds.append(pred)\n",
    "    probs.append(prob)\n",
    "    \n",
    "    BAs.append(balanced_accuracy_score(y_test, pred))\n",
    "    AUCs.append(roc_auc_score(y_test, prob))\n",
    "    \n",
    "    FPR, TPR, _ = roc_curve(y_test, prob)\n",
    "    \n",
    "    FPRs.append(FPR)\n",
    "    TPRs.append(TPR)\n",
    "    \n",
    "    timings.append(model.refit_time_)\n",
    "    \n",
    "print('Finished!')"
   ]
  },
  {
   "cell_type": "markdown",
   "metadata": {},
   "source": [
    "Now we can create a DataFrame of our results, sorted by the highest (i.e., best) balanced accuracy/AUC score on the testing data:"
   ]
  },
  {
   "cell_type": "code",
   "execution_count": 53,
   "metadata": {},
   "outputs": [
    {
     "data": {
      "text/html": [
       "<div>\n",
       "<style scoped>\n",
       "    .dataframe tbody tr th:only-of-type {\n",
       "        vertical-align: middle;\n",
       "    }\n",
       "\n",
       "    .dataframe tbody tr th {\n",
       "        vertical-align: top;\n",
       "    }\n",
       "\n",
       "    .dataframe thead th {\n",
       "        text-align: right;\n",
       "    }\n",
       "</style>\n",
       "<table border=\"1\" class=\"dataframe\">\n",
       "  <thead>\n",
       "    <tr style=\"text-align: right;\">\n",
       "      <th></th>\n",
       "      <th>Classifier</th>\n",
       "      <th>Refit Time</th>\n",
       "      <th>Balanced Accuracy</th>\n",
       "      <th>AUC</th>\n",
       "    </tr>\n",
       "  </thead>\n",
       "  <tbody>\n",
       "    <tr>\n",
       "      <th>2</th>\n",
       "      <td>Random Forest</td>\n",
       "      <td>0.093</td>\n",
       "      <td>0.772</td>\n",
       "      <td>0.839</td>\n",
       "    </tr>\n",
       "    <tr>\n",
       "      <th>0</th>\n",
       "      <td>Decision Tree</td>\n",
       "      <td>0.009</td>\n",
       "      <td>0.768</td>\n",
       "      <td>0.832</td>\n",
       "    </tr>\n",
       "    <tr>\n",
       "      <th>1</th>\n",
       "      <td>AdaBoost</td>\n",
       "      <td>0.161</td>\n",
       "      <td>0.748</td>\n",
       "      <td>0.814</td>\n",
       "    </tr>\n",
       "  </tbody>\n",
       "</table>\n",
       "</div>"
      ],
      "text/plain": [
       "      Classifier  Refit Time  Balanced Accuracy    AUC\n",
       "2  Random Forest       0.093              0.772  0.839\n",
       "0  Decision Tree       0.009              0.768  0.832\n",
       "1       AdaBoost       0.161              0.748  0.814"
      ]
     },
     "metadata": {},
     "output_type": "display_data"
    }
   ],
   "source": [
    "results = pd.DataFrame({'Classifier': names, \n",
    "                        'Balanced Accuracy': BAs, \n",
    "                        'AUC': AUCs, \n",
    "                        'TPR': TPRs, \n",
    "                        'FPR': FPRs, \n",
    "                        'Refit Time': timings}).sort_values(['Balanced Accuracy', 'AUC'], ascending = False)\n",
    "\n",
    "display(results[['Classifier', 'Refit Time', 'Balanced Accuracy', 'AUC']].round(3))"
   ]
  },
  {
   "cell_type": "markdown",
   "metadata": {},
   "source": [
    "We can also plot these data to see which model performed best (e.g., based on AUC), colored relative to model refit time (where lower, <font color = 'green'>**greener**</font> times are better):"
   ]
  },
  {
   "cell_type": "code",
   "execution_count": 54,
   "metadata": {},
   "outputs": [
    {
     "name": "stderr",
     "output_type": "stream",
     "text": [
      "/var/folders/g0/w4d4cqfj3cgchjzwlrlfdj740000gq/T/ipykernel_22157/1770620105.py:16: MatplotlibDeprecationWarning: Auto-removal of grids by pcolor() and pcolormesh() is deprecated since 3.5 and will be removed two minor releases later; please call grid(False) first.\n",
      "  ax.figure.colorbar(smRTs)\n"
     ]
    },
    {
     "data": {
      "image/png": "[encoded data removed]",
      "text/plain": [
       "<Figure size 504x432 with 2 Axes>"
      ]
     },
     "metadata": {},
     "output_type": "display_data"
    }
   ],
   "source": [
    "greenToRed = LinearSegmentedColormap.from_list('', ['green', 'whitesmoke', 'red'])\n",
    "cm.register_cmap('green_to_red', greenToRed)\n",
    "\n",
    "normRTs = plt.Normalize(results['Refit Time'].min(), results['Refit Time'].max())\n",
    "smRTs = plt.cm.ScalarMappable(cmap = 'green_to_red', norm = normRTs)\n",
    "\n",
    "ax = sns.barplot(y = 'Classifier', \n",
    "                 x = 'AUC', \n",
    "                 hue = 'Refit Time', \n",
    "                 dodge = False, \n",
    "                 palette = 'green_to_red', \n",
    "                 edgecolor = '.2', \n",
    "                 data = results)\n",
    "\n",
    "ax.get_legend().remove()\n",
    "ax.figure.colorbar(smRTs)\n",
    "ax.set(title = 'AUC Relative to Refit Time (s)')\n",
    "ax.set(xlim = (math.floor(results.AUC.min() * 10) * 10/100, \n",
    "               results.AUC.max() * 1.01))\n",
    "\n",
    "plt.show()"
   ]
  },
  {
   "cell_type": "markdown",
   "metadata": {},
   "source": [
    "We can also compare our models visually by plotting the *receiver operating characteristic (ROC)* curves for each model:"
   ]
  },
  {
   "cell_type": "code",
   "execution_count": 55,
   "metadata": {},
   "outputs": [
    {
     "data": {
      "image/png": "[encoded data removed]",
      "text/plain": [
       "<Figure size 576x576 with 1 Axes>"
      ]
     },
     "metadata": {},
     "output_type": "display_data"
    }
   ],
   "source": [
    "# defining a custom function for reuse later\n",
    "def Custom_ROC_Plot (results, X_test, y_test, title, figwidth = 8, figheight = 8):\n",
    "\n",
    "    fig, ax = plt.subplots(figsize = (figwidth, figheight))\n",
    "\n",
    "    ax.plot(ax.get_xlim(), ax.get_ylim(), ls = '--', c = 'k')\n",
    "    ax.set(title = title)\n",
    "\n",
    "    for i in results.index:\n",
    "        RocCurveDisplay.from_estimator(models[i], \n",
    "                                       X_test, \n",
    "                                       y_test, \n",
    "                                       color = cm.Set1(i), \n",
    "                                       label = results.loc[i, 'Classifier'] + ': {:.3f}'.format(results.loc[i, 'AUC']), \n",
    "                                       ax = ax)\n",
    "        \n",
    "    return([fig, ax])\n",
    "\n",
    "fig, ax = Custom_ROC_Plot(results, X_test, y_test, title = 'Test AUC Comparison')"
   ]
  },
  {
   "cell_type": "markdown",
   "metadata": {},
   "source": [
    "Overall these models all perform pretty similarly and are within rounding error of each other -- realistically, any of them would suit us well, but we'll stick with the random forest since it has the highest AUC (despite also having a somewhat long refit time -- albiet with these timing differences measured in milliseconds in this case).\n",
    "\n",
    "Let's now pull out the index of our best model from our results (i.e., the first index from the DataFrame, since it was sorted by descending AUC):"
   ]
  },
  {
   "cell_type": "code",
   "execution_count": 56,
   "metadata": {},
   "outputs": [],
   "source": [
    "best_index = results.index[0]"
   ]
  },
  {
   "cell_type": "markdown",
   "metadata": {},
   "source": [
    "Using this, we can pull up details regarding the best model that resulted from our tuning procedure:"
   ]
  },
  {
   "cell_type": "code",
   "execution_count": 57,
   "metadata": {},
   "outputs": [
    {
     "data": {
      "text/plain": [
       "RandomForestClassifier(max_depth=3, max_features='sqrt', n_estimators=50,\n",
       "                       random_state=345)"
      ]
     },
     "execution_count": 57,
     "metadata": {},
     "output_type": "execute_result"
    }
   ],
   "source": [
    "models[best_index].best_estimator_"
   ]
  },
  {
   "cell_type": "markdown",
   "metadata": {},
   "source": [
    "If desired, we can also pull up some additional details regarding our model tuning process (e.g., to see how different parameters performed during the tuning process):"
   ]
  },
  {
   "cell_type": "code",
   "execution_count": 58,
   "metadata": {},
   "outputs": [
    {
     "data": {
      "text/html": [
       "<div>\n",
       "<style scoped>\n",
       "    .dataframe tbody tr th:only-of-type {\n",
       "        vertical-align: middle;\n",
       "    }\n",
       "\n",
       "    .dataframe tbody tr th {\n",
       "        vertical-align: top;\n",
       "    }\n",
       "\n",
       "    .dataframe thead th {\n",
       "        text-align: right;\n",
       "    }\n",
       "</style>\n",
       "<table border=\"1\" class=\"dataframe\">\n",
       "  <thead>\n",
       "    <tr style=\"text-align: right;\">\n",
       "      <th></th>\n",
       "      <th>mean_fit_time</th>\n",
       "      <th>std_fit_time</th>\n",
       "      <th>mean_score_time</th>\n",
       "      <th>std_score_time</th>\n",
       "      <th>param_max_depth</th>\n",
       "      <th>param_max_features</th>\n",
       "      <th>param_n_estimators</th>\n",
       "      <th>params</th>\n",
       "      <th>split0_test_score</th>\n",
       "      <th>split1_test_score</th>\n",
       "      <th>split2_test_score</th>\n",
       "      <th>split3_test_score</th>\n",
       "      <th>split4_test_score</th>\n",
       "      <th>mean_test_score</th>\n",
       "      <th>std_test_score</th>\n",
       "      <th>rank_test_score</th>\n",
       "    </tr>\n",
       "  </thead>\n",
       "  <tbody>\n",
       "    <tr>\n",
       "      <th>15</th>\n",
       "      <td>0.247</td>\n",
       "      <td>0.005</td>\n",
       "      <td>0.025</td>\n",
       "      <td>0.002</td>\n",
       "      <td>3</td>\n",
       "      <td>log2</td>\n",
       "      <td>50</td>\n",
       "      <td>{'max_depth': 3, 'max_features': 'log2', 'n_es...</td>\n",
       "      <td>0.862</td>\n",
       "      <td>0.775</td>\n",
       "      <td>0.788</td>\n",
       "      <td>0.775</td>\n",
       "      <td>0.719</td>\n",
       "      <td>0.784</td>\n",
       "      <td>0.046</td>\n",
       "      <td>1</td>\n",
       "    </tr>\n",
       "    <tr>\n",
       "      <th>12</th>\n",
       "      <td>0.240</td>\n",
       "      <td>0.008</td>\n",
       "      <td>0.028</td>\n",
       "      <td>0.004</td>\n",
       "      <td>3</td>\n",
       "      <td>sqrt</td>\n",
       "      <td>50</td>\n",
       "      <td>{'max_depth': 3, 'max_features': 'sqrt', 'n_es...</td>\n",
       "      <td>0.862</td>\n",
       "      <td>0.775</td>\n",
       "      <td>0.788</td>\n",
       "      <td>0.775</td>\n",
       "      <td>0.719</td>\n",
       "      <td>0.784</td>\n",
       "      <td>0.046</td>\n",
       "      <td>1</td>\n",
       "    </tr>\n",
       "    <tr>\n",
       "      <th>13</th>\n",
       "      <td>0.465</td>\n",
       "      <td>0.007</td>\n",
       "      <td>0.043</td>\n",
       "      <td>0.003</td>\n",
       "      <td>3</td>\n",
       "      <td>sqrt</td>\n",
       "      <td>100</td>\n",
       "      <td>{'max_depth': 3, 'max_features': 'sqrt', 'n_es...</td>\n",
       "      <td>0.862</td>\n",
       "      <td>0.775</td>\n",
       "      <td>0.788</td>\n",
       "      <td>0.756</td>\n",
       "      <td>0.719</td>\n",
       "      <td>0.780</td>\n",
       "      <td>0.047</td>\n",
       "      <td>3</td>\n",
       "    </tr>\n",
       "    <tr>\n",
       "      <th>16</th>\n",
       "      <td>0.474</td>\n",
       "      <td>0.003</td>\n",
       "      <td>0.044</td>\n",
       "      <td>0.003</td>\n",
       "      <td>3</td>\n",
       "      <td>log2</td>\n",
       "      <td>100</td>\n",
       "      <td>{'max_depth': 3, 'max_features': 'log2', 'n_es...</td>\n",
       "      <td>0.862</td>\n",
       "      <td>0.775</td>\n",
       "      <td>0.788</td>\n",
       "      <td>0.756</td>\n",
       "      <td>0.719</td>\n",
       "      <td>0.780</td>\n",
       "      <td>0.047</td>\n",
       "      <td>3</td>\n",
       "    </tr>\n",
       "    <tr>\n",
       "      <th>17</th>\n",
       "      <td>0.739</td>\n",
       "      <td>0.024</td>\n",
       "      <td>0.074</td>\n",
       "      <td>0.010</td>\n",
       "      <td>3</td>\n",
       "      <td>log2</td>\n",
       "      <td>150</td>\n",
       "      <td>{'max_depth': 3, 'max_features': 'log2', 'n_es...</td>\n",
       "      <td>0.862</td>\n",
       "      <td>0.775</td>\n",
       "      <td>0.781</td>\n",
       "      <td>0.756</td>\n",
       "      <td>0.719</td>\n",
       "      <td>0.779</td>\n",
       "      <td>0.047</td>\n",
       "      <td>5</td>\n",
       "    </tr>\n",
       "  </tbody>\n",
       "</table>\n",
       "</div>"
      ],
      "text/plain": [
       "    mean_fit_time  std_fit_time  mean_score_time  std_score_time  \\\n",
       "15          0.247         0.005            0.025           0.002   \n",
       "12          0.240         0.008            0.028           0.004   \n",
       "13          0.465         0.007            0.043           0.003   \n",
       "16          0.474         0.003            0.044           0.003   \n",
       "17          0.739         0.024            0.074           0.010   \n",
       "\n",
       "   param_max_depth param_max_features param_n_estimators  \\\n",
       "15               3               log2                 50   \n",
       "12               3               sqrt                 50   \n",
       "13               3               sqrt                100   \n",
       "16               3               log2                100   \n",
       "17               3               log2                150   \n",
       "\n",
       "                                               params  split0_test_score  \\\n",
       "15  {'max_depth': 3, 'max_features': 'log2', 'n_es...              0.862   \n",
       "12  {'max_depth': 3, 'max_features': 'sqrt', 'n_es...              0.862   \n",
       "13  {'max_depth': 3, 'max_features': 'sqrt', 'n_es...              0.862   \n",
       "16  {'max_depth': 3, 'max_features': 'log2', 'n_es...              0.862   \n",
       "17  {'max_depth': 3, 'max_features': 'log2', 'n_es...              0.862   \n",
       "\n",
       "    split1_test_score  split2_test_score  split3_test_score  \\\n",
       "15              0.775              0.788              0.775   \n",
       "12              0.775              0.788              0.775   \n",
       "13              0.775              0.788              0.756   \n",
       "16              0.775              0.788              0.756   \n",
       "17              0.775              0.781              0.756   \n",
       "\n",
       "    split4_test_score  mean_test_score  std_test_score  rank_test_score  \n",
       "15              0.719            0.784           0.046                1  \n",
       "12              0.719            0.784           0.046                1  \n",
       "13              0.719            0.780           0.047                3  \n",
       "16              0.719            0.780           0.047                3  \n",
       "17              0.719            0.779           0.047                5  "
      ]
     },
     "execution_count": 58,
     "metadata": {},
     "output_type": "execute_result"
    }
   ],
   "source": [
    "tuning_results = pd.DataFrame(models[best_index].cv_results_).sort_values('rank_test_score')\n",
    "\n",
    "tuning_results.round(3).head(5)"
   ]
  },
  {
   "cell_type": "markdown",
   "metadata": {},
   "source": [
    "This DataFrame shows the results of each hyperparameter combination we investigated earlier for our best model, sorted in descending order by best rank_test_score (which is really just the ranking based on the mean_test_score column [i.e., balanced accuracy from the model fitting process we conducted earlier]).\n",
    "\n",
    "Note that here we are only looking at the head of the DataFrame. In reality, there are 27 rows to represent the combination of all the different features we explored (i.e., max_depth [2, 3, 4] x max_features [None, sqrt, log2] x n_estimators [50, 100, 150] = 3 * 3 * 3 = 27 total):"
   ]
  },
  {
   "cell_type": "code",
   "execution_count": 59,
   "metadata": {},
   "outputs": [
    {
     "data": {
      "text/plain": [
       "27"
      ]
     },
     "execution_count": 59,
     "metadata": {},
     "output_type": "execute_result"
    }
   ],
   "source": [
    "len(tuning_results)"
   ]
  },
  {
   "cell_type": "markdown",
   "metadata": {},
   "source": [
    "Now let's plot a confusion matrix for our top model:"
   ]
  },
  {
   "cell_type": "code",
   "execution_count": 60,
   "metadata": {},
   "outputs": [
    {
     "data": {
      "text/plain": [
       "<sklearn.metrics._plot.confusion_matrix.ConfusionMatrixDisplay at 0x12abb9fa0>"
      ]
     },
     "execution_count": 60,
     "metadata": {},
     "output_type": "execute_result"
    },
    {
     "data": {
      "image/png": "[encoded data removed]",
      "text/plain": [
       "<Figure size 504x432 with 2 Axes>"
      ]
     },
     "metadata": {},
     "output_type": "display_data"
    }
   ],
   "source": [
    "# note: for a simple printed matrix, you can use:\n",
    "# confusion_matrix(y_test, preds[best_index])\n",
    "\n",
    "ConfusionMatrixDisplay.from_estimator(models[best_index], \n",
    "                                      X_test, \n",
    "                                      y_test,\n",
    "                                      cmap = plt.cm.Blues,\n",
    "                                      values_format = 'd',\n",
    "                                      display_labels = labels)"
   ]
  },
  {
   "cell_type": "markdown",
   "metadata": {},
   "source": [
    "Using the confusion matrix and various formulas, we can compute a variety of additional [metrics](https://scikit-learn.org/stable/modules/model_evaluation.html#scoring-parameter) regarding our model. For example, we can compute a variety of metrics by hand using basic formulas:"
   ]
  },
  {
   "cell_type": "code",
   "execution_count": 61,
   "metadata": {},
   "outputs": [
    {
     "data": {
      "text/html": [
       "<div>\n",
       "<style scoped>\n",
       "    .dataframe tbody tr th:only-of-type {\n",
       "        vertical-align: middle;\n",
       "    }\n",
       "\n",
       "    .dataframe tbody tr th {\n",
       "        vertical-align: top;\n",
       "    }\n",
       "\n",
       "    .dataframe thead th {\n",
       "        text-align: right;\n",
       "    }\n",
       "</style>\n",
       "<table border=\"1\" class=\"dataframe\">\n",
       "  <thead>\n",
       "    <tr style=\"text-align: right;\">\n",
       "      <th></th>\n",
       "      <th>Sensitivity</th>\n",
       "      <th>Specificity</th>\n",
       "      <th>Positive Predictive Value</th>\n",
       "      <th>Negative Predictive Value</th>\n",
       "      <th>F1 Score</th>\n",
       "      <th>Accuracy</th>\n",
       "      <th>Balanced Accuracy</th>\n",
       "    </tr>\n",
       "  </thead>\n",
       "  <tbody>\n",
       "    <tr>\n",
       "      <th>0</th>\n",
       "      <td>0.73</td>\n",
       "      <td>0.815</td>\n",
       "      <td>0.709</td>\n",
       "      <td>0.83</td>\n",
       "      <td>0.719</td>\n",
       "      <td>0.782</td>\n",
       "      <td>0.772</td>\n",
       "    </tr>\n",
       "  </tbody>\n",
       "</table>\n",
       "</div>"
      ],
      "text/plain": [
       "   Sensitivity  Specificity  Positive Predictive Value  \\\n",
       "0         0.73        0.815                      0.709   \n",
       "\n",
       "   Negative Predictive Value  F1 Score  Accuracy  Balanced Accuracy  \n",
       "0                       0.83     0.719     0.782              0.772  "
      ]
     },
     "execution_count": 61,
     "metadata": {},
     "output_type": "execute_result"
    }
   ],
   "source": [
    "TP = 73  # True Positive\n",
    "TN = 132 # True Negative\n",
    "FP = 30  # False Positive\n",
    "FN = 27  # False Negative\n",
    "\n",
    "test_metrics = pd.DataFrame({\n",
    "    'Sensitivity': [TP/(TP+FN)], \n",
    "    'Specificity': [TN/(TN+FP)], \n",
    "    'Positive Predictive Value': [TP/(TP+FP)], \n",
    "    'Negative Predictive Value': [TN/(TN+FN)], \n",
    "    'F1 Score': [TP/(TP+.5*(FP+FN))], \n",
    "    'Accuracy': [(TP+TN)/(TP+TN+FP+FN)]})\n",
    "\n",
    "test_metrics['Balanced Accuracy'] = np.mean([test_metrics.Sensitivity, test_metrics.Specificity])\n",
    "\n",
    "test_metrics.round(3)"
   ]
  },
  {
   "cell_type": "markdown",
   "metadata": {},
   "source": [
    "Unsurprisingly, these calculations line up perfectly with some we've already calculated previously. For example, compare the balanced accuracy metric shown above to the one we initially looked at right after model fitting:"
   ]
  },
  {
   "cell_type": "code",
   "execution_count": 62,
   "metadata": {},
   "outputs": [
    {
     "data": {
      "text/plain": [
       "Classifier           Random Forest\n",
       "Balanced Accuracy         0.772407\n",
       "Name: 2, dtype: object"
      ]
     },
     "execution_count": 62,
     "metadata": {},
     "output_type": "execute_result"
    }
   ],
   "source": [
    "results.loc[best_index, ['Classifier', 'Balanced Accuracy']]"
   ]
  },
  {
   "cell_type": "markdown",
   "metadata": {},
   "source": [
    "This calculation was made using the [***balanced_accuracy_score***](https://scikit-learn.org/stable/modules/generated/sklearn.metrics.balanced_accuracy_score.html#sklearn.metrics.balanced_accuracy_score) function, and several other predefined [model evaluation](https://scikit-learn.org/stable/modules/model_evaluation.html) functions are also available to quickly calculate a variety of useful metrics. For example:"
   ]
  },
  {
   "cell_type": "code",
   "execution_count": 63,
   "metadata": {},
   "outputs": [
    {
     "data": {
      "text/plain": [
       "0.73"
      ]
     },
     "execution_count": 63,
     "metadata": {},
     "output_type": "execute_result"
    }
   ],
   "source": [
    "# sensitivity (i.e., recall for the positive class)\n",
    "recall_score(y_test, preds[best_index], pos_label = 1).round(3)"
   ]
  },
  {
   "cell_type": "code",
   "execution_count": 64,
   "metadata": {},
   "outputs": [
    {
     "data": {
      "text/plain": [
       "0.815"
      ]
     },
     "execution_count": 64,
     "metadata": {},
     "output_type": "execute_result"
    }
   ],
   "source": [
    "# specificity (i.e., recall for the negative class)\n",
    "recall_score(y_test, preds[best_index], pos_label = 0).round(3)"
   ]
  },
  {
   "cell_type": "code",
   "execution_count": 65,
   "metadata": {},
   "outputs": [
    {
     "data": {
      "text/plain": [
       "0.719"
      ]
     },
     "execution_count": 65,
     "metadata": {},
     "output_type": "execute_result"
    }
   ],
   "source": [
    "# f1 score\n",
    "f1_score(y_test, preds[best_index], pos_label = 1).round(3)"
   ]
  },
  {
   "cell_type": "code",
   "execution_count": 66,
   "metadata": {},
   "outputs": [
    {
     "data": {
      "text/plain": [
       "0.782"
      ]
     },
     "execution_count": 66,
     "metadata": {},
     "output_type": "execute_result"
    }
   ],
   "source": [
    "# accuracy\n",
    "accuracy_score(y_test, preds[best_index]).round(3)"
   ]
  },
  {
   "cell_type": "code",
   "execution_count": 67,
   "metadata": {},
   "outputs": [
    {
     "data": {
      "text/plain": [
       "0.772"
      ]
     },
     "execution_count": 67,
     "metadata": {},
     "output_type": "execute_result"
    }
   ],
   "source": [
    "# balanced accuracy\n",
    "balanced_accuracy_score(y_test, preds[best_index]).round(3)"
   ]
  },
  {
   "cell_type": "markdown",
   "metadata": {},
   "source": [
    "To see a number of these evaluation metrics all at once, you can generate a classification report:"
   ]
  },
  {
   "cell_type": "code",
   "execution_count": 68,
   "metadata": {},
   "outputs": [
    {
     "name": "stdout",
     "output_type": "stream",
     "text": [
      "              precision    recall  f1-score   support\n",
      "\n",
      "           0      0.830     0.815     0.822       162\n",
      "           1      0.709     0.730     0.719       100\n",
      "\n",
      "    accuracy                          0.782       262\n",
      "   macro avg      0.769     0.772     0.771       262\n",
      "weighted avg      0.784     0.782     0.783       262\n",
      "\n"
     ]
    }
   ],
   "source": [
    "print(classification_report(y_test, preds[best_index], digits = 3))"
   ]
  },
  {
   "cell_type": "markdown",
   "metadata": {},
   "source": [
    "Finally, to better understand the model, we can also plot the most important features:"
   ]
  },
  {
   "cell_type": "code",
   "execution_count": 69,
   "metadata": {},
   "outputs": [
    {
     "data": {
      "text/plain": [
       "<AxesSubplot:xlabel='importance', ylabel='feature'>"
      ]
     },
     "execution_count": 69,
     "metadata": {},
     "output_type": "execute_result"
    },
    {
     "data": {
      "image/png": "[encoded data removed]",
      "text/plain": [
       "<Figure size 504x432 with 1 Axes>"
      ]
     },
     "metadata": {},
     "output_type": "display_data"
    }
   ],
   "source": [
    "# for models with feature importances\n",
    "if hasattr(models[best_index].best_estimator_, 'feature_importances_'):\n",
    "    var_imp = pd.DataFrame({\n",
    "        'feature': X_test.columns, \n",
    "        'importance': models[best_index].best_estimator_.feature_importances_}).sort_values('importance', ascending = False)\n",
    "# for models with coefficients (directional) -- note: for interpretation and potential caveats, see https://scikit-learn.org/stable/auto_examples/inspection/plot_linear_model_coefficient_interpretation.html\n",
    "elif hasattr(models[best_index].best_estimator_, 'coef_'):\n",
    "    var_imp = pd.DataFrame({\n",
    "        'feature': X_test.columns, \n",
    "        'importance_abs': abs(models[best_index].best_estimator_.coef_[0]), \n",
    "        'importance': models[best_index].best_estimator_.coef_[0]}).sort_values('importance_abs', ascending = False)\n",
    "# for other cases raise an error\n",
    "else:\n",
    "    raise Exception('Requested model does not have feature_importances_ or coef_ attribute.')\n",
    "    \n",
    "sns.barplot(y = 'feature', \n",
    "            x = 'importance', \n",
    "            data = var_imp.head(10))"
   ]
  },
  {
   "cell_type": "markdown",
   "metadata": {},
   "source": [
    "How do these results compare to what we saw earlier?"
   ]
  },
  {
   "cell_type": "markdown",
   "metadata": {},
   "source": [
    "### Plotting Decision Trees\n",
    "\n",
    "While not our top model, let's quickly plot the decision tree model as well since sklearn makes it relatively [easy](https://scikit-learn.org/stable/modules/generated/sklearn.tree.plot_tree.html), although you'll need to install [Graphviz](https://www.graphviz.org/) outside of Python as well for this to work:"
   ]
  },
  {
   "cell_type": "code",
   "execution_count": 70,
   "metadata": {},
   "outputs": [
    {
     "data": {
      "image/svg+xml": [
       "<svg xmlns=\"http://www.w3.org/2000/svg\" xmlns:xlink=\"http://www.w3.org/1999/xlink\" width=\"1007pt\" height=\"373pt\" viewBox=\"0.00 0.00 1007.00 373.00\">\n",
       "<g id=\"graph0\" class=\"graph\" transform=\"scale(1 1) rotate(0) translate(4 369)\">\n",
       "<title>Tree</title>\n",
       "<polygon fill=\"white\" stroke=\"transparent\" points=\"-4,4 -4,-369 1003,-369 1003,4 -4,4\"/>\n",
       "<!-- 0 -->\n",
       "<g id=\"node1\" class=\"node\">\n",
       "<title>0</title>\n",
       "<polygon fill=\"#ffffff\" stroke=\"black\" points=\"552.5,-365 420.5,-365 420.5,-297 552.5,-297 552.5,-365\"/>\n",
       "<text text-anchor=\"middle\" x=\"486.5\" y=\"-349.8\" font-family=\"Helvetica,sans-Serif\" font-size=\"14.00\">sex_female &lt;= 0.5</text>\n",
       "<text text-anchor=\"middle\" x=\"486.5\" y=\"-334.8\" font-family=\"Helvetica,sans-Serif\" font-size=\"14.00\">samples = 800</text>\n",
       "<text text-anchor=\"middle\" x=\"486.5\" y=\"-319.8\" font-family=\"Helvetica,sans-Serif\" font-size=\"14.00\">value = [400, 400]</text>\n",
       "<text text-anchor=\"middle\" x=\"486.5\" y=\"-304.8\" font-family=\"Helvetica,sans-Serif\" font-size=\"14.00\">class = no</text>\n",
       "</g>\n",
       "<!-- 1 -->\n",
       "<g id=\"node2\" class=\"node\">\n",
       "<title>1</title>\n",
       "<polygon fill=\"#efb286\" stroke=\"black\" points=\"455.5,-261 327.5,-261 327.5,-193 455.5,-193 455.5,-261\"/>\n",
       "<text text-anchor=\"middle\" x=\"391.5\" y=\"-245.8\" font-family=\"Helvetica,sans-Serif\" font-size=\"14.00\">age &lt;= 13.5</text>\n",
       "<text text-anchor=\"middle\" x=\"391.5\" y=\"-230.8\" font-family=\"Helvetica,sans-Serif\" font-size=\"14.00\">samples = 480</text>\n",
       "<text text-anchor=\"middle\" x=\"391.5\" y=\"-215.8\" font-family=\"Helvetica,sans-Serif\" font-size=\"14.00\">value = [346, 134]</text>\n",
       "<text text-anchor=\"middle\" x=\"391.5\" y=\"-200.8\" font-family=\"Helvetica,sans-Serif\" font-size=\"14.00\">class = no</text>\n",
       "</g>\n",
       "<!-- 0&#45;&gt;1 -->\n",
       "<g id=\"edge1\" class=\"edge\">\n",
       "<title>0-&gt;1</title>\n",
       "<path fill=\"none\" stroke=\"black\" d=\"M455.66,-296.88C447.28,-287.89 438.11,-278.04 429.39,-268.68\"/>\n",
       "<polygon fill=\"black\" stroke=\"black\" points=\"431.89,-266.23 422.51,-261.3 426.77,-271 431.89,-266.23\"/>\n",
       "<text text-anchor=\"middle\" x=\"421.63\" y=\"-282.58\" font-family=\"Helvetica,sans-Serif\" font-size=\"14.00\">True</text>\n",
       "</g>\n",
       "<!-- 8 -->\n",
       "<g id=\"node9\" class=\"node\">\n",
       "<title>8</title>\n",
       "<polygon fill=\"#61b1ea\" stroke=\"black\" points=\"729,-261 540,-261 540,-193 729,-193 729,-261\"/>\n",
       "<text text-anchor=\"middle\" x=\"634.5\" y=\"-245.8\" font-family=\"Helvetica,sans-Serif\" font-size=\"14.00\">passengerClass_3rd &lt;= 0.5</text>\n",
       "<text text-anchor=\"middle\" x=\"634.5\" y=\"-230.8\" font-family=\"Helvetica,sans-Serif\" font-size=\"14.00\">samples = 320</text>\n",
       "<text text-anchor=\"middle\" x=\"634.5\" y=\"-215.8\" font-family=\"Helvetica,sans-Serif\" font-size=\"14.00\">value = [54, 266]</text>\n",
       "<text text-anchor=\"middle\" x=\"634.5\" y=\"-200.8\" font-family=\"Helvetica,sans-Serif\" font-size=\"14.00\">class = yes</text>\n",
       "</g>\n",
       "<!-- 0&#45;&gt;8 -->\n",
       "<g id=\"edge8\" class=\"edge\">\n",
       "<title>0-&gt;8</title>\n",
       "<path fill=\"none\" stroke=\"black\" d=\"M534.55,-296.88C548.45,-287.3 563.75,-276.76 578.11,-266.86\"/>\n",
       "<polygon fill=\"black\" stroke=\"black\" points=\"580.19,-269.68 586.44,-261.12 576.22,-263.92 580.19,-269.68\"/>\n",
       "<text text-anchor=\"middle\" x=\"581.91\" y=\"-282.01\" font-family=\"Helvetica,sans-Serif\" font-size=\"14.00\">False</text>\n",
       "</g>\n",
       "<!-- 2 -->\n",
       "<g id=\"node3\" class=\"node\">\n",
       "<title>2</title>\n",
       "<polygon fill=\"#91c9f1\" stroke=\"black\" points=\"274,-157 85,-157 85,-89 274,-89 274,-157\"/>\n",
       "<text text-anchor=\"middle\" x=\"179.5\" y=\"-141.8\" font-family=\"Helvetica,sans-Serif\" font-size=\"14.00\">passengerClass_3rd &lt;= 0.5</text>\n",
       "<text text-anchor=\"middle\" x=\"179.5\" y=\"-126.8\" font-family=\"Helvetica,sans-Serif\" font-size=\"14.00\">samples = 39</text>\n",
       "<text text-anchor=\"middle\" x=\"179.5\" y=\"-111.8\" font-family=\"Helvetica,sans-Serif\" font-size=\"14.00\">value = [12, 27]</text>\n",
       "<text text-anchor=\"middle\" x=\"179.5\" y=\"-96.8\" font-family=\"Helvetica,sans-Serif\" font-size=\"14.00\">class = yes</text>\n",
       "</g>\n",
       "<!-- 1&#45;&gt;2 -->\n",
       "<g id=\"edge2\" class=\"edge\">\n",
       "<title>1-&gt;2</title>\n",
       "<path fill=\"none\" stroke=\"black\" d=\"M327.32,-195.12C305.26,-184.51 280.33,-172.51 257.31,-161.44\"/>\n",
       "<polygon fill=\"black\" stroke=\"black\" points=\"258.78,-158.26 248.26,-157.08 255.75,-164.57 258.78,-158.26\"/>\n",
       "</g>\n",
       "<!-- 5 -->\n",
       "<g id=\"node6\" class=\"node\">\n",
       "<title>5</title>\n",
       "<polygon fill=\"#eda978\" stroke=\"black\" points=\"485,-157 298,-157 298,-89 485,-89 485,-157\"/>\n",
       "<text text-anchor=\"middle\" x=\"391.5\" y=\"-141.8\" font-family=\"Helvetica,sans-Serif\" font-size=\"14.00\">passengerClass_1st &lt;= 0.5</text>\n",
       "<text text-anchor=\"middle\" x=\"391.5\" y=\"-126.8\" font-family=\"Helvetica,sans-Serif\" font-size=\"14.00\">samples = 441</text>\n",
       "<text text-anchor=\"middle\" x=\"391.5\" y=\"-111.8\" font-family=\"Helvetica,sans-Serif\" font-size=\"14.00\">value = [334, 107]</text>\n",
       "<text text-anchor=\"middle\" x=\"391.5\" y=\"-96.8\" font-family=\"Helvetica,sans-Serif\" font-size=\"14.00\">class = no</text>\n",
       "</g>\n",
       "<!-- 1&#45;&gt;5 -->\n",
       "<g id=\"edge5\" class=\"edge\">\n",
       "<title>1-&gt;5</title>\n",
       "<path fill=\"none\" stroke=\"black\" d=\"M391.5,-192.88C391.5,-184.78 391.5,-175.98 391.5,-167.47\"/>\n",
       "<polygon fill=\"black\" stroke=\"black\" points=\"395,-167.3 391.5,-157.3 388,-167.3 395,-167.3\"/>\n",
       "</g>\n",
       "<!-- 3 -->\n",
       "<g id=\"node4\" class=\"node\">\n",
       "<title>3</title>\n",
       "<polygon fill=\"#399de5\" stroke=\"black\" points=\"105,-53 0,-53 0,0 105,0 105,-53\"/>\n",
       "<text text-anchor=\"middle\" x=\"52.5\" y=\"-37.8\" font-family=\"Helvetica,sans-Serif\" font-size=\"14.00\">samples = 16</text>\n",
       "<text text-anchor=\"middle\" x=\"52.5\" y=\"-22.8\" font-family=\"Helvetica,sans-Serif\" font-size=\"14.00\">value = [0, 16]</text>\n",
       "<text text-anchor=\"middle\" x=\"52.5\" y=\"-7.8\" font-family=\"Helvetica,sans-Serif\" font-size=\"14.00\">class = yes</text>\n",
       "</g>\n",
       "<!-- 2&#45;&gt;3 -->\n",
       "<g id=\"edge3\" class=\"edge\">\n",
       "<title>2-&gt;3</title>\n",
       "<path fill=\"none\" stroke=\"black\" d=\"M135.08,-88.95C122.17,-79.34 108.1,-68.87 95.3,-59.34\"/>\n",
       "<polygon fill=\"black\" stroke=\"black\" points=\"97.2,-56.4 87.09,-53.24 93.02,-62.01 97.2,-56.4\"/>\n",
       "</g>\n",
       "<!-- 4 -->\n",
       "<g id=\"node5\" class=\"node\">\n",
       "<title>4</title>\n",
       "<polygon fill=\"#fdf5ef\" stroke=\"black\" points=\"235.5,-53 123.5,-53 123.5,0 235.5,0 235.5,-53\"/>\n",
       "<text text-anchor=\"middle\" x=\"179.5\" y=\"-37.8\" font-family=\"Helvetica,sans-Serif\" font-size=\"14.00\">samples = 23</text>\n",
       "<text text-anchor=\"middle\" x=\"179.5\" y=\"-22.8\" font-family=\"Helvetica,sans-Serif\" font-size=\"14.00\">value = [12, 11]</text>\n",
       "<text text-anchor=\"middle\" x=\"179.5\" y=\"-7.8\" font-family=\"Helvetica,sans-Serif\" font-size=\"14.00\">class = no</text>\n",
       "</g>\n",
       "<!-- 2&#45;&gt;4 -->\n",
       "<g id=\"edge4\" class=\"edge\">\n",
       "<title>2-&gt;4</title>\n",
       "<path fill=\"none\" stroke=\"black\" d=\"M179.5,-88.95C179.5,-80.72 179.5,-71.85 179.5,-63.48\"/>\n",
       "<polygon fill=\"black\" stroke=\"black\" points=\"183,-63.24 179.5,-53.24 176,-63.24 183,-63.24\"/>\n",
       "</g>\n",
       "<!-- 6 -->\n",
       "<g id=\"node7\" class=\"node\">\n",
       "<title>6</title>\n",
       "<polygon fill=\"#eb9e66\" stroke=\"black\" points=\"373.5,-53 253.5,-53 253.5,0 373.5,0 373.5,-53\"/>\n",
       "<text text-anchor=\"middle\" x=\"313.5\" y=\"-37.8\" font-family=\"Helvetica,sans-Serif\" font-size=\"14.00\">samples = 340</text>\n",
       "<text text-anchor=\"middle\" x=\"313.5\" y=\"-22.8\" font-family=\"Helvetica,sans-Serif\" font-size=\"14.00\">value = [277, 63]</text>\n",
       "<text text-anchor=\"middle\" x=\"313.5\" y=\"-7.8\" font-family=\"Helvetica,sans-Serif\" font-size=\"14.00\">class = no</text>\n",
       "</g>\n",
       "<!-- 5&#45;&gt;6 -->\n",
       "<g id=\"edge6\" class=\"edge\">\n",
       "<title>5-&gt;6</title>\n",
       "<path fill=\"none\" stroke=\"black\" d=\"M364.22,-88.95C356.74,-79.89 348.64,-70.07 341.14,-60.99\"/>\n",
       "<polygon fill=\"black\" stroke=\"black\" points=\"343.81,-58.72 334.74,-53.24 338.41,-63.18 343.81,-58.72\"/>\n",
       "</g>\n",
       "<!-- 7 -->\n",
       "<g id=\"node8\" class=\"node\">\n",
       "<title>7</title>\n",
       "<polygon fill=\"#f9e2d2\" stroke=\"black\" points=\"505,-53 392,-53 392,0 505,0 505,-53\"/>\n",
       "<text text-anchor=\"middle\" x=\"448.5\" y=\"-37.8\" font-family=\"Helvetica,sans-Serif\" font-size=\"14.00\">samples = 101</text>\n",
       "<text text-anchor=\"middle\" x=\"448.5\" y=\"-22.8\" font-family=\"Helvetica,sans-Serif\" font-size=\"14.00\">value = [57, 44]</text>\n",
       "<text text-anchor=\"middle\" x=\"448.5\" y=\"-7.8\" font-family=\"Helvetica,sans-Serif\" font-size=\"14.00\">class = no</text>\n",
       "</g>\n",
       "<!-- 5&#45;&gt;7 -->\n",
       "<g id=\"edge7\" class=\"edge\">\n",
       "<title>5-&gt;7</title>\n",
       "<path fill=\"none\" stroke=\"black\" d=\"M411.44,-88.95C416.73,-80.17 422.47,-70.66 427.8,-61.82\"/>\n",
       "<polygon fill=\"black\" stroke=\"black\" points=\"430.81,-63.61 432.98,-53.24 424.81,-59.99 430.81,-63.61\"/>\n",
       "</g>\n",
       "<!-- 9 -->\n",
       "<g id=\"node10\" class=\"node\">\n",
       "<title>9</title>\n",
       "<polygon fill=\"#3b9ee5\" stroke=\"black\" points=\"691,-157 578,-157 578,-89 691,-89 691,-157\"/>\n",
       "<text text-anchor=\"middle\" x=\"634.5\" y=\"-141.8\" font-family=\"Helvetica,sans-Serif\" font-size=\"14.00\">age &lt;= 29.5</text>\n",
       "<text text-anchor=\"middle\" x=\"634.5\" y=\"-126.8\" font-family=\"Helvetica,sans-Serif\" font-size=\"14.00\">samples = 186</text>\n",
       "<text text-anchor=\"middle\" x=\"634.5\" y=\"-111.8\" font-family=\"Helvetica,sans-Serif\" font-size=\"14.00\">value = [2, 184]</text>\n",
       "<text text-anchor=\"middle\" x=\"634.5\" y=\"-96.8\" font-family=\"Helvetica,sans-Serif\" font-size=\"14.00\">class = yes</text>\n",
       "</g>\n",
       "<!-- 8&#45;&gt;9 -->\n",
       "<g id=\"edge9\" class=\"edge\">\n",
       "<title>8-&gt;9</title>\n",
       "<path fill=\"none\" stroke=\"black\" d=\"M634.5,-192.88C634.5,-184.78 634.5,-175.98 634.5,-167.47\"/>\n",
       "<polygon fill=\"black\" stroke=\"black\" points=\"638,-167.3 634.5,-157.3 631,-167.3 638,-167.3\"/>\n",
       "</g>\n",
       "<!-- 12 -->\n",
       "<g id=\"node13\" class=\"node\">\n",
       "<title>12</title>\n",
       "<polygon fill=\"#b7dbf5\" stroke=\"black\" points=\"882,-157 769,-157 769,-89 882,-89 882,-157\"/>\n",
       "<text text-anchor=\"middle\" x=\"825.5\" y=\"-141.8\" font-family=\"Helvetica,sans-Serif\" font-size=\"14.00\">age &lt;= 34.0</text>\n",
       "<text text-anchor=\"middle\" x=\"825.5\" y=\"-126.8\" font-family=\"Helvetica,sans-Serif\" font-size=\"14.00\">samples = 134</text>\n",
       "<text text-anchor=\"middle\" x=\"825.5\" y=\"-111.8\" font-family=\"Helvetica,sans-Serif\" font-size=\"14.00\">value = [52, 82]</text>\n",
       "<text text-anchor=\"middle\" x=\"825.5\" y=\"-96.8\" font-family=\"Helvetica,sans-Serif\" font-size=\"14.00\">class = yes</text>\n",
       "</g>\n",
       "<!-- 8&#45;&gt;12 -->\n",
       "<g id=\"edge12\" class=\"edge\">\n",
       "<title>8-&gt;12</title>\n",
       "<path fill=\"none\" stroke=\"black\" d=\"M696.51,-192.88C716.82,-182.04 739.44,-169.96 759.99,-158.98\"/>\n",
       "<polygon fill=\"black\" stroke=\"black\" points=\"761.79,-161.99 768.97,-154.19 758.5,-155.81 761.79,-161.99\"/>\n",
       "</g>\n",
       "<!-- 10 -->\n",
       "<g id=\"node11\" class=\"node\">\n",
       "<title>10</title>\n",
       "<polygon fill=\"#3d9fe6\" stroke=\"black\" points=\"628,-53 523,-53 523,0 628,0 628,-53\"/>\n",
       "<text text-anchor=\"middle\" x=\"575.5\" y=\"-37.8\" font-family=\"Helvetica,sans-Serif\" font-size=\"14.00\">samples = 91</text>\n",
       "<text text-anchor=\"middle\" x=\"575.5\" y=\"-22.8\" font-family=\"Helvetica,sans-Serif\" font-size=\"14.00\">value = [2, 89]</text>\n",
       "<text text-anchor=\"middle\" x=\"575.5\" y=\"-7.8\" font-family=\"Helvetica,sans-Serif\" font-size=\"14.00\">class = yes</text>\n",
       "</g>\n",
       "<!-- 9&#45;&gt;10 -->\n",
       "<g id=\"edge10\" class=\"edge\">\n",
       "<title>9-&gt;10</title>\n",
       "<path fill=\"none\" stroke=\"black\" d=\"M613.86,-88.95C608.38,-80.17 602.45,-70.66 596.92,-61.82\"/>\n",
       "<polygon fill=\"black\" stroke=\"black\" points=\"599.83,-59.87 591.57,-53.24 593.9,-63.57 599.83,-59.87\"/>\n",
       "</g>\n",
       "<!-- 11 -->\n",
       "<g id=\"node12\" class=\"node\">\n",
       "<title>11</title>\n",
       "<polygon fill=\"#399de5\" stroke=\"black\" points=\"751,-53 646,-53 646,0 751,0 751,-53\"/>\n",
       "<text text-anchor=\"middle\" x=\"698.5\" y=\"-37.8\" font-family=\"Helvetica,sans-Serif\" font-size=\"14.00\">samples = 95</text>\n",
       "<text text-anchor=\"middle\" x=\"698.5\" y=\"-22.8\" font-family=\"Helvetica,sans-Serif\" font-size=\"14.00\">value = [0, 95]</text>\n",
       "<text text-anchor=\"middle\" x=\"698.5\" y=\"-7.8\" font-family=\"Helvetica,sans-Serif\" font-size=\"14.00\">class = yes</text>\n",
       "</g>\n",
       "<!-- 9&#45;&gt;11 -->\n",
       "<g id=\"edge11\" class=\"edge\">\n",
       "<title>9-&gt;11</title>\n",
       "<path fill=\"none\" stroke=\"black\" d=\"M656.88,-88.95C662.89,-80.07 669.4,-70.46 675.45,-61.54\"/>\n",
       "<polygon fill=\"black\" stroke=\"black\" points=\"678.36,-63.48 681.07,-53.24 672.56,-59.55 678.36,-63.48\"/>\n",
       "</g>\n",
       "<!-- 13 -->\n",
       "<g id=\"node14\" class=\"node\">\n",
       "<title>13</title>\n",
       "<polygon fill=\"#afd8f5\" stroke=\"black\" points=\"882,-53 769,-53 769,0 882,0 882,-53\"/>\n",
       "<text text-anchor=\"middle\" x=\"825.5\" y=\"-37.8\" font-family=\"Helvetica,sans-Serif\" font-size=\"14.00\">samples = 123</text>\n",
       "<text text-anchor=\"middle\" x=\"825.5\" y=\"-22.8\" font-family=\"Helvetica,sans-Serif\" font-size=\"14.00\">value = [46, 77]</text>\n",
       "<text text-anchor=\"middle\" x=\"825.5\" y=\"-7.8\" font-family=\"Helvetica,sans-Serif\" font-size=\"14.00\">class = yes</text>\n",
       "</g>\n",
       "<!-- 12&#45;&gt;13 -->\n",
       "<g id=\"edge13\" class=\"edge\">\n",
       "<title>12-&gt;13</title>\n",
       "<path fill=\"none\" stroke=\"black\" d=\"M825.5,-88.95C825.5,-80.72 825.5,-71.85 825.5,-63.48\"/>\n",
       "<polygon fill=\"black\" stroke=\"black\" points=\"829,-63.24 825.5,-53.24 822,-63.24 829,-63.24\"/>\n",
       "</g>\n",
       "<!-- 14 -->\n",
       "<g id=\"node15\" class=\"node\">\n",
       "<title>14</title>\n",
       "<polygon fill=\"#fbeade\" stroke=\"black\" points=\"999,-53 900,-53 900,0 999,0 999,-53\"/>\n",
       "<text text-anchor=\"middle\" x=\"949.5\" y=\"-37.8\" font-family=\"Helvetica,sans-Serif\" font-size=\"14.00\">samples = 11</text>\n",
       "<text text-anchor=\"middle\" x=\"949.5\" y=\"-22.8\" font-family=\"Helvetica,sans-Serif\" font-size=\"14.00\">value = [6, 5]</text>\n",
       "<text text-anchor=\"middle\" x=\"949.5\" y=\"-7.8\" font-family=\"Helvetica,sans-Serif\" font-size=\"14.00\">class = no</text>\n",
       "</g>\n",
       "<!-- 12&#45;&gt;14 -->\n",
       "<g id=\"edge14\" class=\"edge\">\n",
       "<title>12-&gt;14</title>\n",
       "<path fill=\"none\" stroke=\"black\" d=\"M868.87,-88.95C881.47,-79.34 895.21,-68.87 907.71,-59.34\"/>\n",
       "<polygon fill=\"black\" stroke=\"black\" points=\"909.9,-62.08 915.73,-53.24 905.65,-56.51 909.9,-62.08\"/>\n",
       "</g>\n",
       "</g>\n",
       "</svg>"
      ],
      "text/plain": [
       "<IPython.core.display.SVG object>"
      ]
     },
     "execution_count": 70,
     "metadata": {},
     "output_type": "execute_result"
    }
   ],
   "source": [
    "# note that for this to work you'll need to:\n",
    "# 1) install via conda/pip the Python graphviz package(s): graphviz and possibly python-graphviz\n",
    "# 2) the Graphviz software (see https://www.graphviz.org/download/; for macOS, I suggest homebrew: https://formulae.brew.sh/formula/graphviz)\n",
    "\n",
    "from IPython.display import SVG\n",
    "from graphviz import Source\n",
    "\n",
    "DecisionTree = models[results.query('Classifier == \"Decision Tree\"').index[0]].best_estimator_\n",
    "\n",
    "graph = Source(tree.export_graphviz(DecisionTree, \n",
    "                                    out_file = None, \n",
    "                                    feature_names = X_test.columns, \n",
    "                                    class_names = list(labels.keys()), \n",
    "                                    impurity = False, \n",
    "                                    proportion = False, \n",
    "                                    filled = True))\n",
    "\n",
    "SVG(graph.pipe(format = 'svg'))"
   ]
  },
  {
   "cell_type": "markdown",
   "metadata": {},
   "source": [
    "## Comparing Methods\n",
    "\n",
    "Out of curiosity, let's compare the results of our best machine learning classifier to the logistic regression model we fit earlier. First, let's tweak the same test data using pandas for simplicity:"
   ]
  },
  {
   "cell_type": "code",
   "execution_count": 71,
   "metadata": {},
   "outputs": [
    {
     "data": {
      "text/html": [
       "<div>\n",
       "<style scoped>\n",
       "    .dataframe tbody tr th:only-of-type {\n",
       "        vertical-align: middle;\n",
       "    }\n",
       "\n",
       "    .dataframe tbody tr th {\n",
       "        vertical-align: top;\n",
       "    }\n",
       "\n",
       "    .dataframe thead th {\n",
       "        text-align: right;\n",
       "    }\n",
       "</style>\n",
       "<table border=\"1\" class=\"dataframe\">\n",
       "  <thead>\n",
       "    <tr style=\"text-align: right;\">\n",
       "      <th></th>\n",
       "      <th>survived</th>\n",
       "      <th>sex</th>\n",
       "      <th>age</th>\n",
       "      <th>passengerClass</th>\n",
       "    </tr>\n",
       "  </thead>\n",
       "  <tbody>\n",
       "    <tr>\n",
       "      <th>Risien, Mrs. Samuel (Emma)</th>\n",
       "      <td>no</td>\n",
       "      <td>female</td>\n",
       "      <td>NaN</td>\n",
       "      <td>3rd</td>\n",
       "    </tr>\n",
       "    <tr>\n",
       "      <th>Sadlier, Mr. Matthew</th>\n",
       "      <td>no</td>\n",
       "      <td>male</td>\n",
       "      <td>NaN</td>\n",
       "      <td>3rd</td>\n",
       "    </tr>\n",
       "    <tr>\n",
       "      <th>Widener, Mr. George Dunton</th>\n",
       "      <td>no</td>\n",
       "      <td>male</td>\n",
       "      <td>50.0</td>\n",
       "      <td>1st</td>\n",
       "    </tr>\n",
       "    <tr>\n",
       "      <th>Daly, Miss. Margaret Marcella</th>\n",
       "      <td>yes</td>\n",
       "      <td>female</td>\n",
       "      <td>30.0</td>\n",
       "      <td>3rd</td>\n",
       "    </tr>\n",
       "    <tr>\n",
       "      <th>Bryhl, Mr. Kurt Arnold Gottfrid</th>\n",
       "      <td>no</td>\n",
       "      <td>male</td>\n",
       "      <td>25.0</td>\n",
       "      <td>2nd</td>\n",
       "    </tr>\n",
       "  </tbody>\n",
       "</table>\n",
       "</div>"
      ],
      "text/plain": [
       "                                survived     sex   age passengerClass\n",
       "Risien, Mrs. Samuel (Emma)            no  female   NaN            3rd\n",
       "Sadlier, Mr. Matthew                  no    male   NaN            3rd\n",
       "Widener, Mr. George Dunton            no    male  50.0            1st\n",
       "Daly, Miss. Margaret Marcella        yes  female  30.0            3rd\n",
       "Bryhl, Mr. Kurt Arnold Gottfrid       no    male  25.0            2nd"
      ]
     },
     "execution_count": 71,
     "metadata": {},
     "output_type": "execute_result"
    }
   ],
   "source": [
    "Test.head() # missing data"
   ]
  },
  {
   "cell_type": "code",
   "execution_count": 72,
   "metadata": {},
   "outputs": [
    {
     "data": {
      "text/plain": [
       "age    28.0\n",
       "dtype: float64"
      ]
     },
     "metadata": {},
     "output_type": "display_data"
    },
    {
     "data": {
      "text/html": [
       "<div>\n",
       "<style scoped>\n",
       "    .dataframe tbody tr th:only-of-type {\n",
       "        vertical-align: middle;\n",
       "    }\n",
       "\n",
       "    .dataframe tbody tr th {\n",
       "        vertical-align: top;\n",
       "    }\n",
       "\n",
       "    .dataframe thead th {\n",
       "        text-align: right;\n",
       "    }\n",
       "</style>\n",
       "<table border=\"1\" class=\"dataframe\">\n",
       "  <thead>\n",
       "    <tr style=\"text-align: right;\">\n",
       "      <th></th>\n",
       "      <th>survived</th>\n",
       "      <th>sex</th>\n",
       "      <th>age</th>\n",
       "      <th>passengerClass</th>\n",
       "    </tr>\n",
       "  </thead>\n",
       "  <tbody>\n",
       "    <tr>\n",
       "      <th>Risien, Mrs. Samuel (Emma)</th>\n",
       "      <td>no</td>\n",
       "      <td>female</td>\n",
       "      <td>28.0</td>\n",
       "      <td>3rd</td>\n",
       "    </tr>\n",
       "    <tr>\n",
       "      <th>Sadlier, Mr. Matthew</th>\n",
       "      <td>no</td>\n",
       "      <td>male</td>\n",
       "      <td>28.0</td>\n",
       "      <td>3rd</td>\n",
       "    </tr>\n",
       "    <tr>\n",
       "      <th>Widener, Mr. George Dunton</th>\n",
       "      <td>no</td>\n",
       "      <td>male</td>\n",
       "      <td>50.0</td>\n",
       "      <td>1st</td>\n",
       "    </tr>\n",
       "    <tr>\n",
       "      <th>Daly, Miss. Margaret Marcella</th>\n",
       "      <td>yes</td>\n",
       "      <td>female</td>\n",
       "      <td>30.0</td>\n",
       "      <td>3rd</td>\n",
       "    </tr>\n",
       "    <tr>\n",
       "      <th>Bryhl, Mr. Kurt Arnold Gottfrid</th>\n",
       "      <td>no</td>\n",
       "      <td>male</td>\n",
       "      <td>25.0</td>\n",
       "      <td>2nd</td>\n",
       "    </tr>\n",
       "  </tbody>\n",
       "</table>\n",
       "</div>"
      ],
      "text/plain": [
       "                                survived     sex   age passengerClass\n",
       "Risien, Mrs. Samuel (Emma)            no  female  28.0            3rd\n",
       "Sadlier, Mr. Matthew                  no    male  28.0            3rd\n",
       "Widener, Mr. George Dunton            no    male  50.0            1st\n",
       "Daly, Miss. Margaret Marcella        yes  female  30.0            3rd\n",
       "Bryhl, Mr. Kurt Arnold Gottfrid       no    male  25.0            2nd"
      ]
     },
     "metadata": {},
     "output_type": "display_data"
    }
   ],
   "source": [
    "display(TrainDS.select_dtypes('number').median())\n",
    "\n",
    "TestNoNaN = Test.fillna(Train.select_dtypes('number').median()) # here we impute the train median into the test\n",
    "\n",
    "display(TestNoNaN.head()) # median imputed"
   ]
  },
  {
   "cell_type": "markdown",
   "metadata": {},
   "source": [
    "To ensure this comparison is a fair, let's refit it using just the downsampled training data for a relatively apples-to-apples comparison. Before we fit the model, let's ensure the levels are set in the desired order (similar to what we did earlier):"
   ]
  },
  {
   "cell_type": "code",
   "execution_count": 73,
   "metadata": {},
   "outputs": [],
   "source": [
    "TrainDS = TrainDS.assign(survived = pd.Categorical(TrainDS.survived, categories = ['yes', 'no']))"
   ]
  },
  {
   "cell_type": "markdown",
   "metadata": {},
   "source": [
    "Now we'll use the `mod2` we fit earlier to make predictions:"
   ]
  },
  {
   "cell_type": "code",
   "execution_count": 74,
   "metadata": {},
   "outputs": [],
   "source": [
    "mod2train = smf.glm(formula = mod2.model.formula, data = TrainDS, family = sm.families.Binomial()).fit()"
   ]
  },
  {
   "cell_type": "markdown",
   "metadata": {},
   "source": [
    "Now we'll use this refit model to generate predictions:"
   ]
  },
  {
   "cell_type": "code",
   "execution_count": 75,
   "metadata": {},
   "outputs": [
    {
     "data": {
      "text/plain": [
       "Risien, Mrs. Samuel (Emma)         0.607812\n",
       "Sadlier, Mr. Matthew               0.232358\n",
       "Widener, Mr. George Dunton         0.325471\n",
       "Daly, Miss. Margaret Marcella      0.607453\n",
       "Bryhl, Mr. Kurt Arnold Gottfrid    0.175762\n",
       "                                     ...   \n",
       "West, Mr. Edwy Arthur              0.044718\n",
       "Braf, Miss. Elin Ester Maria       0.609247\n",
       "McCoy, Mr. Bernard                 0.232358\n",
       "Kallio, Mr. Nikolai Erland         0.309957\n",
       "Carlsson, Mr. Frans Olof           0.532186\n",
       "Length: 262, dtype: float64"
      ]
     },
     "execution_count": 75,
     "metadata": {},
     "output_type": "execute_result"
    }
   ],
   "source": [
    "mod2_prob = mod2train.predict(TestNoNaN)\n",
    "mod2_prob"
   ]
  },
  {
   "cell_type": "markdown",
   "metadata": {},
   "source": [
    "These values are equivalent to prediction probabilities; to get the class labels, we can use numpy:"
   ]
  },
  {
   "cell_type": "code",
   "execution_count": 76,
   "metadata": {},
   "outputs": [
    {
     "data": {
      "text/plain": [
       "array(['yes', 'no', 'no', 'yes', 'no', 'no', 'no', 'no', 'yes', 'yes',\n",
       "       'no', 'no', 'yes', 'no', 'yes', 'yes', 'yes', 'no', 'yes', 'yes'],\n",
       "      dtype='<U3')"
      ]
     },
     "execution_count": 76,
     "metadata": {},
     "output_type": "execute_result"
    }
   ],
   "source": [
    "mod2_pred = np.where(mod2_prob >= .5, 'yes', 'no')\n",
    "\n",
    "mod2_pred[0:20]"
   ]
  },
  {
   "cell_type": "markdown",
   "metadata": {},
   "source": [
    "Now let's compare the AUC:"
   ]
  },
  {
   "cell_type": "code",
   "execution_count": 77,
   "metadata": {},
   "outputs": [
    {
     "data": {
      "text/plain": [
       "0.828"
      ]
     },
     "execution_count": 77,
     "metadata": {},
     "output_type": "execute_result"
    }
   ],
   "source": [
    "mod2_auc = roc_auc_score(y_test, mod2_prob).round(3)\n",
    "mod2_auc"
   ]
  },
  {
   "cell_type": "markdown",
   "metadata": {},
   "source": [
    "Very comparable to the machine learning models overall:"
   ]
  },
  {
   "cell_type": "code",
   "execution_count": 78,
   "metadata": {},
   "outputs": [
    {
     "data": {
      "text/html": [
       "<div>\n",
       "<style scoped>\n",
       "    .dataframe tbody tr th:only-of-type {\n",
       "        vertical-align: middle;\n",
       "    }\n",
       "\n",
       "    .dataframe tbody tr th {\n",
       "        vertical-align: top;\n",
       "    }\n",
       "\n",
       "    .dataframe thead th {\n",
       "        text-align: right;\n",
       "    }\n",
       "</style>\n",
       "<table border=\"1\" class=\"dataframe\">\n",
       "  <thead>\n",
       "    <tr style=\"text-align: right;\">\n",
       "      <th></th>\n",
       "      <th>Classifier</th>\n",
       "      <th>AUC</th>\n",
       "    </tr>\n",
       "  </thead>\n",
       "  <tbody>\n",
       "    <tr>\n",
       "      <th>2</th>\n",
       "      <td>Random Forest</td>\n",
       "      <td>0.839414</td>\n",
       "    </tr>\n",
       "    <tr>\n",
       "      <th>0</th>\n",
       "      <td>Decision Tree</td>\n",
       "      <td>0.832346</td>\n",
       "    </tr>\n",
       "    <tr>\n",
       "      <th>1</th>\n",
       "      <td>AdaBoost</td>\n",
       "      <td>0.814228</td>\n",
       "    </tr>\n",
       "  </tbody>\n",
       "</table>\n",
       "</div>"
      ],
      "text/plain": [
       "      Classifier       AUC\n",
       "2  Random Forest  0.839414\n",
       "0  Decision Tree  0.832346\n",
       "1       AdaBoost  0.814228"
      ]
     },
     "metadata": {},
     "output_type": "display_data"
    }
   ],
   "source": [
    "display(results[['Classifier', 'AUC']])"
   ]
  },
  {
   "cell_type": "markdown",
   "metadata": {},
   "source": [
    "We can also quickly check the confusion matrix using the class predictions:"
   ]
  },
  {
   "cell_type": "code",
   "execution_count": 79,
   "metadata": {},
   "outputs": [
    {
     "data": {
      "text/plain": [
       "array([[119,  43],\n",
       "       [ 24,  76]])"
      ]
     },
     "execution_count": 79,
     "metadata": {},
     "output_type": "execute_result"
    }
   ],
   "source": [
    "confusion_matrix(y_test, np.where(mod2_pred == 'yes', 1, 0)) # note: we recode yes/no to 1/0, respectively"
   ]
  },
  {
   "cell_type": "markdown",
   "metadata": {},
   "source": [
    "Finally, let's compare the ROC plots by recycling code from earlier:"
   ]
  },
  {
   "cell_type": "code",
   "execution_count": 80,
   "metadata": {},
   "outputs": [
    {
     "data": {
      "text/plain": [
       "<matplotlib.legend.Legend at 0x12add55b0>"
      ]
     },
     "execution_count": 80,
     "metadata": {},
     "output_type": "execute_result"
    },
    {
     "data": {
      "image/png": "[encoded data removed]",
      "text/plain": [
       "<Figure size 576x576 with 1 Axes>"
      ]
     },
     "metadata": {},
     "output_type": "display_data"
    }
   ],
   "source": [
    "fig, ax = Custom_ROC_Plot(results, X_test, y_test, title = 'Test AUC Comparison')\n",
    "\n",
    "mod2_FPR, mod2_TPR, _ = roc_curve(y_test, mod2_prob)\n",
    "\n",
    "pyplot.plot(mod2_FPR, \n",
    "            mod2_TPR,\n",
    "            linestyle = ':', \n",
    "            color = 'orange', \n",
    "            label = 'Custom GLM: {:.3f}'.format(mod2_auc))\n",
    "\n",
    "ax.legend()"
   ]
  }
 ],
 "metadata": {
  "kernelspec": {
   "display_name": "Python 3 (ipykernel)",
   "language": "python",
   "name": "python3"
  },
  "language_info": {
   "codemirror_mode": {
    "name": "ipython",
    "version": 3
   },
   "file_extension": ".py",
   "mimetype": "text/x-python",
   "name": "python",
   "nbconvert_exporter": "python",
   "pygments_lexer": "ipython3",
   "version": "3.9.7"
  }
 },
 "nbformat": 4,
 "nbformat_minor": 4
}

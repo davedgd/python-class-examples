{
 "cells": [
  {
   "cell_type": "code",
   "execution_count": 1,
   "id": "1d93886d-9542-492e-bb6e-e2b0662f98ac",
   "metadata": {},
   "outputs": [
    {
     "name": "stdout",
     "output_type": "stream",
     "text": [
      "fatal: destination path 'Vigogne-2-13B-Instruct-GPTQ' already exists and is not an empty directory.\n"
     ]
    }
   ],
   "source": [
    "!pip install sentencepiece safetensors --quiet\n",
    "!pip install https://github.com/jllllll/exllama/releases/download/0.0.9/exllama-0.0.9+cu118-cp310-cp310-linux_x86_64.whl --quiet\n",
    "\n",
    "# you may need to install git-lfs first if you run into issues (see https://git-lfs.com/)\n",
    "!git clone https://huggingface.co/TheBloke/Vigogne-2-13B-Instruct-GPTQ"
   ]
  },
  {
   "cell_type": "code",
   "execution_count": 2,
   "id": "ca92ed35-eb32-456e-b8e7-07eee269a0f4",
   "metadata": {},
   "outputs": [],
   "source": [
    "# From https://github.com/jllllll/exllama/blob/master/example_basic.py (with minor edits)\n",
    "\n",
    "from exllama.model import ExLlama, ExLlamaCache, ExLlamaConfig\n",
    "from exllama.tokenizer import ExLlamaTokenizer\n",
    "from exllama.generator import ExLlamaGenerator\n",
    "import os, glob\n",
    "\n",
    "# Directory containing model, tokenizer, generator\n",
    "\n",
    "model_directory =  \"./Vigogne-2-13B-Instruct-GPTQ\"\n",
    "\n",
    "# Locate files we need within that directory\n",
    "\n",
    "tokenizer_path = os.path.join(model_directory, \"tokenizer.model\")\n",
    "model_config_path = os.path.join(model_directory, \"config.json\")\n",
    "st_pattern = os.path.join(model_directory, \"*.safetensors\")\n",
    "model_path = glob.glob(st_pattern)[0]\n",
    "\n",
    "# Create config, model, tokenizer and generator\n",
    "\n",
    "config = ExLlamaConfig(model_config_path)               # create config from config.json\n",
    "config.model_path = model_path                          # supply path to model weights file\n",
    "#config.set_auto_map(\"12,24\")                            # adjust as needed for dual gpu (etc.)\n",
    "\n",
    "model = ExLlama(config)                                 # create ExLlama instance and load the weights\n",
    "tokenizer = ExLlamaTokenizer(tokenizer_path)            # create tokenizer from tokenizer model file\n",
    "\n",
    "cache = ExLlamaCache(model)                             # create cache for inference\n",
    "generator = ExLlamaGenerator(model, tokenizer, cache)   # create generator"
   ]
  },
  {
   "cell_type": "code",
   "execution_count": 3,
   "id": "d6e28b94-f13d-4884-a443-5c90a8c768d9",
   "metadata": {},
   "outputs": [],
   "source": [
    "# Configure generator\n",
    "\n",
    "generator.disallow_tokens([tokenizer.eos_token_id])\n",
    "\n",
    "generator.settings.token_repetition_penalty_max = 1.2\n",
    "generator.settings.temperature = 0.95\n",
    "generator.settings.top_p = 0.65\n",
    "generator.settings.top_k = 100\n",
    "generator.settings.typical = 0.5"
   ]
  },
  {
   "cell_type": "code",
   "execution_count": 4,
   "id": "325f670c-eb0c-400a-881a-95b3e1c76136",
   "metadata": {},
   "outputs": [
    {
     "name": "stdout",
     "output_type": "stream",
     "text": [
      "In this MBA workshop about ML and AI, we will cover the following topics:\n",
      "Introduction to Machine Learning (ML) & Artificial Intelligence (AI): This session will provide an overview of what is machine learning and artificial intelligence. We’ll discuss their history, how they are used today, and some common applications.\n",
      "Data Preparation for Machine Learning: Data preparation is a critical step in any machine learning project. In this session, you will learn about data cleaning, feature engineering, and other techniques that can help improve your models.\n",
      "Supervised vs Unsupervised Learning: Supervised and unsupervised learning are two different approaches to machine learning. In this session, you will learn about the differences between these methods and when each one should be used.\n",
      "Regression Analysis with Linear Regression Models: Regression analysis is a powerful tool for predictive modeling. In this session, you will learn about linear regression models and how to use them to make predictions.\n",
      "Classification using Logistic Regression\n"
     ]
    }
   ],
   "source": [
    "# Produce a simple generation\n",
    "\n",
    "prompt = \"In this MBA workshop about ML and AI, we will\"\n",
    "print (prompt, end = \"\")\n",
    "\n",
    "output = generator.generate_simple(prompt, max_new_tokens = 200)\n",
    "\n",
    "print(output[len(prompt):])"
   ]
  }
 ],
 "metadata": {
  "kernelspec": {
   "display_name": "Python 3 (ipykernel)",
   "language": "python",
   "name": "python3"
  },
  "language_info": {
   "codemirror_mode": {
    "name": "ipython",
    "version": 3
   },
   "file_extension": ".py",
   "mimetype": "text/x-python",
   "name": "python",
   "nbconvert_exporter": "python",
   "pygments_lexer": "ipython3",
   "version": "3.10.12"
  }
 },
 "nbformat": 4,
 "nbformat_minor": 5
}

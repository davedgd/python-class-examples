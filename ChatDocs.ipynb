{
 "cells": [
  {
   "cell_type": "code",
   "execution_count": 1,
   "id": "bc32353a-3506-4319-9051-f1822d455aae",
   "metadata": {},
   "outputs": [],
   "source": [
    "!pip install chatdocs auto-gptq xformers ipywidgets --quiet\n",
    "\n",
    "# note: if you see the message 'CUDA extension not installed' while running chatdocs, try installing auto-gptq from a wheel (see https://github.com/PanQiWei/AutoGPTQ/releases/)\n",
    "# !pip install https://github.com/PanQiWei/AutoGPTQ/releases/download/v0.3.2/auto_gptq-0.3.2+cu118-cp310-cp310-linux_x86_64.whl --quiet"
   ]
  },
  {
   "cell_type": "code",
   "execution_count": 2,
   "id": "b1062256-93dc-4ba5-be74-17407bebf867",
   "metadata": {},
   "outputs": [
    {
     "name": "stdout",
     "output_type": "stream",
     "text": [
      "load INSTRUCTOR_Transformer\n",
      "max_seq_length  512\n",
      "skip module injection for FusedLlamaMLPForQuantizedModel not support integrate without triton yet.\n"
     ]
    }
   ],
   "source": [
    "with open('chatdocs.yml', 'w') as f:\n",
    "  f.write('''\n",
    "embeddings:\n",
    "  model: hkunlp/instructor-large\n",
    "\n",
    "llm: gptq\n",
    "\n",
    "gptq:\n",
    "  model: TheBloke/Vigogne-2-13B-Instruct-GPTQ\n",
    "  model_file: gptq_model-4bit-128g.safetensors\n",
    "  device: 0\n",
    "\n",
    "retriever:\n",
    "  search_kwargs:\n",
    "    k: 5\n",
    "  ''')\n",
    "\n",
    "!chatdocs download"
   ]
  },
  {
   "cell_type": "code",
   "execution_count": 3,
   "id": "4448c264-1894-4884-8e85-0d020fd68d16",
   "metadata": {},
   "outputs": [
    {
     "name": "stdout",
     "output_type": "stream",
     "text": [
      "mkdir: cannot create directory ‘db’: File exists\n",
      "Appending to existing vectorstore at db\n",
      "load INSTRUCTOR_Transformer\n",
      "max_seq_length  512\n",
      "Loading documents from db\n",
      "Loading new documents: 0it [00:00, ?it/s]\n",
      "No new documents to load\n"
     ]
    }
   ],
   "source": [
    "# note: add files via the file browser upload feature and re-run this cell if needed\n",
    "!mkdir db\n",
    "!chatdocs add db"
   ]
  },
  {
   "cell_type": "code",
   "execution_count": 4,
   "id": "e7833375-5b6b-4ff2-afdd-8f6cf04d6a4d",
   "metadata": {},
   "outputs": [
    {
     "name": "stdout",
     "output_type": "stream",
     "text": [
      "load INSTRUCTOR_Transformer\n",
      "max_seq_length  512\n",
      "skip module injection for FusedLlamaMLPForQuantizedModel not support integrate without triton yet.\n",
      " * Serving Quart app 'chatdocs.ui'\n",
      " * Environment: production\n",
      " * Please use an ASGI server (e.g. Hypercorn) directly in production\n",
      " * Debug mode: False\n",
      " * Running on http://localhost:5000 (CTRL + C to quit)\n",
      "[2023-08-03 18:32:34 -0600] [9325] [INFO] Running on http://127.0.0.1:5000 (CTRL + C to quit)\n",
      "^C\n"
     ]
    }
   ],
   "source": [
    "# note: Colab allows for entering input directly into a running code cell (Jupyter Lab does not)\n",
    "# to use the chat mode elsewhere, run it directly from a terminal; otherwise, try the ui mode\n",
    "if 'google.colab' in str(get_ipython()):\n",
    "    !chatdocs chat\n",
    "else:\n",
    "    !chatdocs ui"
   ]
  },
  {
   "cell_type": "code",
   "execution_count": null,
   "id": "ff66f540-2c44-47cb-90ee-04b8debf5e5f",
   "metadata": {},
   "outputs": [],
   "source": []
  }
 ],
 "metadata": {
  "kernelspec": {
   "display_name": "Python 3 (ipykernel)",
   "language": "python",
   "name": "python3"
  },
  "language_info": {
   "codemirror_mode": {
    "name": "ipython",
    "version": 3
   },
   "file_extension": ".py",
   "mimetype": "text/x-python",
   "name": "python",
   "nbconvert_exporter": "python",
   "pygments_lexer": "ipython3",
   "version": "3.10.12"
  }
 },
 "nbformat": 4,
 "nbformat_minor": 5
}
